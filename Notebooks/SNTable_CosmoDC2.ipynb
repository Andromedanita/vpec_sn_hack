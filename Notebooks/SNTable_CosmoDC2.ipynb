{
 "cells": [
  {
   "cell_type": "code",
   "execution_count": 1,
   "metadata": {},
   "outputs": [
    {
     "name": "stdout",
     "output_type": "stream",
     "text": [
      "Some imports failed, which implies some dependencies are missing as described below\n",
      "No module named 'mpl_toolkits.basemap'\n",
      "Visulization functions based on maps will not work\n",
      "1.2.12\n"
     ]
    }
   ],
   "source": [
    "import numpy as np\n",
    "import pandas as pd\n",
    "import snsims\n",
    "print(snsims.__version__)"
   ]
  },
  {
   "cell_type": "code",
   "execution_count": 2,
   "metadata": {},
   "outputs": [],
   "source": [
    "%matplotlib inline\n",
    "import matplotlib.pyplot as plt\n",
    "import seaborn as sns\n",
    "sns.set_style('whitegrid')"
   ]
  },
  {
   "cell_type": "code",
   "execution_count": 3,
   "metadata": {},
   "outputs": [],
   "source": [
    "from astropy.cosmology import Planck15 as cosmo\n",
    "from astropy.cosmology import FlatLambdaCDM"
   ]
  },
  {
   "cell_type": "code",
   "execution_count": 4,
   "metadata": {},
   "outputs": [],
   "source": [
    "import sncosmo"
   ]
  },
  {
   "cell_type": "code",
   "execution_count": 5,
   "metadata": {},
   "outputs": [],
   "source": [
    "DC2 = FlatLambdaCDM(H0=71, Om0=0.265, Ob0=0.0448)"
   ]
  },
  {
   "cell_type": "code",
   "execution_count": 6,
   "metadata": {},
   "outputs": [],
   "source": [
    "#GCRCatalogs.get_available_catalogs(include_default_only=False)\n",
    "#gc.cosmology"
   ]
  },
  {
   "cell_type": "code",
   "execution_count": 7,
   "metadata": {},
   "outputs": [],
   "source": [
    "import GCRCatalogs"
   ]
  },
  {
   "cell_type": "code",
   "execution_count": 8,
   "metadata": {},
   "outputs": [],
   "source": [
    "gc = GCRCatalogs.load_catalog('cosmoDC2_v0.1_test')\n",
    "#gc = GCRCatalogs.load_catalog('cosmoDC2_v0.1')"
   ]
  },
  {
   "cell_type": "code",
   "execution_count": 9,
   "metadata": {},
   "outputs": [],
   "source": [
    "gals = pd.DataFrame(gc.get_quantities(['galaxy_id','morphology/diskHalfLightRadiusArcsec','size_disk_true', 'size_bulge_true', 'diskMassStellar', \n",
    "                                       'totalMassStellar', 'ra', 'dec','redshift', 'morphology/diskMinorAxisArcsec', \n",
    "                                       'morphology/diskMinorAxisArcsec', 'morphology/spheroidMinorAxisArcsec',\n",
    "                                       'morphology/spheroidMinorAxisArcsec', 'morphology/positionAngle', \n",
    "                                       'morphology/spheroidHalfLightRadiusArcsec','position_x','position_y','position_z']))"
   ]
  },
  {
   "cell_type": "code",
   "execution_count": 13,
   "metadata": {},
   "outputs": [],
   "source": [
    "xx = np.unique(gals['galaxy_id'])\n",
    "pp = np.where(gals['galaxy_id'] == xx[0])"
   ]
  },
  {
   "cell_type": "code",
   "execution_count": 29,
   "metadata": {},
   "outputs": [
    {
     "data": {
      "text/html": [
       "<div>\n",
       "<style>\n",
       "    .dataframe thead tr:only-child th {\n",
       "        text-align: right;\n",
       "    }\n",
       "\n",
       "    .dataframe thead th {\n",
       "        text-align: left;\n",
       "    }\n",
       "\n",
       "    .dataframe tbody tr th {\n",
       "        vertical-align: top;\n",
       "    }\n",
       "</style>\n",
       "<table border=\"1\" class=\"dataframe\">\n",
       "  <thead>\n",
       "    <tr style=\"text-align: right;\">\n",
       "      <th></th>\n",
       "      <th>dec</th>\n",
       "      <th>diskMassStellar</th>\n",
       "      <th>galaxy_id</th>\n",
       "      <th>morphology/diskHalfLightRadiusArcsec</th>\n",
       "      <th>morphology/diskMinorAxisArcsec</th>\n",
       "      <th>morphology/positionAngle</th>\n",
       "      <th>morphology/spheroidHalfLightRadiusArcsec</th>\n",
       "      <th>morphology/spheroidMinorAxisArcsec</th>\n",
       "      <th>position_x</th>\n",
       "      <th>position_y</th>\n",
       "      <th>position_z</th>\n",
       "      <th>ra</th>\n",
       "      <th>redshift</th>\n",
       "      <th>size_bulge_true</th>\n",
       "      <th>size_disk_true</th>\n",
       "      <th>totalMassStellar</th>\n",
       "    </tr>\n",
       "  </thead>\n",
       "  <tbody>\n",
       "    <tr>\n",
       "      <th>0</th>\n",
       "      <td>-30.135204</td>\n",
       "      <td>1.583015e+09</td>\n",
       "      <td>0</td>\n",
       "      <td>9.919187</td>\n",
       "      <td>9.881069</td>\n",
       "      <td>3.894788</td>\n",
       "      <td>6.460957</td>\n",
       "      <td>6.349892</td>\n",
       "      <td>33.372276</td>\n",
       "      <td>44.261086</td>\n",
       "      <td>-32.178566</td>\n",
       "      <td>52.984187</td>\n",
       "      <td>0.021644</td>\n",
       "      <td>6.460957</td>\n",
       "      <td>9.919188</td>\n",
       "      <td>1.793685e+10</td>\n",
       "    </tr>\n",
       "    <tr>\n",
       "      <th>1</th>\n",
       "      <td>-30.032378</td>\n",
       "      <td>4.997883e+07</td>\n",
       "      <td>1</td>\n",
       "      <td>2.233699</td>\n",
       "      <td>0.941040</td>\n",
       "      <td>98.332085</td>\n",
       "      <td>1.574325</td>\n",
       "      <td>1.482722</td>\n",
       "      <td>33.465843</td>\n",
       "      <td>44.264641</td>\n",
       "      <td>-32.079933</td>\n",
       "      <td>52.909258</td>\n",
       "      <td>0.021718</td>\n",
       "      <td>1.574325</td>\n",
       "      <td>2.233699</td>\n",
       "      <td>3.225152e+08</td>\n",
       "    </tr>\n",
       "    <tr>\n",
       "      <th>2</th>\n",
       "      <td>-30.040808</td>\n",
       "      <td>1.158037e+08</td>\n",
       "      <td>2</td>\n",
       "      <td>4.516936</td>\n",
       "      <td>1.441848</td>\n",
       "      <td>128.619049</td>\n",
       "      <td>3.009337</td>\n",
       "      <td>2.658643</td>\n",
       "      <td>33.259758</td>\n",
       "      <td>44.264366</td>\n",
       "      <td>-32.018967</td>\n",
       "      <td>53.079202</td>\n",
       "      <td>0.022176</td>\n",
       "      <td>3.009337</td>\n",
       "      <td>4.516936</td>\n",
       "      <td>3.336403e+09</td>\n",
       "    </tr>\n",
       "    <tr>\n",
       "      <th>3</th>\n",
       "      <td>-30.277000</td>\n",
       "      <td>4.270559e+08</td>\n",
       "      <td>3</td>\n",
       "      <td>3.198411</td>\n",
       "      <td>2.135988</td>\n",
       "      <td>6.036642</td>\n",
       "      <td>2.156365</td>\n",
       "      <td>2.043655</td>\n",
       "      <td>33.343285</td>\n",
       "      <td>44.211601</td>\n",
       "      <td>-32.328987</td>\n",
       "      <td>52.977314</td>\n",
       "      <td>0.021256</td>\n",
       "      <td>2.156365</td>\n",
       "      <td>3.198411</td>\n",
       "      <td>5.271975e+08</td>\n",
       "    </tr>\n",
       "    <tr>\n",
       "      <th>4</th>\n",
       "      <td>-34.256402</td>\n",
       "      <td>7.540549e+07</td>\n",
       "      <td>4</td>\n",
       "      <td>5.322864</td>\n",
       "      <td>4.223814</td>\n",
       "      <td>30.911007</td>\n",
       "      <td>3.069553</td>\n",
       "      <td>3.059789</td>\n",
       "      <td>28.199570</td>\n",
       "      <td>34.384472</td>\n",
       "      <td>-30.285257</td>\n",
       "      <td>50.643961</td>\n",
       "      <td>0.017618</td>\n",
       "      <td>3.069552</td>\n",
       "      <td>5.322864</td>\n",
       "      <td>1.113713e+08</td>\n",
       "    </tr>\n",
       "  </tbody>\n",
       "</table>\n",
       "</div>"
      ],
      "text/plain": [
       "         dec  diskMassStellar  galaxy_id  \\\n",
       "0 -30.135204     1.583015e+09          0   \n",
       "1 -30.032378     4.997883e+07          1   \n",
       "2 -30.040808     1.158037e+08          2   \n",
       "3 -30.277000     4.270559e+08          3   \n",
       "4 -34.256402     7.540549e+07          4   \n",
       "\n",
       "   morphology/diskHalfLightRadiusArcsec  morphology/diskMinorAxisArcsec  \\\n",
       "0                              9.919187                        9.881069   \n",
       "1                              2.233699                        0.941040   \n",
       "2                              4.516936                        1.441848   \n",
       "3                              3.198411                        2.135988   \n",
       "4                              5.322864                        4.223814   \n",
       "\n",
       "   morphology/positionAngle  morphology/spheroidHalfLightRadiusArcsec  \\\n",
       "0                  3.894788                                  6.460957   \n",
       "1                 98.332085                                  1.574325   \n",
       "2                128.619049                                  3.009337   \n",
       "3                  6.036642                                  2.156365   \n",
       "4                 30.911007                                  3.069553   \n",
       "\n",
       "   morphology/spheroidMinorAxisArcsec  position_x  position_y  position_z  \\\n",
       "0                            6.349892   33.372276   44.261086  -32.178566   \n",
       "1                            1.482722   33.465843   44.264641  -32.079933   \n",
       "2                            2.658643   33.259758   44.264366  -32.018967   \n",
       "3                            2.043655   33.343285   44.211601  -32.328987   \n",
       "4                            3.059789   28.199570   34.384472  -30.285257   \n",
       "\n",
       "          ra  redshift  size_bulge_true  size_disk_true  totalMassStellar  \n",
       "0  52.984187  0.021644         6.460957        9.919188      1.793685e+10  \n",
       "1  52.909258  0.021718         1.574325        2.233699      3.225152e+08  \n",
       "2  53.079202  0.022176         3.009337        4.516936      3.336403e+09  \n",
       "3  52.977314  0.021256         2.156365        3.198411      5.271975e+08  \n",
       "4  50.643961  0.017618         3.069552        5.322864      1.113713e+08  "
      ]
     },
     "execution_count": 29,
     "metadata": {},
     "output_type": "execute_result"
    }
   ],
   "source": [
    "gals.head()"
   ]
  },
  {
   "cell_type": "code",
   "execution_count": 25,
   "metadata": {},
   "outputs": [
    {
     "data": {
      "text/html": [
       "<div>\n",
       "<style>\n",
       "    .dataframe thead tr:only-child th {\n",
       "        text-align: right;\n",
       "    }\n",
       "\n",
       "    .dataframe thead th {\n",
       "        text-align: left;\n",
       "    }\n",
       "\n",
       "    .dataframe tbody tr th {\n",
       "        vertical-align: top;\n",
       "    }\n",
       "</style>\n",
       "<table border=\"1\" class=\"dataframe\">\n",
       "  <thead>\n",
       "    <tr style=\"text-align: right;\">\n",
       "      <th></th>\n",
       "      <th>dec</th>\n",
       "      <th>diskMassStellar</th>\n",
       "      <th>galaxy_id</th>\n",
       "      <th>morphology/diskHalfLightRadiusArcsec</th>\n",
       "      <th>morphology/diskMinorAxisArcsec</th>\n",
       "      <th>morphology/positionAngle</th>\n",
       "      <th>morphology/spheroidHalfLightRadiusArcsec</th>\n",
       "      <th>morphology/spheroidMinorAxisArcsec</th>\n",
       "      <th>position_x</th>\n",
       "      <th>position_y</th>\n",
       "      <th>position_z</th>\n",
       "      <th>ra</th>\n",
       "      <th>redshift</th>\n",
       "      <th>size_bulge_true</th>\n",
       "      <th>size_disk_true</th>\n",
       "      <th>totalMassStellar</th>\n",
       "    </tr>\n",
       "  </thead>\n",
       "  <tbody>\n",
       "    <tr>\n",
       "      <th>0</th>\n",
       "      <td>-30.135204</td>\n",
       "      <td>1.583015e+09</td>\n",
       "      <td>0</td>\n",
       "      <td>9.919187</td>\n",
       "      <td>9.881069</td>\n",
       "      <td>3.894788</td>\n",
       "      <td>6.460957</td>\n",
       "      <td>6.349892</td>\n",
       "      <td>33.372276</td>\n",
       "      <td>44.261086</td>\n",
       "      <td>-32.178566</td>\n",
       "      <td>52.984187</td>\n",
       "      <td>0.021644</td>\n",
       "      <td>6.460957</td>\n",
       "      <td>9.919188</td>\n",
       "      <td>1.793685e+10</td>\n",
       "    </tr>\n",
       "    <tr>\n",
       "      <th>13548109</th>\n",
       "      <td>-26.951122</td>\n",
       "      <td>3.643373e+07</td>\n",
       "      <td>0</td>\n",
       "      <td>0.570043</td>\n",
       "      <td>0.151783</td>\n",
       "      <td>121.028328</td>\n",
       "      <td>0.408184</td>\n",
       "      <td>0.322267</td>\n",
       "      <td>1426.578125</td>\n",
       "      <td>1632.927734</td>\n",
       "      <td>-1102.481323</td>\n",
       "      <td>48.858493</td>\n",
       "      <td>1.041873</td>\n",
       "      <td>0.408184</td>\n",
       "      <td>0.570043</td>\n",
       "      <td>1.581905e+10</td>\n",
       "    </tr>\n",
       "    <tr>\n",
       "      <th>46878081</th>\n",
       "      <td>-31.295597</td>\n",
       "      <td>3.840556e+07</td>\n",
       "      <td>0</td>\n",
       "      <td>0.208302</td>\n",
       "      <td>0.176626</td>\n",
       "      <td>34.814911</td>\n",
       "      <td>0.131435</td>\n",
       "      <td>0.123699</td>\n",
       "      <td>2061.995605</td>\n",
       "      <td>2462.867188</td>\n",
       "      <td>-1952.645020</td>\n",
       "      <td>50.062792</td>\n",
       "      <td>2.019015</td>\n",
       "      <td>0.131435</td>\n",
       "      <td>0.208302</td>\n",
       "      <td>1.068898e+09</td>\n",
       "    </tr>\n",
       "  </tbody>\n",
       "</table>\n",
       "</div>"
      ],
      "text/plain": [
       "                dec  diskMassStellar  galaxy_id  \\\n",
       "0        -30.135204     1.583015e+09          0   \n",
       "13548109 -26.951122     3.643373e+07          0   \n",
       "46878081 -31.295597     3.840556e+07          0   \n",
       "\n",
       "          morphology/diskHalfLightRadiusArcsec  \\\n",
       "0                                     9.919187   \n",
       "13548109                              0.570043   \n",
       "46878081                              0.208302   \n",
       "\n",
       "          morphology/diskMinorAxisArcsec  morphology/positionAngle  \\\n",
       "0                               9.881069                  3.894788   \n",
       "13548109                        0.151783                121.028328   \n",
       "46878081                        0.176626                 34.814911   \n",
       "\n",
       "          morphology/spheroidHalfLightRadiusArcsec  \\\n",
       "0                                         6.460957   \n",
       "13548109                                  0.408184   \n",
       "46878081                                  0.131435   \n",
       "\n",
       "          morphology/spheroidMinorAxisArcsec   position_x   position_y  \\\n",
       "0                                   6.349892    33.372276    44.261086   \n",
       "13548109                            0.322267  1426.578125  1632.927734   \n",
       "46878081                            0.123699  2061.995605  2462.867188   \n",
       "\n",
       "           position_z         ra  redshift  size_bulge_true  size_disk_true  \\\n",
       "0          -32.178566  52.984187  0.021644         6.460957        9.919188   \n",
       "13548109 -1102.481323  48.858493  1.041873         0.408184        0.570043   \n",
       "46878081 -1952.645020  50.062792  2.019015         0.131435        0.208302   \n",
       "\n",
       "          totalMassStellar  \n",
       "0             1.793685e+10  \n",
       "13548109      1.581905e+10  \n",
       "46878081      1.068898e+09  "
      ]
     },
     "execution_count": 25,
     "metadata": {},
     "output_type": "execute_result"
    }
   ],
   "source": [
    "gals.iloc[pp]"
   ]
  },
  {
   "cell_type": "code",
   "execution_count": null,
   "metadata": {},
   "outputs": [],
   "source": [
    "#gc.list_all_quantities()"
   ]
  },
  {
   "cell_type": "markdown",
   "metadata": {},
   "source": [
    "## SN hosted in the galaxies"
   ]
  },
  {
   "cell_type": "code",
   "execution_count": 10,
   "metadata": {},
   "outputs": [],
   "source": [
    "import astropy.units as u\n",
    "from astropy.cosmology import Planck13, z_at_value"
   ]
  },
  {
   "cell_type": "markdown",
   "metadata": {},
   "source": [
    "#### Use the next part only if the redshifts are not correct\n",
    "The redshift values were incorrect for the earlier versions of DC2 so I used comoving distances to get redshifts instead since comoving distances were fine - this issue should be resolved in the later versions of DC2"
   ]
  },
  {
   "cell_type": "code",
   "execution_count": 11,
   "metadata": {},
   "outputs": [],
   "source": [
    "com_dist = np.sqrt((gals.position_x**2) + (gals.position_y**2)+(gals.position_z**2))\n",
    "\n",
    "min_indx = np.where(com_dist == np.min(com_dist ))[0][0]\n",
    "max_indx = np.where(com_dist == np.max(com_dist ))[0][0]\n",
    "\n",
    "zmin = z_at_value(DC2.comoving_distance, com_dist[min_indx] * u.Mpc)\n",
    "zmax = z_at_value(DC2.comoving_distance, com_dist[max_indx] * u.Mpc)\n",
    "\n",
    "zgrid = np.logspace(np.log10(zmin), np.log10(zmax), 50)\n",
    "cosmology = DC2\n",
    "CDgrid = cosmology.comoving_distance(zgrid)*DC2.H0/100.\n",
    "#  use interpolation to get redshifts for satellites only\n",
    "new_redshifts = np.interp(com_dist, CDgrid, zgrid)\n",
    "\n",
    "gals.redshift = new_redshifts"
   ]
  },
  {
   "cell_type": "markdown",
   "metadata": {},
   "source": [
    "#### Plotting redshift distribution"
   ]
  },
  {
   "cell_type": "code",
   "execution_count": null,
   "metadata": {},
   "outputs": [],
   "source": [
    "fig, ax = plt.subplots()\n",
    "_ = ax.hist(gals.redshift, bins=np.arange(0., 1.01, 0.01), histtype='step')"
   ]
  },
  {
   "cell_type": "code",
   "execution_count": 12,
   "metadata": {},
   "outputs": [],
   "source": [
    "zdist = snsims.PowerLawRates(rng=np.random.RandomState(1),\n",
    "                             alpha=2.6e-5,\n",
    "                             fieldArea=54,\n",
    "                             surveyDuration=10.,\n",
    "                             cosmo=DC2,\n",
    "                             zbinEdges=np.arange(0.001, 1.4, 0.02))"
   ]
  },
  {
   "cell_type": "code",
   "execution_count": 13,
   "metadata": {},
   "outputs": [],
   "source": [
    "SNPop = snsims.GMM_SALT2Params(numSN=None, zSamples=zdist.zSamples, rng=np.random.RandomState(2),\n",
    "                               mjdmin=59580, cosmo=DC2, surveyDuration=10.)"
   ]
  },
  {
   "cell_type": "code",
   "execution_count": 14,
   "metadata": {},
   "outputs": [],
   "source": [
    "MainSN = SNPop.paramSamples"
   ]
  },
  {
   "cell_type": "code",
   "execution_count": 15,
   "metadata": {},
   "outputs": [],
   "source": [
    "MainSN['random_Hosting'] = np.random.uniform(size=len(MainSN))"
   ]
  },
  {
   "cell_type": "code",
   "execution_count": 16,
   "metadata": {},
   "outputs": [],
   "source": [
    "hostedSN = MainSN.query('z < 1.0 and random_Hosting < 0.9')"
   ]
  },
  {
   "cell_type": "code",
   "execution_count": null,
   "metadata": {},
   "outputs": [],
   "source": [
    "fig, ax = plt.subplots()\n",
    "hostedSN.z.hist(histtype='step', ax=ax)\n",
    "MainSN.z.hist(histtype='step', ax=ax, color='r')"
   ]
  },
  {
   "cell_type": "code",
   "execution_count": null,
   "metadata": {},
   "outputs": [],
   "source": [
    "hostedSN.x0.describe()"
   ]
  },
  {
   "cell_type": "code",
   "execution_count": null,
   "metadata": {},
   "outputs": [],
   "source": [
    "hostedSN.query('snid ==3')"
   ]
  },
  {
   "cell_type": "code",
   "execution_count": 17,
   "metadata": {},
   "outputs": [
    {
     "name": "stdout",
     "output_type": "stream",
     "text": [
      "redshift < 0.96\n"
     ]
    }
   ],
   "source": [
    "redshiftvarx = 'redshift'\n",
    "zmaxx = 0.96\n",
    "query = '{0} < {1}'.format('redshift', zmaxx)\n",
    "gals.query(query)\n",
    "print(query)"
   ]
  },
  {
   "cell_type": "code",
   "execution_count": 18,
   "metadata": {},
   "outputs": [],
   "source": [
    "from snsims import SersicSamples"
   ]
  },
  {
   "cell_type": "code",
   "execution_count": 19,
   "metadata": {},
   "outputs": [],
   "source": [
    "class HostingSN(object):\n",
    "    \"\"\" Class to associate SN in the SN params table with hosts\n",
    "    \n",
    "    Parameters\n",
    "    ----------\n",
    "    \n",
    "    \"\"\"\n",
    "    def __init__(self,\n",
    "                 galsdf,\n",
    "                 snpops,\n",
    "                 redshiftvar='redshift',\n",
    "                 rng=np.random.RandomState(23),\n",
    "                 assignBinWidth=0.02,\n",
    "                 zmax=0.96,\n",
    "                 hostprob=0.9):\n",
    "        self.arcsec2Deg = 1.0 / 3600.\n",
    "        self.snparams = snpops.paramSamples\n",
    "        self.rng = rng\n",
    "        self.zmax = zmax\n",
    "        self.hostprob = hostprob\n",
    "        self.redshiftvar = 'redshift'\n",
    "        querystr = '{0} < {1}'.format(redshiftvar, zmax)\n",
    "        self.galsdf = galsdf.query(querystr)\n",
    "        \n",
    "        # Sample of SN split into hosted/hostless\n",
    "        hstd, hstless = self.splitByHosting(self.snparams, rng=self.rng,\n",
    "                                            hostprob=self.hostprob, zmax=self.zmax)\n",
    "        self.hostedSN = hstd\n",
    "        self.hostlessSN = hstless\n",
    "    \n",
    "        self.ss = SersicSamples(self.rng)\n",
    "    \n",
    "    @staticmethod\n",
    "    def splitByHosting(snparams, rng, hostprob=0.9, zmax=0.96):\n",
    "        \"\"\"Split the SN sample by hosting type\n",
    "        \"\"\"\n",
    "        #snparams= pops.paramSamples\n",
    "        snparams['rand_host'] = rng.uniform(size=len(snparams))\n",
    "        hosted = snparams.query('z < @zmax and rand_host < @hostprob')\n",
    "        hostlessSN = snparams.query('z >= @zmax or rand_host >= @hostprob')\n",
    "        return hosted, hostlessSN\n",
    "    \n",
    "    def assignHosts(self, binwidth=0.02):\n",
    "        \"\"\"\n",
    "        Find hosts in redshift bins of 0.02 and populate them weighting\n",
    "        them by stellar mass of host galaxies.\n",
    "        \n",
    "        Parameters\n",
    "        ----------\n",
    "        binwidth : float, defaults to 0.02\n",
    "            width of redshift bin\n",
    "        \"\"\"\n",
    "        galsdf = self.galsdf\n",
    "        self.hostedSN['zbin'] = self.hostedSN.z // binwidth\n",
    "        self.hostedSN['zbin'] = self.hostedSN.zbin.astype(np.int)\n",
    "        galsdf['zbin'] = galsdf.redshift // binwidth\n",
    "        galsdf['zbin'] = galsdf.zbin.astype(np.int)\n",
    "        \n",
    "        \n",
    "        \n",
    "        syslist = []\n",
    "\n",
    "        for zbin in self.hostedSN.zbin.unique():\n",
    "            querystring = 'zbin==@zbin'\n",
    "            hostedtmp = self.hostedSN.query(querystring)\n",
    "            numSN = hostedtmp.z.size\n",
    "            gtmp  = galsdf.query(querystring)\n",
    "            tot = gtmp.totalMassStellar.sum()\n",
    "            #return gtmp\n",
    "            #print (zbin, gtmp.totalMassStellar.sum(), tot, numSN\n",
    "            p = gtmp.totalMassStellar/tot\n",
    "            gids = np.random.choice(gtmp.reset_index().galaxy_id, size=numSN, replace=False,\n",
    "                                    p=p.values)\n",
    "            #print(len(hostedtmp), len(gids))\n",
    "            syslist.append(pd.DataFrame(dict(snid=hostedtmp.reset_index().snid, galaxy_id=gids)))\n",
    "        \n",
    "        joiner = pd.concat(syslist).set_index('snid')\n",
    "        params = self.hostedSN.set_index('snid').join(joiner).set_index('galaxy_id').join(galsdf.set_index('galaxy_id'), rsuffix='_gals')\n",
    "        #params = self.hostedSN.reset_index().set_index('snid').join(joiner).reset_index().set_index('galaxy_id').join(self.galsdf, rsuffix='_gals')\n",
    "        params.rename(columns=dict(raJ2000='raJ2000_gal', decJ2000='decJ2000_gal', redshift='z'), inplace=True)\n",
    "        k = joiner.reset_index().set_index('galaxy_id')\n",
    "        print(k.columns)\n",
    "        xx = params.join(k)\n",
    "        cols = params.columns\n",
    "        dropcols = ['index', 'z', 'zbin', 'zbin_gals', 'rand_host'] #+ list(a for a in cols if 'zbin' not in a)\n",
    "        keepcols = list(col for col in cols if col not in dropcols)\n",
    "        #xx = joiner.reset_index().set_index('galaxy_id').join(params)\n",
    "        return joiner, xx#[keepcols]\n",
    "        #return gtmp\n",
    "    \n",
    "    def write(self, paramsdf, fname, ftype='hdf'):\n",
    "        if ftype == 'hdf':\n",
    "            paramsdf.to_hdf(fname, key='0')\n",
    "        return\n",
    "    #def sampleAngles(df, a, b):\n",
    "    #    return self.ss.sampleAngles(df[a], df[b])[0]\n",
    "    @property\n",
    "    def get_positions(self, paramsdf, rng, disk_a='size_disk_true', disk_b='morphology/diskMinorAxisArcsec',\n",
    "                      bulge_a='size_disk_true', bulge_b='morphology/spheroidMinorAxisArcsec',\n",
    "                      diskhalfLight='morphology/diskHalfLightRadiusArcsec',\n",
    "                      bulgehalfLight='morphology/spheroidHalfLightRadiusArcsec',\n",
    "                      positionAngle='morphology/positionAngle'):\n",
    "        \"\"\"\n",
    "        Obtain ra dec of the SN and add it to the parameter table\n",
    "        \"\"\"\n",
    "        paramsdf['rand_SM'] = rng.uniform(size=len(paramsdf))\n",
    "        paramsdf['diskmassratio'] = paramsdf['diskMassStellar'] / paramsdf['totalMassStellar']\n",
    "        paramsdf['inDisk'] = paramsdf['diskmassratio'] > paramsdf['rand_SM']\n",
    "        paramsdf.inDisk = paramsdf.inDisk.astype(np.int)\n",
    "        x = paramsdf['inDisk']\n",
    "        # Add angle samples\n",
    "        paramsdf['diskAngle'] = self.ss.sampleAngles(paramsdf[disk_a], paramsdf[disk_b], numSamples=len(paramsdf))\n",
    "        paramsdf['bulgeAngle'] = self.ss.sampleAngles(paramsdf[bulge_a], paramsdf[bulge_b], numSamples=len(paramsdf))\n",
    "        \n",
    "        paramsdf['diskRadius'] = self.ss.sampleRadius(paramsdf[diskhalfLight], numSamples=len(paramsdf), sersicIndex=1)\n",
    "        paramsdf['bulgeRadius'] = self.ss.sampleRadius(paramsdf[bulgehalfLight], numSamples=len(paramsdf), sersicIndex=4)\n",
    "        paramsdf['theta'] = paramsdf['diskAngle'] * x + (1-x) *paramsdf['bulgeAngle'] - paramsdf[positionAngle] +90 \n",
    "        paramsdf['theta'] = np.radians(paramsdf.theta)\n",
    "        paramsdf['radial'] = paramsdf['diskRadius'] * x + paramsdf['bulgeRadius']* (1-x)\n",
    "        paramsdf['deltaRA'] = np.cos(paramsdf['theta']) * paramsdf['radial']\n",
    "        paramsdf['deltaDec'] = np.sin(paramsdf['theta']) * paramsdf['radial']\n",
    "        paramsdf['snra'] = paramsdf['raJ2000_gal'] + paramsdf['deltaRA'] * self.arcsec2Deg\n",
    "        paramsdf['sndec'] = paramsdf['decJ2000_gal'] +paramsdf['deltaDec'] * self.arcsec2Deg\n",
    "        return paramsdf.set_index('snid')"
   ]
  },
  {
   "cell_type": "code",
   "execution_count": 20,
   "metadata": {},
   "outputs": [],
   "source": [
    "hstsn = HostingSN(gals, SNPop)\n",
    "x     = hstsn.assignHosts()"
   ]
  },
  {
   "cell_type": "code",
   "execution_count": null,
   "metadata": {},
   "outputs": [],
   "source": [
    "#x[1].columns\n",
    "#x[1].to_csv('Hosted_SN_table_cosmoDC2.csv', sep=',')"
   ]
  },
  {
   "cell_type": "markdown",
   "metadata": {},
   "source": [
    "#### saving the files to be passed to OpSim_rows notebook"
   ]
  },
  {
   "cell_type": "code",
   "execution_count": 22,
   "metadata": {},
   "outputs": [],
   "source": [
    "vaaaal01 = x[1].query('z<0.1')"
   ]
  },
  {
   "cell_type": "code",
   "execution_count": 23,
   "metadata": {},
   "outputs": [],
   "source": [
    "vaaaal02 = x[1].query('z<0.2')"
   ]
  },
  {
   "cell_type": "code",
   "execution_count": 24,
   "metadata": {},
   "outputs": [],
   "source": [
    "vaaaal03 = x[1].query('z<0.3')"
   ]
  },
  {
   "cell_type": "code",
   "execution_count": 25,
   "metadata": {},
   "outputs": [],
   "source": [
    "vaaaal01.to_csv('Hosted_SN_table_cosmoDC2_test_z0.1.csv', sep=',')"
   ]
  },
  {
   "cell_type": "code",
   "execution_count": 26,
   "metadata": {},
   "outputs": [],
   "source": [
    "vaaaal02.to_csv('Hosted_SN_table_cosmoDC2_test_z0.2.csv', sep=',')"
   ]
  },
  {
   "cell_type": "code",
   "execution_count": 27,
   "metadata": {},
   "outputs": [],
   "source": [
    "vaaaal03.to_csv('Hosted_SN_table_cosmoDC2_test_z0.3.csv', sep=',')"
   ]
  },
  {
   "cell_type": "markdown",
   "metadata": {},
   "source": [
    "#### Scratch work"
   ]
  },
  {
   "cell_type": "code",
   "execution_count": null,
   "metadata": {},
   "outputs": [],
   "source": [
    "hstsn.arcsec2Deg"
   ]
  },
  {
   "cell_type": "code",
   "execution_count": null,
   "metadata": {},
   "outputs": [],
   "source": [
    "t = hstsn.get_positions(x[1], rng = np.random.RandomState(2))"
   ]
  },
  {
   "cell_type": "code",
   "execution_count": null,
   "metadata": {},
   "outputs": [],
   "source": [
    "t.deltaRA.hist(bins=np.arange(-25, 25, 0.1))"
   ]
  },
  {
   "cell_type": "code",
   "execution_count": null,
   "metadata": {},
   "outputs": [],
   "source": [
    "x[0].reset_index().set_index('galaxy_id').join(x[1])"
   ]
  },
  {
   "cell_type": "code",
   "execution_count": null,
   "metadata": {},
   "outputs": [],
   "source": [
    "x[1]['morphology/positionAngle'].hist()"
   ]
  },
  {
   "cell_type": "code",
   "execution_count": null,
   "metadata": {},
   "outputs": [],
   "source": [
    "x[1].columns"
   ]
  },
  {
   "cell_type": "code",
   "execution_count": null,
   "metadata": {},
   "outputs": [],
   "source": [
    "'snid' in x[0].reset_index().set_index('galaxy_id').columns"
   ]
  },
  {
   "cell_type": "code",
   "execution_count": null,
   "metadata": {},
   "outputs": [],
   "source": [
    "'snid' in x[1].join(x[0].set_index('galaxy_id')).columns"
   ]
  },
  {
   "cell_type": "code",
   "execution_count": null,
   "metadata": {},
   "outputs": [],
   "source": [
    "hstsn.get_positions(x[1], np.random.RandomState(1))"
   ]
  },
  {
   "cell_type": "code",
   "execution_count": null,
   "metadata": {},
   "outputs": [],
   "source": [
    "gals.head()"
   ]
  },
  {
   "cell_type": "code",
   "execution_count": null,
   "metadata": {},
   "outputs": [],
   "source": [
    "gals.query('galaxy_id ==19728327')"
   ]
  },
  {
   "cell_type": "code",
   "execution_count": null,
   "metadata": {},
   "outputs": [],
   "source": [
    "x[1].head()"
   ]
  },
  {
   "cell_type": "code",
   "execution_count": null,
   "metadata": {},
   "outputs": [],
   "source": [
    "hstsn.get_positions(x[1], rng=np.random.RandomState(1))"
   ]
  },
  {
   "cell_type": "code",
   "execution_count": null,
   "metadata": {},
   "outputs": [],
   "source": [
    "rng.uniform(size=10)"
   ]
  },
  {
   "cell_type": "code",
   "execution_count": null,
   "metadata": {},
   "outputs": [],
   "source": [
    "def get_positions(paramsdf, rng):\n",
    "        paramsdf['rand_SM'] = rng.uniform(size=len(paramsdf))\n",
    "        paramsdf['diskmassratio'] = paramsdf['diskMassStellar'] / paramsdf['totalMassStellar']\n",
    "        paramsdf['inDisk'] = paramsdf['diskmassratio'] > paramsdf['rand_SM']\n",
    "        paramsdf.inDisk = paramsdf.inDisk.astype(np.int)\n",
    "        \n",
    "        x = paramsdf['inDisk']\n",
    "        #paramsdf['eff_a'] = paramsdf['size_disk_true'] * x  + params['size_bulge_true'] * (1 - x)\n",
    "        #paramsdf['eff_b'] = paramsdf['morphology/diskMinorAxisArcsec'] * x +\\\n",
    "        #    paramsdf['morphology/spheroidMinorAxisArcsec'] * (1-x)\n",
    "        return paramsdf.reset_index().set_index('snid')"
   ]
  },
  {
   "cell_type": "code",
   "execution_count": null,
   "metadata": {},
   "outputs": [],
   "source": [
    "y = get_positions(hstsn.assignHosts()[1], np.random.RandomState(1))"
   ]
  },
  {
   "cell_type": "code",
   "execution_count": null,
   "metadata": {},
   "outputs": [],
   "source": [
    "y.plot.pie(y='inDisk')"
   ]
  },
  {
   "cell_type": "code",
   "execution_count": null,
   "metadata": {},
   "outputs": [],
   "source": [
    "x = hstsn.assignHosts()"
   ]
  },
  {
   "cell_type": "code",
   "execution_count": null,
   "metadata": {},
   "outputs": [],
   "source": [
    "hstsn.get_positions(np.random.RandomState(0), x)"
   ]
  },
  {
   "cell_type": "code",
   "execution_count": null,
   "metadata": {},
   "outputs": [],
   "source": [
    "rng = np.random.RandomState(0)"
   ]
  },
  {
   "cell_type": "code",
   "execution_count": null,
   "metadata": {},
   "outputs": [],
   "source": [
    "rng.uniform"
   ]
  },
  {
   "cell_type": "code",
   "execution_count": null,
   "metadata": {},
   "outputs": [],
   "source": [
    "x[1]#.rename(columns=dict(raJ2000='raJ2000_gal', decJ2000='decJ2000_gal'), inplace=True)"
   ]
  },
  {
   "cell_type": "code",
   "execution_count": null,
   "metadata": {},
   "outputs": [],
   "source": [
    "hstsn.galsdf.totalMassStellar.apply(np.log10).hist(histtype='step', normed=1)\n",
    "hstsn.assignHosts()[1].totalMassStellar.apply(np.log10).hist(histtype='step', normed=1)"
   ]
  },
  {
   "cell_type": "code",
   "execution_count": null,
   "metadata": {},
   "outputs": [],
   "source": [
    "hstsn.hostedSN.z.size"
   ]
  },
  {
   "cell_type": "code",
   "execution_count": null,
   "metadata": {},
   "outputs": [],
   "source": [
    "hstsn.galsdf.redshift.size"
   ]
  },
  {
   "cell_type": "code",
   "execution_count": null,
   "metadata": {},
   "outputs": [],
   "source": [
    "hstsn.hostlessSN.z.size"
   ]
  },
  {
   "cell_type": "code",
   "execution_count": null,
   "metadata": {},
   "outputs": [],
   "source": [
    "params = hstsn.assignHosts()"
   ]
  },
  {
   "cell_type": "code",
   "execution_count": null,
   "metadata": {},
   "outputs": [],
   "source": [
    "params[1].columns"
   ]
  },
  {
   "cell_type": "code",
   "execution_count": null,
   "metadata": {},
   "outputs": [],
   "source": [
    "joiner.head()"
   ]
  },
  {
   "cell_type": "code",
   "execution_count": null,
   "metadata": {},
   "outputs": [],
   "source": [
    "len(joiner)"
   ]
  },
  {
   "cell_type": "code",
   "execution_count": null,
   "metadata": {},
   "outputs": [],
   "source": [
    "hstsn.hostedSN.head()"
   ]
  },
  {
   "cell_type": "code",
   "execution_count": null,
   "metadata": {},
   "outputs": [],
   "source": [
    "hstsn.galsdf.head()"
   ]
  },
  {
   "cell_type": "code",
   "execution_count": null,
   "metadata": {},
   "outputs": [],
   "source": [
    "hstsn.hostedSN.reset_index().set_index('snid').join(joiner).set_index('galaxy_id').join(hstsn.galsdf, rsuffix='_gals').head()"
   ]
  },
  {
   "cell_type": "code",
   "execution_count": null,
   "metadata": {},
   "outputs": [],
   "source": [
    "plt.hist(zdist.zSamples, bins=np.arange(0., 1.4, 0.04))"
   ]
  },
  {
   "cell_type": "code",
   "execution_count": null,
   "metadata": {},
   "outputs": [],
   "source": [
    "from lsst.sims.utils import samplePatchOnSphere"
   ]
  },
  {
   "cell_type": "code",
   "execution_count": null,
   "metadata": {},
   "outputs": [],
   "source": [
    "gmm_dist = snsims.GMM_SALT2Params(numSN=len(zdist.zSamples), \n",
    "                                  zSamples=zdist.zSamples, \n",
    "                                  rng=np.random.RandomState(8),\n",
    "                                  cosmo=DC2,\n",
    "                                  mjdmin=59580., surveyDuration=10)"
   ]
  },
  {
   "cell_type": "code",
   "execution_count": null,
   "metadata": {},
   "outputs": [],
   "source": [
    "df = gmm_dist.paramSamples"
   ]
  },
  {
   "cell_type": "code",
   "execution_count": null,
   "metadata": {},
   "outputs": [],
   "source": [
    "df.z.hist(bins=np.arange(0., 1.4, 0.04))"
   ]
  },
  {
   "cell_type": "code",
   "execution_count": null,
   "metadata": {},
   "outputs": [],
   "source": [
    "df.x1.hist()"
   ]
  },
  {
   "cell_type": "code",
   "execution_count": null,
   "metadata": {},
   "outputs": [],
   "source": [
    "rng = np.random.RandomState(8)"
   ]
  },
  {
   "cell_type": "code",
   "execution_count": null,
   "metadata": {},
   "outputs": [],
   "source": [
    "df['t0'] = np.random.uniform(59580, 59580 + 3650., size=len(df))\n",
    "df['snid'] = df.index.values\n",
    "df.set_index('snid', inplace=True)"
   ]
  },
  {
   "cell_type": "code",
   "execution_count": null,
   "metadata": {},
   "outputs": [],
   "source": [
    "df.to_csv('sntable.csv')"
   ]
  },
  {
   "cell_type": "code",
   "execution_count": null,
   "metadata": {},
   "outputs": [],
   "source": [
    "dflowz = df.query('z < 0.95')"
   ]
  },
  {
   "cell_type": "code",
   "execution_count": null,
   "metadata": {},
   "outputs": [],
   "source": [
    "hosted = dflowz.sample(frac=0.9)"
   ]
  },
  {
   "cell_type": "code",
   "execution_count": null,
   "metadata": {},
   "outputs": [],
   "source": [
    "binwidth = 0.01\n",
    "hosted['zbin'] = hosted.z//binwidth\n",
    "g['zbin'] = g.redshift//binwidth\n",
    "g.zbin = g.zbin.astype(np.int)\n",
    "hosted.zbin = hosted.zbin.astype(np.int)"
   ]
  },
  {
   "cell_type": "code",
   "execution_count": null,
   "metadata": {},
   "outputs": [],
   "source": [
    "zbins = hosted.zbin.unique()"
   ]
  },
  {
   "cell_type": "code",
   "execution_count": null,
   "metadata": {},
   "outputs": [],
   "source": [
    "g.columns"
   ]
  },
  {
   "cell_type": "code",
   "execution_count": null,
   "metadata": {},
   "outputs": [],
   "source": [
    "hosted.head()"
   ]
  },
  {
   "cell_type": "code",
   "execution_count": null,
   "metadata": {},
   "outputs": [],
   "source": [
    "syslist = []\n",
    "\n",
    "for zbin in hosted.zbin.unique():\n",
    "    querystring = 'zbin==@zbin'\n",
    "    hostedtmp = hosted.query(querystring)\n",
    "    numSN = hostedtmp.z.size\n",
    "    gtmp  = g.query(querystring)\n",
    "    tot = gtmp.totalMassStellar.sum()\n",
    "    gids = np.random.choice(gtmp.galaxy_id, size=numSN, replace=False, p=gtmp.totalMassStellar/tot)\n",
    "    print(len(hostedtmp), len(gids))\n",
    "    syslist.append(pd.DataFrame(dict(snid=hostedtmp.reset_index().snid, galaxy_id=gids)))\n",
    "    joiner = pd.concat(syslist).set_index('snid')\n",
    "    return joiner"
   ]
  },
  {
   "cell_type": "code",
   "execution_count": null,
   "metadata": {},
   "outputs": [],
   "source": [
    "joiner = pd.concat(syslist).set_index('snid')"
   ]
  },
  {
   "cell_type": "code",
   "execution_count": null,
   "metadata": {},
   "outputs": [],
   "source": [
    "joiner.head()"
   ]
  },
  {
   "cell_type": "code",
   "execution_count": null,
   "metadata": {},
   "outputs": [],
   "source": [
    "h = hosted.join(joiner)"
   ]
  },
  {
   "cell_type": "code",
   "execution_count": null,
   "metadata": {},
   "outputs": [],
   "source": [
    "h.head()"
   ]
  },
  {
   "cell_type": "code",
   "execution_count": null,
   "metadata": {},
   "outputs": [],
   "source": [
    "any(g.galaxy_id.isnull())"
   ]
  },
  {
   "cell_type": "code",
   "execution_count": null,
   "metadata": {},
   "outputs": [],
   "source": [
    "h.galaxy_id.unique().size -  h.galaxy_id.size"
   ]
  },
  {
   "cell_type": "code",
   "execution_count": null,
   "metadata": {},
   "outputs": [],
   "source": [
    "joiner.loc[17905]"
   ]
  },
  {
   "cell_type": "code",
   "execution_count": null,
   "metadata": {},
   "outputs": [],
   "source": [
    "joined = h.set_index('galaxy_id').join(g.set_index('galaxy_id'), rsuffix='_gal')"
   ]
  },
  {
   "cell_type": "code",
   "execution_count": null,
   "metadata": {},
   "outputs": [],
   "source": [
    "X = joined.z - joined.redshift"
   ]
  },
  {
   "cell_type": "code",
   "execution_count": null,
   "metadata": {},
   "outputs": [],
   "source": [
    "fig, ax = plt.subplots()\n",
    "_ = joined.totalMassStellar.apply(np.log10).hist(ax =ax, histtype='step', normed=1, color='k')\n",
    "_ = g.totalMassStellar.apply(np.log10).hist(ax =ax, histtype='step', normed=1, color='r')"
   ]
  },
  {
   "cell_type": "code",
   "execution_count": null,
   "metadata": {},
   "outputs": [],
   "source": [
    "galprops = g.set_index('galaxy_id').join(joiner.set_index('galaxy_id'))"
   ]
  },
  {
   "cell_type": "code",
   "execution_count": null,
   "metadata": {},
   "outputs": [],
   "source": [
    "joined.columns"
   ]
  },
  {
   "cell_type": "code",
   "execution_count": null,
   "metadata": {},
   "outputs": [],
   "source": [
    "for x in ['diskMassStellar_catsim', 'zbin_gal', 'uniqueId', 'totalMassStellar_catsim']:\n",
    "    del joined[x]"
   ]
  },
  {
   "cell_type": "code",
   "execution_count": null,
   "metadata": {},
   "outputs": [],
   "source": [
    "joined.columns"
   ]
  },
  {
   "cell_type": "code",
   "execution_count": null,
   "metadata": {},
   "outputs": [],
   "source": [
    "joined.rename(columns=dict(raJ2000='raHost', decJ2000='decHost'), inplace=True)"
   ]
  },
  {
   "cell_type": "code",
   "execution_count": null,
   "metadata": {},
   "outputs": [],
   "source": [
    "joined[['c', u'mB', u'x0', u'x1', u't0', u'zbin', u'diskMassStellar',\n",
    "       u'morphology/diskMinorAxisArcsec',\n",
    "       u'morphology/spheroidMinorAxisArcsec', u'totalMassStellar', u'raHost', u'decHost',\n",
    "       u'redshift']].to_csv('SNWithHost')\n",
    "joiner.to_csv('galaxy_SN_map.csv')"
   ]
  },
  {
   "cell_type": "code",
   "execution_count": null,
   "metadata": {},
   "outputs": [],
   "source": [
    "joined['random'] = np.random.Unif"
   ]
  },
  {
   "cell_type": "markdown",
   "metadata": {},
   "source": [
    "# Scratch"
   ]
  },
  {
   "cell_type": "code",
   "execution_count": null,
   "metadata": {},
   "outputs": [],
   "source": [
    "hosted.z.size"
   ]
  },
  {
   "cell_type": "code",
   "execution_count": null,
   "metadata": {},
   "outputs": [],
   "source": []
  },
  {
   "cell_type": "code",
   "execution_count": null,
   "metadata": {},
   "outputs": [],
   "source": [
    "import pandas as pd"
   ]
  },
  {
   "cell_type": "code",
   "execution_count": null,
   "metadata": {},
   "outputs": [],
   "source": [
    "gals = pd.read_csv('~/data/LSST/DC2/protDC2.csv.gz')"
   ]
  },
  {
   "cell_type": "code",
   "execution_count": null,
   "metadata": {},
   "outputs": [],
   "source": [
    "g = gals.query('redshift < 0.95')"
   ]
  },
  {
   "cell_type": "code",
   "execution_count": null,
   "metadata": {},
   "outputs": [],
   "source": [
    "df.head()"
   ]
  },
  {
   "cell_type": "code",
   "execution_count": null,
   "metadata": {},
   "outputs": [],
   "source": []
  }
 ],
 "metadata": {
  "anaconda-cloud": {},
  "kernelspec": {
   "display_name": "desc-stack",
   "language": "python",
   "name": "desc-stack"
  },
  "language_info": {
   "codemirror_mode": {
    "name": "ipython",
    "version": 3
   },
   "file_extension": ".py",
   "mimetype": "text/x-python",
   "name": "python",
   "nbconvert_exporter": "python",
   "pygments_lexer": "ipython3",
   "version": "3.6.2"
  }
 },
 "nbformat": 4,
 "nbformat_minor": 2
}
