{
 "cells": [
  {
   "cell_type": "code",
   "execution_count": 1,
   "metadata": {},
   "outputs": [],
   "source": [
    "import os\n",
    "import numpy as np\n",
    "import matplotlib.pyplot as plt\n",
    "%matplotlib inline\n",
    "import pandas as pd\n",
    "\n",
    "import sncosmo\n",
    "from   astropy.table    import Table\n",
    "from   astropy.io       import ascii\n",
    "\n",
    "from   analyzeSN import LightCurve\n",
    "import analyzeSN\n",
    "\n",
    "import lsst.sims.maf.db as db\n",
    "import lsst.sims.maf.metrics as metrics\n",
    "import lsst.sims.maf.stackers as stackers\n",
    "import lsst.sims.maf.slicers as slicers\n",
    "import lsst.sims.maf.plots as plots\n",
    "import lsst.sims.maf.metricBundles as mb"
   ]
  },
  {
   "cell_type": "markdown",
   "metadata": {},
   "source": [
    "#### This file can be replaced with any of the opsim files"
   ]
  },
  {
   "cell_type": "code",
   "execution_count": 2,
   "metadata": {},
   "outputs": [],
   "source": [
    "opsfilename = 'minion_1016_newsky.db'\n",
    "opsdb       = db.OpsimDatabase(opsfilename)\n",
    "\n",
    "simdata = opsdb.query_columns(opsdb.defaultTable, \n",
    "                              colnames=['fieldRA', 'fieldDec', 'filter', 'night', 'visitTime', 'airmass', 'filtSkyBrightness', 'expMJD', 'fiveSigmaDepth'], \n",
    "                              sqlconstraint=None)"
   ]
  },
  {
   "cell_type": "markdown",
   "metadata": {},
   "source": [
    "### Putting OpSim columns in arrays to make it easier to work with"
   ]
  },
  {
   "cell_type": "code",
   "execution_count": 3,
   "metadata": {},
   "outputs": [],
   "source": [
    "ra_array      = np.zeros(len(simdata))\n",
    "dec_array     = np.zeros(len(simdata))\n",
    "airmass_array = np.zeros(len(simdata))\n",
    "time_array    = np.zeros(len(simdata))\n",
    "sigmadepth    = np.zeros(len(simdata))\n",
    "\n",
    "# creating empty array for strings for filter names\n",
    "val           = [''] * len(simdata)\n",
    "filter_array  = np.array(val)\n",
    "\n",
    "for i in range(len(simdata)):\n",
    "    ra_array[i]      = simdata[i][0] # right ascension\n",
    "    dec_array[i]     = simdata[i][1] # declination\n",
    "    filter_array[i]  = simdata[i][2] # filters\n",
    "    time_array[i]    = simdata[i][7] # time should be expMJD\n",
    "    airmass_array[i] = simdata[i][5] # airmass\n",
    "    sigmadepth[i]    = simdata[i][8] # 5 sigma depth"
   ]
  },
  {
   "cell_type": "markdown",
   "metadata": {},
   "source": [
    "#### Setting the filename of sampled supernova parameters. \n",
    "This file is obtained by running SNTable notebook that Rahul has. It has (x0,x1,c,t0,z) and host galaxy information. t0 is the peak magnitude time of each supernova."
   ]
  },
  {
   "cell_type": "code",
   "execution_count": 5,
   "metadata": {},
   "outputs": [],
   "source": [
    "#filename = \"/global/homes/a/anitab/DC2_run1p1_TransientDocs/Notebooks/Hosted_SN_table.csv\"\n",
    "filename = \"/global/homes/a/anitab/DC2_run1p1_TransientDocs/Notebooks/Hosted_SN_table_cosmoDC2_test.csv\"\n",
    "#filename = \"/global/homes/a/anitab/DC2_run1p1_TransientDocs/Notebooks/Hosted_SN_table_cosmoDC2.csv\"\n",
    "\n",
    "from pandas import read_csv\n",
    "\n",
    "data  = read_csv(filename)#, delim_whitespace=True)\n",
    "#data = vvv['galaxy_id c mB t0 x0 x1 z random_Hosting rand_host zbin \"Unnamed: 0\" diskMassStellar morphology/diskHalfLightRadiusArcsec morphology/diskMinorAxisArcsec morphology/positionAngle morphology/spheroidHalfLightRadiusArcsec morphology/spheroidMinorAxisArcsec size_bulge_true size_disk_true totalMassStellar uniqueId raJ2000_gal decJ2000_gal z zbin_gals snid']\n",
    "\n",
    "# uncomment this to see what columns are available\n",
    "###vvv.columns \n",
    "\n",
    "data.set_index('snid', inplace=True)\n",
    "snids = data.index.values"
   ]
  },
  {
   "cell_type": "markdown",
   "metadata": {},
   "source": [
    "### Sampled SN properties in an array\n",
    "$m_B = 10.635 - \\log_{10}(x0)$"
   ]
  },
  {
   "cell_type": "code",
   "execution_count": null,
   "metadata": {},
   "outputs": [],
   "source": [
    "'''\n",
    "zvals   = data.z.values\n",
    "x0vals  = data.x0.values\n",
    "x1vals  = data.x1.values\n",
    "cvals   = data.c.values\n",
    "mBvals  = data.mB.values\n",
    "t0vals  = data.t0.values\n",
    "smass   = data.totalMassStellar.values\n",
    "ravals  = data.raJ2000_gal.values\n",
    "decvals = data.decJ2000_gal.values\n",
    "\n",
    "snids = data.index.values\n",
    "'''"
   ]
  },
  {
   "cell_type": "code",
   "execution_count": 8,
   "metadata": {},
   "outputs": [],
   "source": [
    "z_condition = 'z < 0.1'\n",
    "\n",
    "zvals   = data.loc[snids].query(z_condition).z.values\n",
    "x0vals  = data.loc[snids].query(z_condition).x0.values\n",
    "x1vals  = data.loc[snids].query(z_condition).x1.values\n",
    "cvals   = data.loc[snids].query(z_condition).c.values\n",
    "mBvals  = data.loc[snids].query(z_condition).mB.values\n",
    "t0vals  = data.loc[snids].query(z_condition).t0.values\n",
    "smass   = data.loc[snids].query(z_condition).totalMassStellar.values\n",
    "ravals  = data.loc[snids].query(z_condition).ra.values\n",
    "decvals = data.loc[snids].query(z_condition).dec.values"
   ]
  },
  {
   "cell_type": "code",
   "execution_count": 9,
   "metadata": {},
   "outputs": [],
   "source": [
    "snids = data.loc[snids].query('z < 0.1').index.values"
   ]
  },
  {
   "cell_type": "markdown",
   "metadata": {},
   "source": [
    "### Choosing rows of OpSim based on sampled SNe"
   ]
  },
  {
   "cell_type": "code",
   "execution_count": 11,
   "metadata": {},
   "outputs": [
    {
     "name": "stdout",
     "output_type": "stream",
     "text": [
      "Some imports failed, which implies some dependencies are missing as described below\n",
      "No module named 'mpl_toolkits.basemap'\n",
      "Visulization functions based on maps will not work\n",
      "1.16.1\n"
     ]
    }
   ],
   "source": [
    "import os\n",
    "import opsimsummary as oss\n",
    "import healpy as hp\n",
    "print(oss.__version__)"
   ]
  },
  {
   "cell_type": "code",
   "execution_count": 12,
   "metadata": {},
   "outputs": [],
   "source": [
    "from opsimsummary import SynOpSim"
   ]
  },
  {
   "cell_type": "markdown",
   "metadata": {},
   "source": [
    "I need to make sure angleUnit has 'degrees' attribute"
   ]
  },
  {
   "cell_type": "code",
   "execution_count": 13,
   "metadata": {},
   "outputs": [
    {
     "name": "stdout",
     "output_type": "stream",
     "text": [
      " reading from database sqlite:///minion_1016_newsky.db\n",
      "SELECT * FROM Summary WHERE propID in (56, 54)\n"
     ]
    }
   ],
   "source": [
    "synopsim  = SynOpSim.fromOpSimDB(opsfilename, opsimversion='lsstv3',\n",
    "                                angleUnit='degrees', usePointingTree=True)"
   ]
  },
  {
   "cell_type": "markdown",
   "metadata": {},
   "source": [
    "### Generator\n",
    "This is a Python generator function to make going through data faster. This goes through the observing file and uses Ra and Dec of sampled SNe to determine which SNe would be visible at which times."
   ]
  },
  {
   "cell_type": "code",
   "execution_count": 14,
   "metadata": {},
   "outputs": [],
   "source": [
    "gen = synopsim.pointingsEnclosing(ravals, decvals, circRadius=0., pointingRadius=1.75, usePointingTree=True)"
   ]
  },
  {
   "cell_type": "markdown",
   "metadata": {},
   "source": [
    "### Time and filters from OpSim file\n",
    "This is going through the generator and inserting times of observation and filer names in a list. After running this for loop, if we need to go through the generator again, we need to run the gen = ... line again because the generator has now gone all the way to the end. So, we need ro rerun this line:\n",
    "\n",
    "gen = synopsim.pointingsEnclosing(ravals, decvals, circRadius=0., pointingRadius=1.75, usePointingTree=True)"
   ]
  },
  {
   "cell_type": "code",
   "execution_count": 15,
   "metadata": {},
   "outputs": [],
   "source": [
    "timeopsim_list       = []\n",
    "filteropsim_list     = []\n",
    "sigmadepthopsim_list = []\n",
    "\n",
    "for i, df in enumerate(gen):\n",
    "    \n",
    "    timeopsim = df['expMJD']\n",
    "    timeopsim_list.append(timeopsim.values)\n",
    "    \n",
    "    filteropsim = df['filter']\n",
    "    filteropsim_list.append(filteropsim.values)\n",
    "    \n",
    "    sigmadepthopsim = df['fiveSigmaDepth']\n",
    "    sigmadepthopsim_list.append(sigmadepthopsim.values)\n",
    "    \n",
    "    #raopsim = df['fieldRA']\n",
    "    #raopsim_list.append(raopsim.values)\n",
    "    ###raopsim_list += raopsim.values.tolist() # this is to make the 2D array into 1D array. Not needed in general though"
   ]
  },
  {
   "cell_type": "markdown",
   "metadata": {},
   "source": [
    "### Plotting SNe and their corresponding OpSim points\n",
    "This shows supernovae as red dots and the OpSim visits as blue dots. There might be multiple visits at the same location so some points are overlapping and they are for different times."
   ]
  },
  {
   "cell_type": "code",
   "execution_count": null,
   "metadata": {},
   "outputs": [],
   "source": [
    "'''\n",
    "ifx      = np.array([21,22,23,24,25]) # subplot numbers (for turning x ticks on/off)\n",
    "ify      = np.array([1,6,11,16,21])   # subplot numbers (for turning y ticks on/off)\n",
    "\n",
    "plt.figure(1, figsize=(15,15))\n",
    "\n",
    "for i in range(25):\n",
    "    \n",
    "    plt.subplot(5,5,i+1)\n",
    "    plt.plot(np.rad2deg(decopsim_list[1000*i]), np.rad2deg(raopsim_list[1000*i]), \".\", color=\"blue\")\n",
    "    plt.plot(decvals[1000*i], ravals[1000*i], \".\", color=\"red\")\n",
    "    plt.ylim(50,60)\n",
    "    plt.xlim(-34,-24)\n",
    "    plt.tick_params(axis='both', labelleft='off', labelbottom='off')\n",
    "\n",
    "    if i+1 in ifx:\n",
    "        plt.xlabel(\"Ra [deg]\",fontsize=15)\n",
    "        plt.tick_params(axis='x', labelbottom='on')\n",
    "    if i+1 in ify:\n",
    "        plt.ylabel(\"Dec [deg]\",fontsize=15)\n",
    "        plt.tick_params(axis='y', labelleft='on')\n",
    "    \n",
    "plt.suptitle(\"SNe in red with opsim visits in blue\")\n",
    "'''"
   ]
  },
  {
   "cell_type": "markdown",
   "metadata": {},
   "source": [
    "### Checking time range of OpSim with $t_0$\n",
    "Looping over all supernova and checking the observing times corresponding to supernova location from OpSim file and adding the ones that are within (t0 - 19 < OpSimtime < t0+49 ) range. This is the SALT model time range. If the OpSim time is not within this time range, the flux calculated would be 0 and we do not get any useful information. So, I want to reduce the number of data and only work with the useful data."
   ]
  },
  {
   "cell_type": "code",
   "execution_count": 16,
   "metadata": {},
   "outputs": [],
   "source": [
    "from lsst.sims.catUtils.supernovae import SNObject\n",
    "from lsst.sims.photUtils.BandpassDict import BandpassDict\n",
    "\n",
    "# Setting the LSST BandPass object to be used in BandFlux function\n",
    "LSST_BandPass = BandpassDict.loadTotalBandpassesFromFiles()\n",
    "\n",
    "mlist     = []\n",
    "jlist_tot = []\n",
    "snids_tot = []\n",
    "\n",
    "for m in range(len(timeopsim_list)):\n",
    "    jlist = []\n",
    "    for j in range(len(timeopsim_list[m])):\n",
    "        if (timeopsim_list[m][j] > t0vals[m] -19 and timeopsim_list[m][j] < t0vals[m] + 49):\n",
    "            jlist.append(j)\n",
    "    if jlist:\n",
    "        mlist.append(m)\n",
    "        jlist_tot.append(jlist)\n",
    "        "
   ]
  },
  {
   "cell_type": "code",
   "execution_count": 17,
   "metadata": {},
   "outputs": [
    {
     "data": {
      "text/plain": [
       "(32,)"
      ]
     },
     "execution_count": 17,
     "metadata": {},
     "output_type": "execute_result"
    }
   ],
   "source": [
    "NumSN_query = np.shape(mlist)"
   ]
  },
  {
   "cell_type": "markdown",
   "metadata": {},
   "source": [
    "### Calculating the flux\n",
    "Goes through a loop for each supernova and sets the parameters for each and then calculates the flux for all the visits"
   ]
  },
  {
   "cell_type": "code",
   "execution_count": 18,
   "metadata": {},
   "outputs": [],
   "source": [
    "fluxlist_tot    = [] \n",
    "timelist_tot    = []\n",
    "fluxerrlist_tot = []\n",
    "filterlist_tot  = []\n",
    "\n",
    "# Going through each SN\n",
    "for SN_id, val in enumerate(mlist): #[:400]):\n",
    "    # setting parameters for each supernova\n",
    "    params   = {'x0': x0vals[val], 'x1': x1vals[val], 'c': cvals[val], 't0':t0vals[val], 'z':zvals[val]}\n",
    "    snobject = SNObject(ravals[val], decvals[val])\n",
    "    snobject.set(**params)\n",
    "    #snobject.set_MWebv(0.0) # Finally we should not have this\n",
    "    \n",
    "    # to make filternames what the code accepts using list comprehension to make it faster\n",
    "    filters_modified = [LSST_BandPass[key] for key in filteropsim_list[val]]\n",
    "\n",
    "    fluxlist    = []\n",
    "    timelist    = []\n",
    "    fluxerrlist = []\n",
    "    filterlist  = []\n",
    "\n",
    "    \n",
    "    # going through all the visits for each single supernova\n",
    "    for j in jlist_tot[SN_id]:\n",
    "        # flux and fluxerr\n",
    "        fluxval    = snobject.catsimBandFlux(bandpassobject = filters_modified[j], time = timeopsim_list[val][j])\n",
    "        fluxvalerr = snobject.catsimBandFluxError(bandpassobject=filters_modified[j],\n",
    "                                                  time=timeopsim_list[val][j],\n",
    "                                                  m5=sigmadepthopsim_list[val][j])\n",
    "        \n",
    "        # Adding error to flux values by sampling from a Gaussian with mean of fluxval \n",
    "        # and sigma of fluxvalerr for each point \n",
    "        fluxval_new = np.random.normal(fluxval, fluxvalerr, 1)[0] # this [0] is to avoid destorying the shape of list\n",
    "        fluxlist.append(fluxval_new)\n",
    "        \n",
    "        timelist.append(timeopsim_list[val][j]) # appending the times of observation to a list\n",
    "        \n",
    "        fluxerrlist.append(fluxvalerr)\n",
    "        filterlist.append(filteropsim_list[val][j])\n",
    "    \n",
    "    fluxlist_tot.append(fluxlist)       # shape should be (number of SN, entries for each SN)\n",
    "    timelist_tot.append(timelist)       # shape should be (number of SN, entries for each SN)\n",
    "    fluxerrlist_tot.append(fluxerrlist) # shape should be (number of SN, entries for each SN)\n",
    "    filterlist_tot.append(filterlist)   # shape should be (number of SN, entries for each SN)"
   ]
  },
  {
   "cell_type": "markdown",
   "metadata": {},
   "source": [
    "### Plotting flux vs. time\n",
    "This is the fluxes obtained using catsimBandFlux() function for a selection of SNe vs expMJD time. The points are fluxes in all bands so that is why they have funny and oscillating shapes."
   ]
  },
  {
   "cell_type": "code",
   "execution_count": null,
   "metadata": {},
   "outputs": [],
   "source": [
    "ifx      = np.array([21,22,23,24,25]) # subplot numbers (for turning x ticks on/off)\n",
    "ify      = np.array([1,6,11,16, 21])\n",
    "\n",
    "plt.figure(1, figsize=(15,15))\n",
    "\n",
    "for i in range(25):\n",
    "    plt.subplot(5,5,i+1)\n",
    "    \n",
    "    indx = np.arange(0,len(timelist_tot[i]))\n",
    "    Z = [x for _,x in sorted(zip(timelist_tot[i],indx))]\n",
    "        \n",
    "    plt.errorbar(np.sort(timelist_tot[i]), np.array(fluxlist_tot[i])[Z], yerr = np.array(fluxerrlist_tot[i])[Z], color='blue')\n",
    "\n",
    "    if i+1 in ifx:\n",
    "        plt.xlabel(\"Time [MJD]\",fontsize=15)\n",
    "    #    plt.tick_params(axis='x', labelbottom='on')\n",
    "    if i+1 in ify:\n",
    "        plt.ylabel(\"Flux\",fontsize=15)\n",
    "    #    plt.tick_params(axis='y', labelleft='on')"
   ]
  },
  {
   "cell_type": "markdown",
   "metadata": {},
   "source": [
    "### sncosmo fitting\n",
    "https://sncosmo.readthedocs.io/en/v1.6.x/photdata.html?highlight=Photometric%20Data\n",
    "\n",
    "I want to make a table that has all the information to pass to sncosmo. It should be a table that includes:\n",
    "(time, band, flux, fluxerr, zp, zpsys). \n",
    "\n",
    "The band should be in the form of 'lsstu', 'lsstg', ...\n",
    "\n",
    "zp: 'ab'"
   ]
  },
  {
   "cell_type": "markdown",
   "metadata": {},
   "source": [
    "### Creating a table to pass to sncosmo\n",
    "This function creates a table that has (time, band, flux, fluxerr, zp, zpsys) values in a Table that can be passed to sncosmo fit_lc() function. The format of the bands should be correct as it is done here."
   ]
  },
  {
   "cell_type": "code",
   "execution_count": 20,
   "metadata": {},
   "outputs": [],
   "source": [
    "from astropy.table import Table, Column\n",
    "\n",
    "dust             = sncosmo.CCM89Dust()\n",
    "modelsncosmo     = sncosmo.Model(source = 'salt2-extended', effects=[dust], effect_names=['mw'],\n",
    "                                 effect_frames=['obs']) # setting SN model including extinction\n",
    "\n",
    "def create_Table(SnNum, timelist=timelist_tot):\n",
    "    t            = Table()\n",
    "    \n",
    "    length       = len(timelist[SnNum])  # length of time and flux array for each SN\n",
    "    zpsysarray   = np.array(['ab'] * length) # creating an array of zpsys\n",
    "\n",
    "    t['time']    = timelist_tot[SnNum]       # setting time\n",
    "    \n",
    "    # This line is to make bands in a format readable for sncosmo\n",
    "    t['band']    = np.array(['lsst' + np.array(filterlist_tot[SnNum])[i] for i in range(len(filterlist_tot[SnNum]))])\n",
    "    t['flux']    = fluxlist_tot[SnNum]       # flux\n",
    "    t['fluxerr'] = fluxerrlist_tot[SnNum]    # fluxerr\n",
    "    t['zp']      = np.zeros(length)          # zp (all zp values are 0)\n",
    "    t['zpsys']   = zpsysarray                # zpsys\n",
    "\n",
    "    t['band']    = t['band'].astype(str)     # to make sure band has the correct format\n",
    "    \n",
    "    return t"
   ]
  },
  {
   "cell_type": "code",
   "execution_count": null,
   "metadata": {},
   "outputs": [],
   "source": [
    "#lc = LightCurve(t.to_pandas().query('band != \"sdssy\"').sort_values(by='time'))"
   ]
  },
  {
   "cell_type": "code",
   "execution_count": 24,
   "metadata": {},
   "outputs": [],
   "source": [
    "t  = create_Table(16)\n",
    "snids[mlist[16]]\n",
    "\n",
    "modelsncosmo.set(z=data.loc[snids[mlist[16]]].z)\n",
    "modelsncosmo.set(t0=data.loc[snids[mlist[16]]].t0)\n",
    "result, fitted_model  = sncosmo.fit_lc(np.sort(t), modelsncosmo, ['x0', 'x1', 'c'])"
   ]
  },
  {
   "cell_type": "code",
   "execution_count": 26,
   "metadata": {},
   "outputs": [],
   "source": [
    "params = Odict(data.loc[snids[mlist[16]]][['z', 'c', 'x1', 'x0', 't0']])\n",
    "\n",
    "truth  = sncosmo.Model(source='salt2-extended')\n",
    "truth.set(**params)\n",
    "\n",
    "truth_salt = sncosmo.Model(source='salt2')\n",
    "truth_salt.set(**params)"
   ]
  },
  {
   "cell_type": "code",
   "execution_count": 40,
   "metadata": {},
   "outputs": [
    {
     "data": {
      "text/plain": [
       "['z', 't0', 'x0', 'x1', 'c', 'mwebv', 'mwr_v']"
      ]
     },
     "execution_count": 40,
     "metadata": {},
     "output_type": "execute_result"
    }
   ],
   "source": [
    "fitted_model.param_names"
   ]
  },
  {
   "cell_type": "markdown",
   "metadata": {},
   "source": [
    "### Plotting fitted SN fluxes"
   ]
  },
  {
   "cell_type": "code",
   "execution_count": null,
   "metadata": {},
   "outputs": [],
   "source": [
    "fig = sncosmo.plot_lc(np.sort(t), model=(fitted_model, truth), errors=result.errors, \n",
    "                    model_label=(\"fit\", \"truth\"), pull=True, color='k')"
   ]
  },
  {
   "cell_type": "markdown",
   "metadata": {},
   "source": [
    "### $m_B$ and $\\mu(z)$ functions"
   ]
  },
  {
   "cell_type": "code",
   "execution_count": 27,
   "metadata": {},
   "outputs": [],
   "source": [
    "def mB_func(x0):\n",
    "    return 10.635 - (2.5 * np.log10(x0))\n",
    "\n",
    "def mu(x0, x1, c, smassval):\n",
    "    \n",
    "    alpha  = 0.141\n",
    "    beta   = 3.101\n",
    "    mB     = mB_func(x0)\n",
    "    DeltaM = -0.07\n",
    "    \n",
    "    if smassval < 1e10:\n",
    "        MB = -19.05\n",
    "    else:\n",
    "        MB = -19.05 + DeltaM\n",
    "        \n",
    "    val   = mB - (MB - (alpha * x1) + (beta * c))\n",
    "    \n",
    "    return val"
   ]
  },
  {
   "cell_type": "markdown",
   "metadata": {},
   "source": [
    "### Error on $\\mu(z)$"
   ]
  },
  {
   "cell_type": "code",
   "execution_count": 29,
   "metadata": {},
   "outputs": [],
   "source": [
    "def sigma_mB(x0, sigma_x0):\n",
    "    final_val = (((-2.5/np.log(10)) * (1./x0))**2) *  (sigma_x0**2)\n",
    "    return np.sqrt(final_val)\n",
    "\n",
    "def sigma_mu(sigma_mBval, sigma_x1, sigma_c):\n",
    "    alpha     = 0.141\n",
    "    beta      = 3.101\n",
    "    val_err   = (sigma_mBval**2) + ((alpha**2) * (sigma_x1**2)) + ((beta**2) * (sigma_c**2)) \n",
    "    final_val = np.sqrt(val_err)\n",
    "    return final_val"
   ]
  },
  {
   "cell_type": "markdown",
   "metadata": {},
   "source": [
    "### Calculating $\\mu$ for a subset of SNe"
   ]
  },
  {
   "cell_type": "code",
   "execution_count": 2,
   "metadata": {},
   "outputs": [
    {
     "data": {
      "text/plain": [
       "\"\\nsigma_mu_vals = np.zeros(32)\\nmu_vals = np.zeros(32)\\nzvals_fitsn = np.zeros(32)\\nzvals_fitfit = np.zeros(32)\\n\\nfor i in range(32):\\n    \\n    print (i)\\n    modelsncosmo.set(z=data.loc[snids[mlist[i]]].z)\\n    modelsncosmo.set(t0=data.loc[snids[mlist[i]]].t0)\\n    result, fitted_model  = sncosmo.fit_lc(np.sort(t), modelsncosmo, ['x0', 'x1', 'c'])\\n    \\n    mu_vals[i] =  mu(fitted_model.parameters[2], fitted_model.parameters[3], fitted_model.parameters[4], \\n        data.loc[snids[mlist[i]]].totalMassStellar)\\n    sigma_mBval = sigma_mB(fitted_model.parameters[2], result.errors['x0'])\\n    sigma_mu_vals[i] = sigma_mu(sigma_mBval,result.errors['x1'], result.errors['c'])\\n    \\n    zvals_fitsn[i] = fitted_model.parameters[0]\\n    zvals_fitfit[i] = snobject.SNstate['z'] \\n\""
      ]
     },
     "execution_count": 2,
     "metadata": {},
     "output_type": "execute_result"
    }
   ],
   "source": [
    "sigma_mu_vals = np.zeros(32)\n",
    "mu_vals = np.zeros(32)\n",
    "zvals_fitsn = np.zeros(32)\n",
    "zvals_fitfit = np.zeros(32)\n",
    "\n",
    "for i in range(32):\n",
    "    \n",
    "    print (i)\n",
    "    modelsncosmo.set(z=data.loc[snids[mlist[i]]].z)\n",
    "    modelsncosmo.set(t0=data.loc[snids[mlist[i]]].t0)\n",
    "    result, fitted_model  = sncosmo.fit_lc(np.sort(t), modelsncosmo, ['x0', 'x1', 'c'])\n",
    "    \n",
    "    mu_vals[i] =  mu(fitted_model.parameters[2], fitted_model.parameters[3], fitted_model.parameters[4], \n",
    "        data.loc[snids[mlist[i]]].totalMassStellar)\n",
    "    sigma_mBval = sigma_mB(fitted_model.parameters[2], result.errors['x0'])\n",
    "    sigma_mu_vals[i] = sigma_mu(sigma_mBval,result.errors['x1'], result.errors['c'])\n",
    "    \n",
    "    zvals_fitsn[i] = fitted_model.parameters[0]\n",
    "    zvals_fitfit[i] = snobject.SNstate['z'] "
   ]
  },
  {
   "cell_type": "markdown",
   "metadata": {},
   "source": [
    "### Plotting distribution of $\\mu$ obtained from SN fitting"
   ]
  },
  {
   "cell_type": "code",
   "execution_count": 4,
   "metadata": {},
   "outputs": [
    {
     "data": {
      "text/plain": [
       "'indx_good = np.where(mu_vals>35) # to avoid the weird ones that have mu ~ 12 ish\\n\\nztheory = np.linspace(zvals_fitfit[indx_good].min(), zvals_fitfit.max(),20)\\nmu_theory_vect = np.vectorize(mu_kosowsky)\\nmu_theory = mu_theory_vect(ztheory)\\n\\nplt.hist(mu_vals[indx_good], bins = 20, histtype = \"step\", color=\"black\")\\nplt.xlabel(r\"$\\\\mu (z)$\", fontsize=15)\\nplt.ylabel(\"N\", fontsize=15)'"
      ]
     },
     "execution_count": 4,
     "metadata": {},
     "output_type": "execute_result"
    }
   ],
   "source": [
    "indx_good = np.where(mu_vals>35) # to avoid the weird ones that have mu ~ 12 ish\n",
    "\n",
    "ztheory = np.linspace(zvals_fitfit[indx_good].min(), zvals_fitfit.max(),20)\n",
    "mu_theory_vect = np.vectorize(mu_kosowsky)\n",
    "mu_theory = mu_theory_vect(ztheory)\n",
    "\n",
    "plt.hist(mu_vals[indx_good], bins = 20, histtype = \"step\", color=\"black\")\n",
    "plt.xlabel(r\"$\\mu (z)$\", fontsize=15)\n",
    "plt.ylabel(\"N\", fontsize=15)"
   ]
  },
  {
   "cell_type": "markdown",
   "metadata": {},
   "source": [
    "### $\\mu(z)$ from theory"
   ]
  },
  {
   "cell_type": "code",
   "execution_count": 57,
   "metadata": {},
   "outputs": [],
   "source": [
    "from   scipy              import interpolate, integrate\n",
    "\n",
    "h  = 0.6726\n",
    "H0 = h*100.\n",
    "\n",
    "def chi_integrand(zprime):\n",
    "    '''\n",
    "    Parameters\n",
    "    -------------------------------------------------------------------------------------------------\n",
    "        zprime: redshift values\n",
    "        \n",
    "    Return\n",
    "    -------------------------------------------------------------------------------------------------\n",
    "        Integrand of integral part in luminosity distance in Equation (3) in Kosowsky 2011.\n",
    "        d(zprime)/ E(zprime)\n",
    "    '''\n",
    "\n",
    "    omegam = 0.316\n",
    "    omegav = 0.684\n",
    "    val    = 1./(np.sqrt(omegam*(1+zprime)**3 + omegav))\n",
    "    return val\n",
    "\n",
    "def chi_integral(z):\n",
    "    '''\n",
    "    Parameters\n",
    "    -------------------------------------------------------------------------------------------------\n",
    "        z: redshift\n",
    "        \n",
    "    Return\n",
    "    -------------------------------------------------------------------------------------------------\n",
    "        Integral of the integral in luminsoty distance in Equation (3) in Kosowsky 2011.\n",
    "        d(zprime)/ E(zprime) integrated from 0 to z\n",
    "    '''\n",
    "    \n",
    "    c       = 3e5 #km/s\n",
    "    val,err = integrate.quad(chi_integrand,0,z)\n",
    "    return val\n",
    "\n",
    "def mu_kosowsky(z):\n",
    "    '''\n",
    "    Parameters\n",
    "    -------------------------------------------------------------------------------------------------\n",
    "        z: redshift\n",
    "        \n",
    "    Return\n",
    "    -------------------------------------------------------------------------------------------------\n",
    "        Distance modulus (mu) obtained from Equation (2) in Kosowsky\n",
    "    '''\n",
    "    \n",
    "    c   = 3e5\n",
    "    righthandside = (1+z) * (c/H0) * chi_integral(z)\n",
    "    val = 2.17 * np.log(righthandside) + 25.\n",
    "    return val"
   ]
  },
  {
   "cell_type": "markdown",
   "metadata": {},
   "source": [
    "### Number of SN available\n",
    "To find which SNe have larger number of times so that we have more points to fit for the fluxes in each band"
   ]
  },
  {
   "cell_type": "code",
   "execution_count": null,
   "metadata": {},
   "outputs": [],
   "source": [
    "for i in range(len(mlist)):\n",
    "    if np.shape(timelist_tot[i])[0] > 500:\n",
    "        print (i)\n",
    "        \n",
    "print (\"Total number of SN = \", np.shape(timelist_tot[16]))"
   ]
  }
 ],
 "metadata": {
  "kernelspec": {
   "display_name": "lsst",
   "language": "python",
   "name": "lsst"
  },
  "language_info": {
   "codemirror_mode": {
    "name": "ipython",
    "version": 3
   },
   "file_extension": ".py",
   "mimetype": "text/x-python",
   "name": "python",
   "nbconvert_exporter": "python",
   "pygments_lexer": "ipython3",
   "version": "3.6.2"
  }
 },
 "nbformat": 4,
 "nbformat_minor": 2
}
