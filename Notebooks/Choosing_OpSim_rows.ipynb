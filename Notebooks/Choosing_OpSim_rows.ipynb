{
 "cells": [
  {
   "cell_type": "code",
   "execution_count": 1,
   "metadata": {},
   "outputs": [],
   "source": [
    "import os\n",
    "import numpy as np\n",
    "import matplotlib.pyplot as plt\n",
    "%matplotlib inline\n",
    "import pandas as pd\n",
    "\n",
    "import lsst.sims.maf.db as db\n",
    "import lsst.sims.maf.metrics as metrics\n",
    "import lsst.sims.maf.stackers as stackers\n",
    "import lsst.sims.maf.slicers as slicers\n",
    "import lsst.sims.maf.plots as plots\n",
    "import lsst.sims.maf.metricBundles as mb"
   ]
  },
  {
   "cell_type": "code",
   "execution_count": 2,
   "metadata": {},
   "outputs": [],
   "source": [
    "opsdb = db.OpsimDatabase('minion_1016_newsky.db')"
   ]
  },
  {
   "cell_type": "code",
   "execution_count": 3,
   "metadata": {},
   "outputs": [],
   "source": [
    "simdata = opsdb.query_columns(opsdb.defaultTable, \n",
    "                              colnames=['fieldRA', 'fieldDec', 'filter', 'night', 'visitTime', 'airmass', 'filtSkyBrightness', 'expMJD'], \n",
    "                              sqlconstraint=None)"
   ]
  },
  {
   "cell_type": "code",
   "execution_count": 4,
   "metadata": {},
   "outputs": [],
   "source": [
    "ra_array      = np.zeros(len(simdata))\n",
    "dec_array     = np.zeros(len(simdata))\n",
    "airmass_array = np.zeros(len(simdata))\n",
    "time_array    = np.zeros(len(simdata))\n",
    "night_array   = np.zeros(len(simdata))\n",
    "\n",
    "# creating empty array for strings\n",
    "val           = [''] * len(simdata)\n",
    "filter_array  = np.array(val)\n",
    "\n",
    "for i in range(len(simdata)):\n",
    "    ra_array[i]      = simdata[i][0]\n",
    "    dec_array[i]     = simdata[i][1]\n",
    "    filter_array[i]  = simdata[i][2]\n",
    "    night_array[i]   = simdata[i][3]\n",
    "    time_array[i]    = simdata[i][7]#[4]\n",
    "    airmass_array[i] = simdata[i][5]"
   ]
  },
  {
   "cell_type": "code",
   "execution_count": 5,
   "metadata": {},
   "outputs": [],
   "source": [
    "import sncosmo\n",
    "from   astropy.table    import Table\n",
    "import numpy            as np\n",
    "import matplotlib.pylab as plt\n",
    "from   astropy.io       import ascii"
   ]
  },
  {
   "cell_type": "code",
   "execution_count": 6,
   "metadata": {},
   "outputs": [],
   "source": [
    "filename = \"/global/homes/a/anitab/DC2_run1p1_TransientDocs/Notebooks/Hosted_SN_table.csv\"\n",
    "from pandas import read_csv"
   ]
  },
  {
   "cell_type": "code",
   "execution_count": 7,
   "metadata": {},
   "outputs": [],
   "source": [
    "vvv  = read_csv(filename)\n",
    "data = vvv['galaxy_id c mB t0 x0 x1 z random_Hosting rand_host zbin \"Unnamed: 0\" diskMassStellar morphology/diskHalfLightRadiusArcsec morphology/diskMinorAxisArcsec morphology/positionAngle morphology/spheroidHalfLightRadiusArcsec morphology/spheroidMinorAxisArcsec size_bulge_true size_disk_true totalMassStellar uniqueId raJ2000_gal decJ2000_gal z zbin_gals snid']"
   ]
  },
  {
   "cell_type": "code",
   "execution_count": null,
   "metadata": {},
   "outputs": [],
   "source": [
    "###vvv.columns"
   ]
  },
  {
   "cell_type": "code",
   "execution_count": 8,
   "metadata": {},
   "outputs": [],
   "source": [
    "#### SN properties from sampled galaxies ####\n",
    "\n",
    "length  = len(data)\n",
    "zvals   = np.zeros(length) \n",
    "x0vals  = np.zeros(length)\n",
    "x1vals  = np.zeros(length)\n",
    "cvals   = np.zeros(length)\n",
    "mBvals  = np.zeros(length)\n",
    "t0vals  = np.zeros(length)\n",
    "smass   = np.zeros(length)\n",
    "ravals  = np.zeros(length)\n",
    "decvals = np.zeros(length)\n",
    "\n",
    "for i in range(length):\n",
    "    zvals[i]   = data[i].split()[6]\n",
    "    x0vals[i]  = data[i].split()[4]\n",
    "    x1vals[i]  = data[i].split()[5]\n",
    "    cvals[i]   = data[i].split()[1]\n",
    "    mBvals[i]  = data[i].split()[2]\n",
    "    t0vals[i]  = data[i].split()[3]\n",
    "    smass[i]   = data[i].split()[20]\n",
    "    ravals[i]  = data[i].split()[21]\n",
    "    decvals[i] = data[i].split()[22]"
   ]
  },
  {
   "cell_type": "markdown",
   "metadata": {},
   "source": [
    "### Choosing rows of OpSim based on sampled SNe"
   ]
  },
  {
   "cell_type": "code",
   "execution_count": 9,
   "metadata": {},
   "outputs": [
    {
     "name": "stdout",
     "output_type": "stream",
     "text": [
      "Some imports failed, which implies some dependencies are missing as described below\n",
      "No module named 'mpl_toolkits.basemap'\n",
      "Visulization functions based on maps will not work\n",
      "1.16.1\n"
     ]
    }
   ],
   "source": [
    "import os\n",
    "import opsimsummary as oss\n",
    "import healpy as hp\n",
    "print(oss.__version__)"
   ]
  },
  {
   "cell_type": "code",
   "execution_count": 10,
   "metadata": {},
   "outputs": [],
   "source": [
    "from opsimsummary import SynOpSim"
   ]
  },
  {
   "cell_type": "code",
   "execution_count": 11,
   "metadata": {},
   "outputs": [],
   "source": [
    "myopsimv3 = 'minion_1016_newsky.db'"
   ]
  },
  {
   "cell_type": "code",
   "execution_count": 12,
   "metadata": {},
   "outputs": [
    {
     "name": "stdout",
     "output_type": "stream",
     "text": [
      " reading from database sqlite:///minion_1016_newsky.db\n",
      "SELECT * FROM Summary WHERE propID in (56, 54)\n"
     ]
    }
   ],
   "source": [
    "synopsim = SynOpSim.fromOpSimDB(myopsimv3, opsimversion='lsstv3',\n",
    "                                angleUnit='degrees', usePointingTree=True)"
   ]
  },
  {
   "cell_type": "code",
   "execution_count": 13,
   "metadata": {},
   "outputs": [],
   "source": [
    "gen = synopsim.pointingsEnclosing(ravals, decvals, circRadius=0., pointingRadius=1.75, usePointingTree=True)"
   ]
  },
  {
   "cell_type": "code",
   "execution_count": null,
   "metadata": {},
   "outputs": [],
   "source": [
    "#sum(1 for g in gen)\n",
    "#len(ravals)\n",
    "#len(rvals) should be equal to the suma above"
   ]
  },
  {
   "cell_type": "code",
   "execution_count": null,
   "metadata": {},
   "outputs": [],
   "source": [
    "#df= next(gen)\n",
    "#raopsim = df['fieldRA']"
   ]
  },
  {
   "cell_type": "code",
   "execution_count": 14,
   "metadata": {},
   "outputs": [],
   "source": [
    "#raopsim_list  = []\n",
    "#decopsim_list = []\n",
    "\n",
    "timeopsim_list   = []\n",
    "filteropsim_list = []\n",
    "\n",
    "for i, df in enumerate(gen):\n",
    "    #raopsim = df['fieldRA']\n",
    "    #raopsim_list.append(raopsim.values)\n",
    "    ###raopsim_list += raopsim.values.tolist()\n",
    "    \n",
    "    timeopsim = df['expMJD']\n",
    "    timeopsim_list.append(timeopsim.values)\n",
    "    \n",
    "    filteropsim = df['filter']\n",
    "    filteropsim_list.append(filteropsim.values)\n",
    "    \n",
    "    #decopsim = df['fieldDec']\n",
    "    #decopsim_list.append(decopsim.values)"
   ]
  },
  {
   "cell_type": "code",
   "execution_count": null,
   "metadata": {},
   "outputs": [],
   "source": [
    "#np.shape(raopsim_list)"
   ]
  },
  {
   "cell_type": "code",
   "execution_count": null,
   "metadata": {},
   "outputs": [],
   "source": [
    "'''\n",
    "ifx      = np.array([21,22,23,24,25]) # subplot numbers (for turning x ticks on/off)\n",
    "ify      = np.array([1,6,11,16,21])\n",
    "\n",
    "plt.figure(1, figsize=(15,15))\n",
    "\n",
    "for i in range(25):\n",
    "    plt.subplot(5,5,i+1)\n",
    "    plt.plot(np.rad2deg(decopsim_list[1000*i]), np.rad2deg(raopsim_list[1000*i]), \".\", color=\"blue\")\n",
    "    plt.plot(decvals[1000*i], ravals[1000*i], \".\", color=\"red\")\n",
    "    plt.ylim(50,60)\n",
    "    plt.xlim(-34,-24)\n",
    "    plt.tick_params(axis='both', labelleft='off', labelbottom='off')\n",
    "    #plt.title(\"SN number {0}\".format(1000*i))\n",
    "    if i+1 in ifx:\n",
    "        plt.xlabel(\"Ra [deg]\",fontsize=15)\n",
    "        plt.tick_params(axis='x', labelbottom='on')\n",
    "    if i+1 in ify:\n",
    "        plt.ylabel(\"Dec [deg]\",fontsize=15)\n",
    "        plt.tick_params(axis='y', labelleft='on')\n",
    "    \n",
    "plt.suptitle(\"SNe in red with opsim visits in blue\")\n",
    "'''"
   ]
  },
  {
   "cell_type": "code",
   "execution_count": 15,
   "metadata": {},
   "outputs": [],
   "source": [
    "from lsst.sims.catUtils.supernovae import SNObject\n",
    "def get_flux(i):\n",
    "    params = {'x0': x0vals[i], 'x1': x1vals[i], 'c': cvals[i]}\n",
    "    snobject = SNObject(ravals[i], decvals[i])\n",
    "    snobject.set(**params)\n",
    "    return snobject.catsimBandFlux(bandpassobject = filter_array[i], time=time_array[i])# time=t0vals[i])"
   ]
  },
  {
   "cell_type": "code",
   "execution_count": 26,
   "metadata": {},
   "outputs": [],
   "source": [
    "mlist     = []\n",
    "jlist_tot = []\n",
    "\n",
    "for m in range(len(timeopsim_list)):\n",
    "    jlist = []\n",
    "    for j in range(len(timeopsim_list[m])):\n",
    "        if (timeopsim_list[m][j] > t0vals[m] -19 and timeopsim_list[m][j] < t0vals[m] + 49):\n",
    "            jlist.append(j)\n",
    "    if jlist:\n",
    "        mlist.append(m)\n",
    "        jlist_tot.append(jlist)"
   ]
  },
  {
   "cell_type": "code",
   "execution_count": 36,
   "metadata": {},
   "outputs": [],
   "source": [
    "from lsst.sims.photUtils.BandpassDict import BandpassDict\n",
    "LSST_BandPass = BandpassDict.loadTotalBandpassesFromFiles()"
   ]
  },
  {
   "cell_type": "code",
   "execution_count": 119,
   "metadata": {},
   "outputs": [],
   "source": [
    "# Going through each SN\n",
    "fluxlist_tot = [] \n",
    "timelist_tot = []\n",
    "\n",
    "for SN_id, val in enumerate(mlist[:50]):\n",
    "    params   = {'x0': x0vals[val], 'x1': x1vals[val], 'c': cvals[val], 't0':t0vals[val]}\n",
    "    snobject = SNObject(ravals[val], decvals[val])\n",
    "    snobject.set(**params)\n",
    "    \n",
    "    filters_modified = [LSST_BandPass[key] for key in filteropsim_list[val]]\n",
    "\n",
    "    fluxlist = []\n",
    "    timelist = []\n",
    "    \n",
    "    for j in jlist_tot[SN_id]:\n",
    "        fluxval = snobject.catsimBandFlux(bandpassobject = filters_modified[j], time = timeopsim_list[val][j])\n",
    "        fluxlist.append(fluxval)\n",
    "        timelist.append(timeopsim_list[val][j])\n",
    "        \n",
    "    \n",
    "    fluxlist_tot.append(fluxlist)\n",
    "    timelist_tot.append(timelist)"
   ]
  },
  {
   "cell_type": "code",
   "execution_count": 137,
   "metadata": {},
   "outputs": [
    {
     "data": {
      "image/png": "[encoded data removed]",
      "text/plain": [
       "<matplotlib.figure.Figure at 0x2b6f689e05c0>"
      ]
     },
     "metadata": {},
     "output_type": "display_data"
    }
   ],
   "source": [
    "ifx      = np.array([13,14,15,16]) # subplot numbers (for turning x ticks on/off)\n",
    "ify      = np.array([1,5,9,13])\n",
    "\n",
    "plt.figure(1, figsize=(15,15))\n",
    "\n",
    "for i in range(16):\n",
    "    plt.subplot(5,5,i+1)\n",
    "    \n",
    "    indx = np.arange(0,len(timelist_tot[i]))\n",
    "    Z = [x for _,x in sorted(zip(timelist_tot[i],indx))]\n",
    "    \n",
    "    plt.plot(np.sort(timelist_tot[i]), np.array(fluxlist_tot[i])[Z], \"o\", color='blue')\n",
    "    plt.plot(np.sort(timelist_tot[i]), np.array(fluxlist_tot[i])[Z], color='blue')\n",
    "    #plt.plot(timelist_tot[i], fluxlist_tot[i], \".\")\n",
    "    \n",
    "    plt.tick_params(axis='both', labelleft='off', labelbottom='off')\n",
    "\n",
    "    if i+1 in ifx:\n",
    "        plt.xlabel(\"Time [MJD]\",fontsize=15)\n",
    "        plt.tick_params(axis='x', labelbottom='on')\n",
    "    if i+1 in ify:\n",
    "        plt.ylabel(\"Flux\",fontsize=15)\n",
    "        plt.tick_params(axis='y', labelleft='on')\n",
    "    "
   ]
  },
  {
   "cell_type": "code",
   "execution_count": null,
   "metadata": {},
   "outputs": [],
   "source": [
    "#t0s = t0vals\n",
    "#for i, ops in enumerate(gen):\n",
    "#    t0 = t0s[i]\n",
    "#    x = ops.query('expMJD > @t0 - 60. and expMJD < @t0 + 90')\n",
    "#    print (\"done\")"
   ]
  },
  {
   "cell_type": "markdown",
   "metadata": {},
   "source": [
    "### LSST code example that works!"
   ]
  },
  {
   "cell_type": "code",
   "execution_count": null,
   "metadata": {},
   "outputs": [],
   "source": [
    "bandpassnames = ['u', 'g', 'r', 'i', 'z', 'y']\n",
    "from lsst.sims.photUtils.BandpassDict import BandpassDict\n",
    "LSST_BandPass = BandpassDict.loadTotalBandpassesFromFiles()\n",
    "SN = SNObject(ra=30., dec=-60.)\n",
    "SN.set(z=0.96, t0=571181, x1=2.66, c=0.353, x0=1.796112e-06)\n",
    "SN.catsimBandFlux(bandpassobject=LSST_BandPass['r'], time=571190.)"
   ]
  },
  {
   "cell_type": "code",
   "execution_count": null,
   "metadata": {},
   "outputs": [],
   "source": [
    "print(snobject)"
   ]
  },
  {
   "cell_type": "code",
   "execution_count": null,
   "metadata": {},
   "outputs": [],
   "source": [
    "timeopsim_list[0]"
   ]
  },
  {
   "cell_type": "code",
   "execution_count": null,
   "metadata": {},
   "outputs": [],
   "source": [
    "np.max(x0vals)/1e12"
   ]
  },
  {
   "cell_type": "code",
   "execution_count": null,
   "metadata": {},
   "outputs": [],
   "source": [
    "def mB(x0):\n",
    "    return 10.635 - (2.5 * np.log10(x0))"
   ]
  },
  {
   "cell_type": "code",
   "execution_count": null,
   "metadata": {},
   "outputs": [],
   "source": [
    "mBvals = mB(x0vals/1e15)"
   ]
  },
  {
   "cell_type": "code",
   "execution_count": null,
   "metadata": {},
   "outputs": [],
   "source": [
    "np.min(mBvals)"
   ]
  },
  {
   "cell_type": "code",
   "execution_count": null,
   "metadata": {},
   "outputs": [],
   "source": [
    "np.max(mBvals)"
   ]
  },
  {
   "cell_type": "code",
   "execution_count": null,
   "metadata": {},
   "outputs": [],
   "source": [
    "mB(1.796112e-06)"
   ]
  },
  {
   "cell_type": "code",
   "execution_count": null,
   "metadata": {},
   "outputs": [],
   "source": [
    "filteropsim_list"
   ]
  },
  {
   "cell_type": "code",
   "execution_count": null,
   "metadata": {},
   "outputs": [],
   "source": []
  }
 ],
 "metadata": {
  "kernelspec": {
   "display_name": "lsst",
   "language": "python",
   "name": "lsst"
  },
  "language_info": {
   "codemirror_mode": {
    "name": "ipython",
    "version": 3
   },
   "file_extension": ".py",
   "mimetype": "text/x-python",
   "name": "python",
   "nbconvert_exporter": "python",
   "pygments_lexer": "ipython3",
   "version": "3.6.2"
  }
 },
 "nbformat": 4,
 "nbformat_minor": 2
}
