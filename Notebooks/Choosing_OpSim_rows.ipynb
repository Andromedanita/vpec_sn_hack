{
 "cells": [
  {
   "cell_type": "code",
   "execution_count": null,
   "metadata": {},
   "outputs": [],
   "source": [
    "import os\n",
    "import numpy as np\n",
    "import matplotlib.pyplot as plt\n",
    "%matplotlib inline\n",
    "import pandas as pd\n",
    "\n",
    "import sncosmo\n",
    "from   astropy.table    import Table\n",
    "from   astropy.io       import ascii\n",
    "\n",
    "from   analyzeSN import LightCurve\n",
    "import analyzeSN\n",
    "\n",
    "import lsst.sims.maf.db as db\n",
    "import lsst.sims.maf.metrics as metrics\n",
    "import lsst.sims.maf.stackers as stackers\n",
    "import lsst.sims.maf.slicers as slicers\n",
    "import lsst.sims.maf.plots as plots\n",
    "import lsst.sims.maf.metricBundles as mb"
   ]
  },
  {
   "cell_type": "markdown",
   "metadata": {},
   "source": [
    "#### This file can be replaced with any of the opsim files"
   ]
  },
  {
   "cell_type": "code",
   "execution_count": null,
   "metadata": {},
   "outputs": [],
   "source": [
    "opsfilename = 'minion_1016_newsky.db'\n",
    "opsdb       = db.OpsimDatabase(opsfilename)\n",
    "\n",
    "simdata = opsdb.query_columns(opsdb.defaultTable, \n",
    "                              colnames=['fieldRA', 'fieldDec', 'filter', 'night', 'visitTime', 'airmass', 'filtSkyBrightness', 'expMJD', 'fiveSigmaDepth'], \n",
    "                              sqlconstraint=None)"
   ]
  },
  {
   "cell_type": "markdown",
   "metadata": {},
   "source": [
    "### Putting OpSim columns in arrays to make it easier to work with"
   ]
  },
  {
   "cell_type": "code",
   "execution_count": null,
   "metadata": {},
   "outputs": [],
   "source": [
    "ra_array      = np.zeros(len(simdata))\n",
    "dec_array     = np.zeros(len(simdata))\n",
    "airmass_array = np.zeros(len(simdata))\n",
    "time_array    = np.zeros(len(simdata))\n",
    "sigmadepth    = np.zeros(len(simdata))\n",
    "\n",
    "# creating empty array for strings for filter names\n",
    "val           = [''] * len(simdata)\n",
    "filter_array  = np.array(val)\n",
    "\n",
    "for i in range(len(simdata)):\n",
    "    ra_array[i]      = simdata[i][0] # right ascension\n",
    "    dec_array[i]     = simdata[i][1] # declination\n",
    "    filter_array[i]  = simdata[i][2] # filters\n",
    "    time_array[i]    = simdata[i][7] # time should be expMJD\n",
    "    airmass_array[i] = simdata[i][5] # airmass\n",
    "    sigmadepth[i]    = simdata[i][8] # 5 sigma depth"
   ]
  },
  {
   "cell_type": "markdown",
   "metadata": {},
   "source": [
    "### Sampled SN properties in an array\n",
    "$m_B = 10.635 - \\log_{10}(x0)$"
   ]
  },
  {
   "cell_type": "code",
   "execution_count": null,
   "metadata": {},
   "outputs": [],
   "source": [
    "'''\n",
    "zvals   = data.z.values\n",
    "x0vals  = data.x0.values\n",
    "x1vals  = data.x1.values\n",
    "cvals   = data.c.values\n",
    "mBvals  = data.mB.values\n",
    "t0vals  = data.t0.values\n",
    "smass   = data.totalMassStellar.values\n",
    "ravals  = data.raJ2000_gal.values\n",
    "decvals = data.decJ2000_gal.values\n",
    "\n",
    "snids = data.index.values\n",
    "'''"
   ]
  },
  {
   "cell_type": "markdown",
   "metadata": {},
   "source": [
    "#### Setting the filename of sampled supernova parameters. \n",
    "This file is obtained by running SNTable notebook that Rahul has. It has (x0,x1,c,t0,z) and host galaxy information. t0 is the peak magnitude time of each supernova."
   ]
  },
  {
   "cell_type": "code",
   "execution_count": null,
   "metadata": {},
   "outputs": [],
   "source": [
    "'''\n",
    "# this line should be here to be run with the following lines, otherwise it would be wrong! (snids would be from \n",
    "# this running line otherwise)\n",
    "\n",
    "#filename = \"/global/homes/a/anitab/DC2_run1p1_TransientDocs/Notebooks/Hosted_SN_table.csv\"\n",
    "\n",
    "filename = \"/global/homes/a/anitab/DC2_run1p1_TransientDocs/Notebooks/Hosted_SN_table_cosmoDC2_test.csv\"\n",
    "#filename = \"/global/homes/a/anitab/DC2_run1p1_TransientDocs/Notebooks/Hosted_SN_table_cosmoDC2.csv\"\n",
    "\n",
    "from pandas import read_csv\n",
    "\n",
    "data  = read_csv(filename, nrows=10)#, delim_whitespace=True\n",
    "\n",
    "data.set_index('snid', inplace=True)\n",
    "\n",
    "snids = data.index.values\n",
    "\n",
    "z_condition = 'z < 0.2'\n",
    "\n",
    "zvals   = data.loc[snids].query(z_condition).z.values\n",
    "x0vals  = data.loc[snids].query(z_condition).x0.values\n",
    "x1vals  = data.loc[snids].query(z_condition).x1.values\n",
    "cvals   = data.loc[snids].query(z_condition).c.values\n",
    "mBvals  = data.loc[snids].query(z_condition).mB.values\n",
    "t0vals  = data.loc[snids].query(z_condition).t0.values\n",
    "smass   = data.loc[snids].query(z_condition).totalMassStellar.values\n",
    "ravals  = data.loc[snids].query(z_condition).ra.values\n",
    "decvals = data.loc[snids].query(z_condition).dec.values\n",
    "\n",
    "snids = data.loc[snids].query(z_condition).index.values\n",
    "\n",
    "#vaaaaal = data.query('z<0.03', inplace=False)\n",
    "'''"
   ]
  },
  {
   "cell_type": "code",
   "execution_count": null,
   "metadata": {},
   "outputs": [],
   "source": [
    "'''\n",
    "filename = \"/global/homes/a/anitab/DC2_run1p1_TransientDocs/Notebooks/Hosted_SN_table_cosmoDC2_z0.1.csv\"\n",
    "\n",
    "from pandas import read_csv\n",
    "\n",
    "data  = read_csv(filename)#, delim_whitespace=True\n",
    "\n",
    "temp_indx = np.unique(data['galaxy_id'])\n",
    "\n",
    "new_indx_list = []\n",
    "\n",
    "for i in range(len(temp_indx)):\n",
    "    val_indx = np.where(data['galaxy_id'] == temp_indx[i])[0][0]\n",
    "    new_indx_list.append(val_indx)\n",
    "    \n",
    "new_indx = np.array(new_indx_list)\n",
    "'''"
   ]
  },
  {
   "cell_type": "code",
   "execution_count": null,
   "metadata": {},
   "outputs": [],
   "source": [
    "# this line should be here to be run with the following lines, otherwise it would be wrong! (snids would be from \n",
    "# this running line otherwise)\n",
    "\n",
    "#filename = \"/global/homes/a/anitab/DC2_run1p1_TransientDocs/Notebooks/Hosted_SN_table.csv\"\n",
    "\n",
    "#filename = \"/global/homes/a/anitab/DC2_run1p1_TransientDocs/Notebooks/Hosted_SN_table_cosmoDC2_test_z0.2.csv\"\n",
    "filename = \"/global/homes/a/anitab/DC2_run1p1_TransientDocs/Notebooks/Hosted_SN_table_cosmoDC2_z0.1.csv\"\n",
    "\n",
    "from pandas import read_csv\n",
    "\n",
    "all_data  = read_csv(filename)#, delim_whitespace=True\n",
    "\n",
    "\n",
    "\n",
    "temp_indx = np.unique(all_data['galaxy_id'])\n",
    "\n",
    "new_indx_list = []\n",
    "\n",
    "for i in range(len(temp_indx)):\n",
    "    val_indx = np.where(all_data['galaxy_id'] == temp_indx[i])[0][0]\n",
    "    new_indx_list.append(val_indx)\n",
    "    \n",
    "new_indx = np.array(new_indx_list)\n",
    "\n",
    "\n",
    "data = all_data.iloc[new_indx]\n",
    "\n",
    "\n",
    "data.set_index('snid', inplace=True)\n",
    "\n",
    "snids = data.index.values\n",
    "#ordered_indx = data.index.values\n",
    "\n",
    "'''\n",
    "zvals   = data['z']\n",
    "x0vals  = data['x0']\n",
    "x1vals  = data['x1']\n",
    "cvals   = data['c']\n",
    "mBvals  = data['mB']\n",
    "t0vals  = data['t0']\n",
    "smass   = data['totalMassStellar']\n",
    "ravals  = data['ra']\n",
    "decvals = data['dec']\n",
    "'''\n",
    "\n",
    "\n",
    "zvals   = data.loc[snids].z.values\n",
    "x0vals  = data.loc[snids].x0.values\n",
    "x1vals  = data.loc[snids].x1.values\n",
    "cvals   = data.loc[snids].c.values\n",
    "mBvals  = data.loc[snids].mB.values\n",
    "t0vals  = data.loc[snids].t0.values\n",
    "smass   = data.loc[snids].totalMassStellar.values\n",
    "ravals  = data.loc[snids].ra.values\n",
    "decvals = data.loc[snids].dec.values\n",
    "\n",
    "snids   = data.loc[snids].index.values"
   ]
  },
  {
   "cell_type": "code",
   "execution_count": 139,
   "metadata": {},
   "outputs": [],
   "source": [
    "zvals   = data.loc[snids].z.values"
   ]
  },
  {
   "cell_type": "markdown",
   "metadata": {},
   "source": [
    "### Choosing rows of OpSim based on sampled SNe"
   ]
  },
  {
   "cell_type": "code",
   "execution_count": null,
   "metadata": {},
   "outputs": [],
   "source": [
    "import os\n",
    "import opsimsummary as oss\n",
    "import healpy as hp\n",
    "print(oss.__version__)"
   ]
  },
  {
   "cell_type": "code",
   "execution_count": null,
   "metadata": {},
   "outputs": [],
   "source": [
    "from opsimsummary import SynOpSim"
   ]
  },
  {
   "cell_type": "markdown",
   "metadata": {},
   "source": [
    "I need to make sure angleUnit has 'degrees' attribute"
   ]
  },
  {
   "cell_type": "code",
   "execution_count": null,
   "metadata": {},
   "outputs": [],
   "source": [
    "synopsim  = SynOpSim.fromOpSimDB(opsfilename, subset = 'wfd', opsimversion='lsstv3',\n",
    "                                angleUnit='degrees', usePointingTree=True)"
   ]
  },
  {
   "cell_type": "markdown",
   "metadata": {},
   "source": [
    "### Generator\n",
    "This is a Python generator function to make going through data faster. This goes through the observing file and uses Ra and Dec of sampled SNe to determine which SNe would be visible at which times."
   ]
  },
  {
   "cell_type": "code",
   "execution_count": 8,
   "metadata": {},
   "outputs": [],
   "source": [
    "gen = synopsim.pointingsEnclosing(ravals, decvals, circRadius=0., pointingRadius=1.75, usePointingTree=True)"
   ]
  },
  {
   "cell_type": "markdown",
   "metadata": {},
   "source": [
    "### Time and filters from OpSim file\n",
    "This is going through the generator and inserting times of observation and filer names in a list. After running this for loop, if we need to go through the generator again, we need to run the gen = ... line again because the generator has now gone all the way to the end. So, we need ro rerun this line:\n",
    "\n",
    "gen = synopsim.pointingsEnclosing(ravals, decvals, circRadius=0., pointingRadius=1.75, usePointingTree=True)"
   ]
  },
  {
   "cell_type": "code",
   "execution_count": 9,
   "metadata": {},
   "outputs": [],
   "source": [
    "timeopsim_list       = []\n",
    "filteropsim_list     = []\n",
    "sigmadepthopsim_list = []\n",
    "\n",
    "for i, df in enumerate(gen):\n",
    "    \n",
    "    timeopsim = df['expMJD']\n",
    "    timeopsim_list.append(timeopsim.values)\n",
    "    \n",
    "    filteropsim = df['filter']\n",
    "    filteropsim_list.append(filteropsim.values)\n",
    "    \n",
    "    sigmadepthopsim = df['fiveSigmaDepth']\n",
    "    sigmadepthopsim_list.append(sigmadepthopsim.values)\n",
    "    \n",
    "    #raopsim = df['fieldRA']\n",
    "    #raopsim_list.append(raopsim.values)\n",
    "    ###raopsim_list += raopsim.values.tolist() # this is to make the 2D array into 1D array. Not needed in general though"
   ]
  },
  {
   "cell_type": "code",
   "execution_count": 48,
   "metadata": {},
   "outputs": [
    {
     "data": {
      "text/plain": [
       "(929,)"
      ]
     },
     "execution_count": 48,
     "metadata": {},
     "output_type": "execute_result"
    }
   ],
   "source": [
    "np.shape(timelist_tot)"
   ]
  },
  {
   "cell_type": "markdown",
   "metadata": {},
   "source": [
    "### Plotting SNe and their corresponding OpSim points\n",
    "This shows supernovae as red dots and the OpSim visits as blue dots. There might be multiple visits at the same location so some points are overlapping and they are for different times."
   ]
  },
  {
   "cell_type": "code",
   "execution_count": null,
   "metadata": {},
   "outputs": [],
   "source": [
    "'''\n",
    "ifx      = np.array([21,22,23,24,25]) # subplot numbers (for turning x ticks on/off)\n",
    "ify      = np.array([1,6,11,16,21])   # subplot numbers (for turning y ticks on/off)\n",
    "\n",
    "plt.figure(1, figsize=(15,15))\n",
    "\n",
    "for i in range(25):\n",
    "    \n",
    "    plt.subplot(5,5,i+1)\n",
    "    plt.plot(np.rad2deg(decopsim_list[1000*i]), np.rad2deg(raopsim_list[1000*i]), \".\", color=\"blue\")\n",
    "    plt.plot(decvals[1000*i], ravals[1000*i], \".\", color=\"red\")\n",
    "    plt.ylim(50,60)\n",
    "    plt.xlim(-34,-24)\n",
    "    plt.tick_params(axis='both', labelleft='off', labelbottom='off')\n",
    "\n",
    "    if i+1 in ifx:\n",
    "        plt.xlabel(\"Ra [deg]\",fontsize=15)\n",
    "        plt.tick_params(axis='x', labelbottom='on')\n",
    "    if i+1 in ify:\n",
    "        plt.ylabel(\"Dec [deg]\",fontsize=15)\n",
    "        plt.tick_params(axis='y', labelleft='on')\n",
    "    \n",
    "plt.suptitle(\"SNe in red with opsim visits in blue\")\n",
    "'''"
   ]
  },
  {
   "cell_type": "markdown",
   "metadata": {},
   "source": [
    "### Checking time range of OpSim with $t_0$\n",
    "Looping over all supernova and checking the observing times corresponding to supernova location from OpSim file and adding the ones that are within (t0 - 19 < OpSimtime < t0+49 ) range. This is the SALT model time range. If the OpSim time is not within this time range, the flux calculated would be 0 and we do not get any useful information. So, I want to reduce the number of data and only work with the useful data."
   ]
  },
  {
   "cell_type": "code",
   "execution_count": 10,
   "metadata": {},
   "outputs": [],
   "source": [
    "from lsst.sims.catUtils.supernovae import SNObject\n",
    "from lsst.sims.photUtils.BandpassDict import BandpassDict\n",
    "\n",
    "# Setting the LSST BandPass object to be used in BandFlux function\n",
    "LSST_BandPass = BandpassDict.loadTotalBandpassesFromFiles()\n",
    "\n",
    "mlist     = []\n",
    "jlist_tot = []\n",
    "snids_tot = []\n",
    "\n",
    "for m in range(len(timeopsim_list)):\n",
    "    jlist = []\n",
    "    for j in range(len(timeopsim_list[m])):\n",
    "        if (timeopsim_list[m][j] > t0vals[m] -19 and timeopsim_list[m][j] < t0vals[m] + 49):\n",
    "            jlist.append(j)\n",
    "    if jlist:\n",
    "        mlist.append(m)\n",
    "        jlist_tot.append(jlist)\n",
    "        "
   ]
  },
  {
   "cell_type": "code",
   "execution_count": 11,
   "metadata": {},
   "outputs": [],
   "source": [
    "NumSN_query = np.shape(mlist)"
   ]
  },
  {
   "cell_type": "code",
   "execution_count": 12,
   "metadata": {},
   "outputs": [
    {
     "data": {
      "text/plain": [
       "(929,)"
      ]
     },
     "execution_count": 12,
     "metadata": {},
     "output_type": "execute_result"
    }
   ],
   "source": [
    "NumSN_query"
   ]
  },
  {
   "cell_type": "markdown",
   "metadata": {},
   "source": [
    "### Calculating the flux\n",
    "Goes through a loop for each supernova and sets the parameters for each and then calculates the flux for all the visits"
   ]
  },
  {
   "cell_type": "code",
   "execution_count": 13,
   "metadata": {},
   "outputs": [],
   "source": [
    "fluxlist_tot    = [] \n",
    "timelist_tot    = []\n",
    "fluxerrlist_tot = []\n",
    "filterlist_tot  = []\n",
    "\n",
    "# Going through each SN\n",
    "for SN_id, val in enumerate(mlist): #[:400]):\n",
    "    # setting parameters for each supernova\n",
    "    \n",
    "    params   = {'x0': x0vals[val], 'x1': x1vals[val], 'c': cvals[val], 't0':t0vals[val], 'z':zvals[val]}\n",
    "    snobject = SNObject(ravals[val], decvals[val])\n",
    "    snobject.set(**params)\n",
    "        \n",
    "    # to make filternames what the code accepts using list comprehension to make it faster\n",
    "    filters_modified = [LSST_BandPass[key] for key in filteropsim_list[val]]\n",
    "\n",
    "    fluxlist    = []\n",
    "    timelist    = []\n",
    "    fluxerrlist = []\n",
    "    filterlist  = []\n",
    "\n",
    "    \n",
    "    # going through all the visits for each single supernova\n",
    "    for j in jlist_tot[SN_id]:\n",
    "        # flux and fluxerr\n",
    "        fluxval    = snobject.catsimBandFlux(bandpassobject = filters_modified[j], time = timeopsim_list[val][j])\n",
    "        fluxvalerr = snobject.catsimBandFluxError(bandpassobject=filters_modified[j],\n",
    "                                                  time=timeopsim_list[val][j],\n",
    "                                                  m5=sigmadepthopsim_list[val][j])\n",
    "        \n",
    "        # Adding error to flux values by sampling from a Gaussian with mean of fluxval \n",
    "        # and sigma of fluxvalerr for each point \n",
    "        fluxval_new = np.random.normal(fluxval, fluxvalerr, 1)[0] # this [0] is to avoid destorying the shape of list\n",
    "        fluxlist.append(fluxval_new)\n",
    "        \n",
    "        timelist.append(timeopsim_list[val][j]) # appending the times of observation to a list\n",
    "        \n",
    "        fluxerrlist.append(fluxvalerr)\n",
    "        filterlist.append(filteropsim_list[val][j])\n",
    "    \n",
    "    fluxlist_tot.append(fluxlist)       # shape should be (number of SN, entries for each SN)\n",
    "    timelist_tot.append(timelist)       # shape should be (number of SN, entries for each SN)\n",
    "    fluxerrlist_tot.append(fluxerrlist) # shape should be (number of SN, entries for each SN)\n",
    "    filterlist_tot.append(filterlist)   # shape should be (number of SN, entries for each SN)"
   ]
  },
  {
   "cell_type": "markdown",
   "metadata": {},
   "source": [
    "### Plotting flux vs. time\n",
    "This is the fluxes obtained using catsimBandFlux() function for a selection of SNe vs expMJD time. The points are fluxes in all bands so that is why they have funny and oscillating shapes."
   ]
  },
  {
   "cell_type": "code",
   "execution_count": null,
   "metadata": {},
   "outputs": [],
   "source": [
    "ifx      = np.array([21,22,23,24,25]) # subplot numbers (for turning x ticks on/off)\n",
    "ify      = np.array([1,6,11,16, 21])\n",
    "\n",
    "plt.figure(1, figsize=(15,15))\n",
    "\n",
    "for i in range(25):\n",
    "    plt.subplot(5,5,i+1)\n",
    "    \n",
    "    indx = np.arange(0,len(timelist_tot[i]))\n",
    "    Z = [x for _,x in sorted(zip(timelist_tot[i],indx))]\n",
    "        \n",
    "    plt.errorbar(np.sort(timelist_tot[i]), np.array(fluxlist_tot[i])[Z], yerr = np.array(fluxerrlist_tot[i])[Z], color='blue')\n",
    "\n",
    "    if i+1 in ifx:\n",
    "        plt.xlabel(\"Time [MJD]\",fontsize=15)\n",
    "    #    plt.tick_params(axis='x', labelbottom='on')\n",
    "    if i+1 in ify:\n",
    "        plt.ylabel(\"Flux\",fontsize=15)\n",
    "    #    plt.tick_params(axis='y', labelleft='on')"
   ]
  },
  {
   "cell_type": "markdown",
   "metadata": {},
   "source": [
    "### sncosmo fitting\n",
    "https://sncosmo.readthedocs.io/en/v1.6.x/photdata.html?highlight=Photometric%20Data\n",
    "\n",
    "I want to make a table that has all the information to pass to sncosmo. It should be a table that includes:\n",
    "(time, band, flux, fluxerr, zp, zpsys). \n",
    "\n",
    "The band should be in the form of 'lsstu', 'lsstg', ...\n",
    "\n",
    "zp: 'ab'"
   ]
  },
  {
   "cell_type": "markdown",
   "metadata": {},
   "source": [
    "### Creating a table to pass to sncosmo\n",
    "This function creates a table that has (time, band, flux, fluxerr, zp, zpsys) values in a Table that can be passed to sncosmo fit_lc() function. The format of the bands should be correct as it is done here."
   ]
  },
  {
   "cell_type": "code",
   "execution_count": 14,
   "metadata": {},
   "outputs": [],
   "source": [
    "from astropy.table import Table, Column\n",
    "\n",
    "dust             = sncosmo.CCM89Dust()\n",
    "modelsncosmo     = sncosmo.Model(source = 'salt2-extended', effects=[dust], effect_names=['mw'],\n",
    "                                 effect_frames=['obs']) # setting SN model including extinction\n",
    "\n",
    "def create_Table(SnNum, timelist=timelist_tot):\n",
    "    t            = Table()\n",
    "    \n",
    "    length       = len(timelist[SnNum])  # length of time and flux array for each SN\n",
    "    zpsysarray   = np.array(['ab'] * length) # creating an array of zpsys\n",
    "\n",
    "    t['time']    = timelist_tot[SnNum]       # setting time\n",
    "    \n",
    "    # This line is to make bands in a format readable for sncosmo\n",
    "    t['band']    = np.array(['lsst' + np.array(filterlist_tot[SnNum])[i] for i in range(len(filterlist_tot[SnNum]))])\n",
    "    t['flux']    = fluxlist_tot[SnNum]       # flux\n",
    "    t['fluxerr'] = fluxerrlist_tot[SnNum]    # fluxerr\n",
    "    t['zp']      = np.zeros(length)          # zp (all zp values are 0)\n",
    "    t['zpsys']   = zpsysarray                # zpsys\n",
    "\n",
    "    t['band']    = t['band'].astype(str)     # to make sure band has the correct format\n",
    "    \n",
    "    return t"
   ]
  },
  {
   "cell_type": "code",
   "execution_count": 15,
   "metadata": {},
   "outputs": [],
   "source": [
    "'''\n",
    "t  = create_Table(16)\n",
    "snids[mlist[16]]\n",
    "\n",
    "modelsncosmo.set(z=data.loc[snids[mlist[16]]].z)\n",
    "modelsncosmo.set(t0=data.loc[snids[mlist[16]]].t0)\n",
    "result, fitted_model  = sncosmo.fit_lc(np.sort(t), modelsncosmo, ['x0', 'x1', 'c'])\n",
    "\n",
    "#lc = LightCurve(t.to_pandas().query('band != \"sdssy\"').sort_values(by='time'))\n",
    "'''"
   ]
  },
  {
   "cell_type": "code",
   "execution_count": 18,
   "metadata": {},
   "outputs": [
    {
     "data": {
      "text/plain": [
       "['z', 't0', 'x0', 'x1', 'c', 'mwebv', 'mwr_v']"
      ]
     },
     "execution_count": 18,
     "metadata": {},
     "output_type": "execute_result"
    }
   ],
   "source": [
    "fitted_model.param_names"
   ]
  },
  {
   "cell_type": "code",
   "execution_count": null,
   "metadata": {},
   "outputs": [],
   "source": [
    "'''\n",
    "params = Odict(data.loc[snids[mlist[16]]][['z', 'c', 'x1', 'x0', 't0']])\n",
    "\n",
    "truth  = sncosmo.Model(source='salt2-extended')\n",
    "truth.set(**params)\n",
    "\n",
    "truth_salt = sncosmo.Model(source='salt2')\n",
    "truth_salt.set(**params)\n",
    "\n",
    "fig = sncosmo.plot_lc(np.sort(t), model=(fitted_model, truth), errors=result.errors, \n",
    "                    model_label=(\"fit\", \"truth\"), pull=True, color='k')\n",
    "'''"
   ]
  },
  {
   "cell_type": "markdown",
   "metadata": {},
   "source": [
    "### $m_B$ and $\\mu(z)$ functions"
   ]
  },
  {
   "cell_type": "code",
   "execution_count": 19,
   "metadata": {},
   "outputs": [],
   "source": [
    "def mB_func(x0):\n",
    "    return 10.635 - (2.5 * np.log10(x0))\n",
    "\n",
    "def mu(x0, x1, c, smassval):\n",
    "    \n",
    "    alpha  = 0.141\n",
    "    beta   = 3.101\n",
    "    mB     = mB_func(x0)\n",
    "    DeltaM = -0.07\n",
    "    \n",
    "    if smassval < 1e10:\n",
    "        MB = -19.05\n",
    "    else:\n",
    "        MB = -19.05 + DeltaM\n",
    "        \n",
    "    val   = mB - (MB - (alpha * x1) + (beta * c))\n",
    "    \n",
    "    return val"
   ]
  },
  {
   "cell_type": "markdown",
   "metadata": {},
   "source": [
    "### Error on $\\mu(z)$"
   ]
  },
  {
   "cell_type": "code",
   "execution_count": 20,
   "metadata": {},
   "outputs": [],
   "source": [
    "def sigma_mB(x0, sigma_x0):\n",
    "    final_val = (((-2.5/np.log(10)) * (1./x0))**2) *  (sigma_x0**2)\n",
    "    return np.sqrt(final_val)\n",
    "\n",
    "def sigma_mu(sigma_mBval, sigma_x1, sigma_c):\n",
    "    alpha     = 0.141\n",
    "    beta      = 3.101\n",
    "    val_err   = (sigma_mBval**2) + ((alpha**2) * (sigma_x1**2)) + ((beta**2) * (sigma_c**2)) \n",
    "    final_val = np.sqrt(val_err)\n",
    "    return final_val"
   ]
  },
  {
   "cell_type": "code",
   "execution_count": 67,
   "metadata": {},
   "outputs": [
    {
     "data": {
      "text/plain": [
       "numpy.ndarray"
      ]
     },
     "execution_count": 67,
     "metadata": {},
     "output_type": "execute_result"
    }
   ],
   "source": [
    "#data.loc[snids[mlist]].ra.values\n",
    "#ravals[mlist]"
   ]
  },
  {
   "cell_type": "code",
   "execution_count": 21,
   "metadata": {},
   "outputs": [
    {
     "name": "stdout",
     "output_type": "stream",
     "text": [
      "Got an exception error at  19\n"
     ]
    },
    {
     "name": "stderr",
     "output_type": "stream",
     "text": [
      "/global/common/software/lsst/cori-haswell-gcc/stack/w.2018.26_sim2.9.0/stack/miniconda3-4.3.21-10a4fa6/Linux64/sncosmo/12.0-1-g5e70e90+5/lib/python/sncosmo-1.3.0-py3.6-linux-x86_64.egg/sncosmo/models.py:670: RuntimeWarning: overflow encountered in power\n",
      "  self._model['clbase'](wave)**self._parameters[2])\n",
      "/global/common/software/lsst/cori-haswell-gcc/stack/w.2018.26_sim2.9.0/stack/miniconda3-4.3.21-10a4fa6/Linux64/sncosmo/12.0-1-g5e70e90+5/lib/python/sncosmo-1.3.0-py3.6-linux-x86_64.egg/sncosmo/models.py:136: RuntimeWarning: invalid value encountered in multiply\n",
      "  fsum = np.sum(f * b.trans * b.wave * b.dwave, axis=1) / HC_ERG_AA\n",
      "/global/common/software/lsst/cori-haswell-gcc/stack/w.2018.26_sim2.9.0/stack/miniconda3-4.3.21-10a4fa6/Linux64/sncosmo/12.0-1-g5e70e90+5/lib/python/sncosmo-1.3.0-py3.6-linux-x86_64.egg/sncosmo/fitting.py:428: RuntimeWarning: fcn returns Nan\n",
      "fcn is called with following arguments:\n",
      "        z = +0.198751\n",
      "       t0 = +63100.611442\n",
      "       x0 = -7074442.843012\n",
      "       x1 = -981.667096\n",
      "        c = -30701.338297\n",
      "    mwebv = +0.000000\n",
      "    mwr_v = +3.100000\n",
      "\n",
      "  d, l = m.migrad(ncall=maxcall)\n"
     ]
    },
    {
     "name": "stdout",
     "output_type": "stream",
     "text": [
      "Got an exception error at  33\n",
      "Got an exception error at  87\n"
     ]
    },
    {
     "name": "stderr",
     "output_type": "stream",
     "text": [
      "/global/common/software/lsst/cori-haswell-gcc/stack/w.2018.26_sim2.9.0/stack/miniconda3-4.3.21-10a4fa6/Linux64/sncosmo/12.0-1-g5e70e90+5/lib/python/sncosmo-1.3.0-py3.6-linux-x86_64.egg/sncosmo/fitting.py:428: RuntimeWarning: fcn returns Nan\n",
      "fcn is called with following arguments:\n",
      "        z = +0.024390\n",
      "       t0 = +60917.149766\n",
      "       x0 = +1350531.594140\n",
      "       x1 = +231.852411\n",
      "        c = +1090.073736\n",
      "    mwebv = +0.000000\n",
      "    mwr_v = +3.100000\n",
      "\n",
      "  d, l = m.migrad(ncall=maxcall)\n"
     ]
    },
    {
     "name": "stdout",
     "output_type": "stream",
     "text": [
      "Got an exception error at  96\n",
      "Got an exception error at  140\n"
     ]
    },
    {
     "name": "stderr",
     "output_type": "stream",
     "text": [
      "/global/common/software/lsst/cori-haswell-gcc/stack/w.2018.26_sim2.9.0/stack/miniconda3-4.3.21-10a4fa6/Linux64/sncosmo/12.0-1-g5e70e90+5/lib/python/sncosmo-1.3.0-py3.6-linux-x86_64.egg/sncosmo/fitting.py:428: RuntimeWarning: fcn returns Nan\n",
      "fcn is called with following arguments:\n",
      "        z = +0.071706\n",
      "       t0 = +60171.969584\n",
      "       x0 = -69024463.042865\n",
      "       x1 = -5099.218720\n",
      "        c = -167548.605798\n",
      "    mwebv = +0.000000\n",
      "    mwr_v = +3.100000\n",
      "\n",
      "  d, l = m.migrad(ncall=maxcall)\n"
     ]
    },
    {
     "name": "stdout",
     "output_type": "stream",
     "text": [
      "Got an exception error at  145\n",
      "Got an exception error at  189\n",
      "Got an exception error at  204\n",
      "Got an exception error at  210\n",
      "Got an exception error at  217\n",
      "Got an exception error at  278\n"
     ]
    },
    {
     "name": "stderr",
     "output_type": "stream",
     "text": [
      "/global/common/software/lsst/cori-haswell-gcc/stack/w.2018.26_sim2.9.0/stack/miniconda3-4.3.21-10a4fa6/Linux64/sncosmo/12.0-1-g5e70e90+5/lib/python/sncosmo-1.3.0-py3.6-linux-x86_64.egg/sncosmo/fitting.py:428: RuntimeWarning: fcn returns Nan\n",
      "fcn is called with following arguments:\n",
      "        z = +0.007470\n",
      "       t0 = +61954.078005\n",
      "       x0 = -5168369.576073\n",
      "       x1 = -20.239460\n",
      "        c = -2789.186587\n",
      "    mwebv = +0.000000\n",
      "    mwr_v = +3.100000\n",
      "\n",
      "  d, l = m.migrad(ncall=maxcall)\n"
     ]
    },
    {
     "name": "stdout",
     "output_type": "stream",
     "text": [
      "Got an exception error at  291\n"
     ]
    },
    {
     "name": "stderr",
     "output_type": "stream",
     "text": [
      "/global/common/software/lsst/cori-haswell-gcc/stack/w.2018.26_sim2.9.0/stack/miniconda3-4.3.21-10a4fa6/Linux64/sncosmo/12.0-1-g5e70e90+5/lib/python/sncosmo-1.3.0-py3.6-linux-x86_64.egg/sncosmo/fitting.py:428: RuntimeWarning: fcn returns Nan\n",
      "fcn is called with following arguments:\n",
      "        z = +0.006465\n",
      "       t0 = +62283.561975\n",
      "       x0 = +300700.271127\n",
      "       x1 = +8.790623\n",
      "        c = +247.196982\n",
      "    mwebv = +0.000000\n",
      "    mwr_v = +3.100000\n",
      "\n",
      "  d, l = m.migrad(ncall=maxcall)\n"
     ]
    },
    {
     "name": "stdout",
     "output_type": "stream",
     "text": [
      "Got an exception error at  296\n",
      "Got an exception error at  312\n",
      "Got an exception error at  333\n",
      "Got an exception error at  350\n",
      "Got an exception error at  395\n",
      "Got an exception error at  397\n",
      "Got an exception error at  432\n",
      "Got an exception error at  531\n",
      "Got an exception error at  660\n",
      "Got an exception error at  673\n",
      "Got an exception error at  744\n",
      "Got an exception error at  764\n",
      "Got an exception error at  803\n"
     ]
    }
   ],
   "source": [
    "limit = 929\n",
    "\n",
    "sigma_mu_vals  = np.zeros(len(mlist[0:limit]))\n",
    "mu_vals        = np.zeros(len(mlist[0:limit]))\n",
    "zvals_fitsn    = np.zeros(len(mlist[0:limit]))\n",
    "zvals_fitfit   = np.zeros(len(mlist[0:limit]))\n",
    "ztruevals      = np.zeros(len(mlist[0:limit])) \n",
    "x0val_err      = np.zeros(len(mlist[0:limit]))\n",
    "x1val_err      = np.zeros(len(mlist[0:limit]))\n",
    "cval_err       = np.zeros(len(mlist[0:limit]))\n",
    "zval_err       = np.zeros(len(mlist[0:limit]))\n",
    "chisqvals      = np.zeros(len(mlist[0:limit]))\n",
    "likelihoodvals = np.zeros(len(mlist[0:limit]))\n",
    "\n",
    "t0vals_fitsn   = np.zeros(len(mlist[0:limit]))\n",
    "x0vals_fitsn   = np.zeros(len(mlist[0:limit]))\n",
    "x1vals_fitsn   = np.zeros(len(mlist[0:limit]))\n",
    "cvals_fitsn    = np.zeros(len(mlist[0:limit]))\n",
    " \n",
    "for i, val in enumerate(mlist[0:limit]):    \n",
    "    t  = create_Table(i)\n",
    "    \n",
    "    modelsncosmo.set(z=zvals[val])\n",
    "    modelsncosmo.set(t0=t0vals[val])\n",
    "    \n",
    "    try:\n",
    "        result, fitted_model  = sncosmo.fit_lc(np.sort(t), modelsncosmo, ['z','x0', 'x1', 'c'], bounds={'z':(0.0, 0.2)})\n",
    "    except:\n",
    "        print (\"Got an exception error at \",i)\n",
    "        continue\n",
    "    \n",
    "    mu_vals[i]       =  mu(fitted_model.parameters[2], fitted_model.parameters[3], fitted_model.parameters[4], \n",
    "                            data.loc[snids[mlist[i]]].totalMassStellar)\n",
    "    sigma_mBval      = sigma_mB(fitted_model.parameters[2], result.errors['x0'])\n",
    "    sigma_mu_vals[i] = sigma_mu(sigma_mBval,result.errors['x1'], result.errors['c'])\n",
    "    \n",
    "    zvals_fitsn[i]   = fitted_model.parameters[0]\n",
    "    t0vals_fitsn[i]  = fitted_model.parameters[1]\n",
    "    x0vals_fitsn[i]  = fitted_model.parameters[2]\n",
    "    x1vals_fitsn[i]  = fitted_model.parameters[3]\n",
    "    cvals_fitsn[i]   = fitted_model.parameters[4]\n",
    "    \n",
    "    ztruevals[i]    = zvals[mlist[i]]    \n",
    "    zvals_fitfit[i] = snobject.SNstate['z']\n",
    "    x0val_err[i]    = result.errors['x0']\n",
    "    x1val_err[i]    = result.errors['x1']\n",
    "    cval_err[i]     = result.errors['c']\n",
    "    zval_err[i]     = result.errors['z']\n",
    "    chisqvals[i]    = result.chisq\n",
    "    N               = len(timelist_tot[0])\n",
    "    likelihoodvals[i] = (1./(6 * N)) * np.exp(-result.chisq/2.) * 100"
   ]
  },
  {
   "cell_type": "code",
   "execution_count": null,
   "metadata": {},
   "outputs": [],
   "source": [
    "#plt.plot(likelihoodvals, zvals_fitsn, \".\")"
   ]
  },
  {
   "cell_type": "markdown",
   "metadata": {},
   "source": [
    "#### $\\chi^2$ value calculations (generating table)"
   ]
  },
  {
   "cell_type": "code",
   "execution_count": null,
   "metadata": {},
   "outputs": [],
   "source": [
    "from scipy.stats import chi2\n",
    "#p  = np.array([0.99, 0.975, 0.95, 0.90])\n",
    "p      = np.array([0.05])\n",
    "df     = np.linspace(1,30).reshape(-1,1)\n",
    "table1 = chi2.isf(p, df)"
   ]
  },
  {
   "cell_type": "code",
   "execution_count": 138,
   "metadata": {},
   "outputs": [
    {
     "data": {
      "text/plain": [
       "0.13997145536752018"
      ]
     },
     "execution_count": 138,
     "metadata": {},
     "output_type": "execute_result"
    }
   ],
   "source": [
    "np.max(zvals)"
   ]
  },
  {
   "cell_type": "code",
   "execution_count": 137,
   "metadata": {},
   "outputs": [
    {
     "data": {
      "text/plain": [
       "0.13984997748452416"
      ]
     },
     "execution_count": 137,
     "metadata": {},
     "output_type": "execute_result"
    }
   ],
   "source": [
    "np.max(ztruevals)"
   ]
  },
  {
   "cell_type": "markdown",
   "metadata": {},
   "source": [
    "### Calculating $\\mu$ for a subset of SNe"
   ]
  },
  {
   "cell_type": "code",
   "execution_count": 23,
   "metadata": {},
   "outputs": [
    {
     "data": {
      "image/png": "[encoded data removed]",
      "text/plain": [
       "<matplotlib.figure.Figure at 0x2ab55f09ebe0>"
      ]
     },
     "metadata": {},
     "output_type": "display_data"
    }
   ],
   "source": [
    "plt.hist(zvals_fitsn,       histtype='step', bins=np.linspace(0.,0.2,15), label='fitted z')\n",
    "plt.hist(ztruevals,         histtype='step', bins=np.linspace(0.,0.2,15), label='catalogue z')\n",
    "#plt.hist(z_reverse_vals_mod,histtype='step', bins=np.linspace(0.,0.2,15), label='$z(mu)$')\n",
    "plt.legend(loc='upper left')\n",
    "plt.xlabel(\"$z$\", fontsize=15)\n",
    "plt.savefig(\"zfit_zcat_hist_929SN.png\")"
   ]
  },
  {
   "cell_type": "code",
   "execution_count": null,
   "metadata": {},
   "outputs": [],
   "source": [
    "indx = np.where(np.isnan(z_reverse_vals) == True)\n",
    "z_reverse_vals_mod = np.delete(z_reverse_vals, indx)\n",
    "\n",
    "np.where(np.isnan(z_reverse_vals_mod) == True)"
   ]
  },
  {
   "cell_type": "code",
   "execution_count": 25,
   "metadata": {},
   "outputs": [
    {
     "data": {
      "image/png": "[encoded data removed]",
      "text/plain": [
       "<matplotlib.figure.Figure at 0x2ab55f7aa4e0>"
      ]
     },
     "metadata": {},
     "output_type": "display_data"
    }
   ],
   "source": [
    "plt.figure(1, figsize = (18,10))\n",
    "plt.errorbar(ztruevals, zvals_fitsn, yerr = zval_err, fmt=\"k.\")\n",
    "x = np.linspace(0,0.3, 50)\n",
    "y = np.linspace(0,0.3, 50)\n",
    "plt.plot(x,y, \"red\")\n",
    "plt.xlabel(\"$z_{cat}$\", fontsize=20)\n",
    "plt.ylabel(\"$z_{fit}$\", fontsize=20)\n",
    "plt.savefig(\"zcat_zfit_error_929SN.png\")"
   ]
  },
  {
   "cell_type": "markdown",
   "metadata": {},
   "source": [
    "### Peculiar velocity"
   ]
  },
  {
   "cell_type": "code",
   "execution_count": 26,
   "metadata": {},
   "outputs": [],
   "source": [
    "def vpec(zmu , zmeas):\n",
    "    val  = ((zmu - zmeas)* 3e5) / (1+zmeas)\n",
    "    return val"
   ]
  },
  {
   "cell_type": "code",
   "execution_count": 27,
   "metadata": {},
   "outputs": [],
   "source": [
    "vpec_vals = vpec(zvals_fitsn, ztruevals)"
   ]
  },
  {
   "cell_type": "code",
   "execution_count": 28,
   "metadata": {},
   "outputs": [
    {
     "name": "stdout",
     "output_type": "stream",
     "text": [
      "Mean =  934.398788875\n",
      "Median =  1.93820721932\n",
      "Std =  6677.59106859\n"
     ]
    }
   ],
   "source": [
    "print (\"Mean = \",   np.mean(vpec_vals))\n",
    "print (\"Median = \", np.median(vpec_vals))\n",
    "print (\"Std = \",    np.std(vpec_vals))"
   ]
  },
  {
   "cell_type": "markdown",
   "metadata": {},
   "source": [
    "#### Plot of peculiar velocity vs. fitted redshift"
   ]
  },
  {
   "cell_type": "code",
   "execution_count": 30,
   "metadata": {},
   "outputs": [
    {
     "data": {
      "image/png": "[encoded data removed]",
      "text/plain": [
       "<matplotlib.figure.Figure at 0x2ab55f8b0978>"
      ]
     },
     "metadata": {},
     "output_type": "display_data"
    }
   ],
   "source": [
    "plt.figure(2, figsize=(10, 6))\n",
    "plt.plot(zvals_fitsn , vpec_vals,\".\")\n",
    "plt.xlabel(\"$z_{fit}$\", fontsize=20)\n",
    "plt.ylabel(r\"$v_{pec} = \\frac{c(z_{fit} - z_{meas})}{(1+z_{meas})} \\, [km/s]$\", fontsize=20)\n",
    "plt.savefig(\"vpec_929SN.png\")"
   ]
  },
  {
   "cell_type": "markdown",
   "metadata": {},
   "source": [
    "#### Plot of distribution of peculiar velocity"
   ]
  },
  {
   "cell_type": "code",
   "execution_count": 33,
   "metadata": {},
   "outputs": [
    {
     "data": {
      "image/png": "[encoded data removed]",
      "text/plain": [
       "<matplotlib.figure.Figure at 0x2ab55f7cf588>"
      ]
     },
     "metadata": {},
     "output_type": "display_data"
    }
   ],
   "source": [
    "plt.figure(3, figsize=(15,6))\n",
    "plt.hist(vpec_vals, bins=50,histtype=\"step\", normed=True)\n",
    "plt.xlabel(r\"$v_{pec} = \\frac{c(z_{fit} - z_{meas})}{(1+z_{meas})} \\, [km/s]$\", fontsize=15)\n",
    "plt.savefig(\"vpec_hist_norm_929SN.png\")"
   ]
  },
  {
   "cell_type": "markdown",
   "metadata": {},
   "source": [
    "### Plotting distribution of $\\mu$ obtained from SN fitting"
   ]
  },
  {
   "cell_type": "code",
   "execution_count": 39,
   "metadata": {},
   "outputs": [
    {
     "name": "stderr",
     "output_type": "stream",
     "text": [
      "/global/common/software/lsst/common/miniconda/py3-4.3.21-env/lib/python3.6/site-packages/ipykernel/__main__.py:52: RuntimeWarning: divide by zero encountered in log\n"
     ]
    },
    {
     "data": {
      "image/png": "[encoded data removed]",
      "text/plain": [
       "<matplotlib.figure.Figure at 0x2ab55f816da0>"
      ]
     },
     "metadata": {},
     "output_type": "display_data"
    }
   ],
   "source": [
    "ztheory        = np.linspace(zvals_fitfit.min(), zvals_fitfit.max(),len(mlist))\n",
    "mu_theory_vect = np.vectorize(mu_kosowsky)\n",
    "mu_theory      = mu_theory_vect(ztheory)\n",
    "\n",
    "plt.hist(mu_vals, bins = np.linspace(35,70,30), histtype = \"step\", color=\"black\", normed=\"True\")\n",
    "plt.xlabel(r\"$\\mu (z)$\", fontsize=15)\n",
    "plt.ylabel(\"N\", fontsize=15)\n",
    "plt.savefig(\"mu_hist_929SN.png\")"
   ]
  },
  {
   "cell_type": "markdown",
   "metadata": {},
   "source": [
    "### $\\mu(z)$ from theory"
   ]
  },
  {
   "cell_type": "code",
   "execution_count": 35,
   "metadata": {},
   "outputs": [],
   "source": [
    "from   scipy              import interpolate, integrate\n",
    "\n",
    "h  = 0.6726\n",
    "H0 = h*100.\n",
    "\n",
    "def chi_integrand(zprime):\n",
    "    '''\n",
    "    Parameters\n",
    "    -------------------------------------------------------------------------------------------------\n",
    "        zprime: redshift values\n",
    "        \n",
    "    Return\n",
    "    -------------------------------------------------------------------------------------------------\n",
    "        Integrand of integral part in luminosity distance in Equation (3) in Kosowsky 2011.\n",
    "        d(zprime)/ E(zprime)\n",
    "    '''\n",
    "\n",
    "    omegam = 0.316\n",
    "    omegav = 0.684\n",
    "    val    = 1./(np.sqrt(omegam*(1+zprime)**3 + omegav))\n",
    "    return val\n",
    "\n",
    "def chi_integral(z):\n",
    "    '''\n",
    "    Parameters\n",
    "    -------------------------------------------------------------------------------------------------\n",
    "        z: redshift\n",
    "        \n",
    "    Return\n",
    "    -------------------------------------------------------------------------------------------------\n",
    "        Integral of the integral in luminsoty distance in Equation (3) in Kosowsky 2011.\n",
    "        d(zprime)/ E(zprime) integrated from 0 to z\n",
    "    '''\n",
    "    \n",
    "    c       = 3e5 #km/s\n",
    "    val,err = integrate.quad(chi_integrand,0,z)\n",
    "    return val\n",
    "\n",
    "def mu_kosowsky(z):\n",
    "    '''\n",
    "    Parameters\n",
    "    -------------------------------------------------------------------------------------------------\n",
    "        z: redshift\n",
    "        \n",
    "    Return\n",
    "    -------------------------------------------------------------------------------------------------\n",
    "        Distance modulus (mu) obtained from Equation (2) in Kosowsky\n",
    "    '''\n",
    "    \n",
    "    c   = 3e5\n",
    "    righthandside = (1+z) * (c/H0) * chi_integral(z)\n",
    "    val = 2.17 * np.log(righthandside) + 25.\n",
    "    return val"
   ]
  },
  {
   "cell_type": "code",
   "execution_count": 40,
   "metadata": {},
   "outputs": [],
   "source": [
    "from   scipy              import interpolate, integrate"
   ]
  },
  {
   "cell_type": "code",
   "execution_count": 41,
   "metadata": {},
   "outputs": [],
   "source": [
    "def reverse_mu(mu):\n",
    "    zinterp        = np.linspace(0,2,100)\n",
    "    mu_theory_vect = np.vectorize(mu_kosowsky)\n",
    "    muinterp       = mu_theory_vect(zinterp)\n",
    "    func           = interpolate.interp1d(muinterp, zinterp)\n",
    "    return func(mu)"
   ]
  },
  {
   "cell_type": "code",
   "execution_count": 43,
   "metadata": {},
   "outputs": [],
   "source": [
    "#z_reverse_vals = reverse_mu(mu_vals)"
   ]
  },
  {
   "cell_type": "code",
   "execution_count": null,
   "metadata": {},
   "outputs": [],
   "source": [
    "plt.figure(1, figsize = (10,6))\n",
    "plt.errorbar(zvals_fitsn, z_reverse_vals, fmt=\"k.\")\n",
    "x = np.linspace(0,0.3, 50)\n",
    "y = np.linspace(0,0.3, 50)\n",
    "plt.plot(x,y, \"red\")\n",
    "plt.xlabel(\"$z_{fit}$\", fontsize=20)\n",
    "plt.ylabel(\"$z_(\\mu)$\", fontsize=20)"
   ]
  },
  {
   "cell_type": "markdown",
   "metadata": {},
   "source": [
    "### Number of SN available\n",
    "To find which SNe have larger number of times so that we have more points to fit for the fluxes in each band"
   ]
  },
  {
   "cell_type": "code",
   "execution_count": null,
   "metadata": {
    "scrolled": false
   },
   "outputs": [],
   "source": [
    "counters = 0\n",
    "for i in range(len(mlist)):\n",
    "    if np.shape(timelist_tot[i])[0] <10 :\n",
    "        counters = counters+1\n",
    "        print (i)\n",
    "        \n",
    "#print (\"Total number of SN = \", np.shape(timelist_tot[16]))"
   ]
  },
  {
   "cell_type": "code",
   "execution_count": 73,
   "metadata": {},
   "outputs": [],
   "source": [
    "from astropy.cosmology import FlatLambdaCDM\n",
    "cosmo = FlatLambdaCDM(H0=70, Om0=0.3, Tcmb0=2.725)\n",
    "from astropy import units as u"
   ]
  },
  {
   "cell_type": "code",
   "execution_count": 74,
   "metadata": {},
   "outputs": [
    {
     "data": {
      "text/latex": [
       "$418.45082 \\; \\mathrm{}$"
      ],
      "text/plain": [
       "<Quantity 418.4508155899051>"
      ]
     },
     "execution_count": 74,
     "metadata": {},
     "output_type": "execute_result"
    }
   ],
   "source": [
    "cosmo.comoving_distance(0.1) / u.Mpc"
   ]
  },
  {
   "cell_type": "code",
   "execution_count": 75,
   "metadata": {},
   "outputs": [],
   "source": [
    "comoving_r = cosmo.comoving_distance(zvals_fitsn) / u.Mpc"
   ]
  },
  {
   "cell_type": "markdown",
   "metadata": {},
   "source": [
    "### saving to file for c++ code"
   ]
  },
  {
   "cell_type": "code",
   "execution_count": 80,
   "metadata": {},
   "outputs": [],
   "source": [
    "data_Save = np.column_stack((ravals[mlist], decvals[mlist], zvals_fitsn, np.array(comoving_r), vpec_vals))"
   ]
  },
  {
   "cell_type": "code",
   "execution_count": 81,
   "metadata": {},
   "outputs": [],
   "source": [
    "np.savetxt(\"DC2_test_z0.1_929SN_nolikelihood.dat\", data_Save, fmt=\"%.9e\")"
   ]
  },
  {
   "cell_type": "code",
   "execution_count": 143,
   "metadata": {},
   "outputs": [
    {
     "data": {
      "image/png": "[encoded data removed]",
      "text/plain": [
       "<matplotlib.figure.Figure at 0x2ab56d6d8eb8>"
      ]
     },
     "metadata": {},
     "output_type": "display_data"
    }
   ],
   "source": [
    "plt.figure(4, figsize=(18,4))\n",
    "plt.subplot(131)\n",
    "plt.hist(x0vals_fitsn, bins=np.linspace(0,1e-2,50), histtype= \"step\" , normed=True, label=\"Fit\")\n",
    "plt.hist(x0vals,       bins=np.linspace(0,1e-2,50), histtype= \"step\",  normed=True, label=\"Theory\")\n",
    "plt.legend(loc='best')\n",
    "plt.xlabel(\"x0\")\n",
    "\n",
    "plt.subplot(132)\n",
    "plt.hist(x1vals_fitsn, bins=np.linspace(-10,10,50), histtype= \"step\", normed=True, label=\"Fit\")\n",
    "plt.hist(x1vals,       bins=np.linspace(-10,10,50), histtype= \"step\", normed=True, label=\"Theory\")\n",
    "plt.legend(loc='best')\n",
    "plt.xlabel(\"x1\")\n",
    "\n",
    "plt.subplot(133)\n",
    "plt.hist(cvals_fitsn, bins=np.linspace(-1,1,50), histtype= \"step\", normed=True, label=\"Fit\")\n",
    "plt.hist(cvals,       bins=np.linspace(-1,1,50), histtype= \"step\", normed=True, label=\"Theory\")\n",
    "plt.legend(loc='best')\n",
    "plt.xlabel(\"c\")\n",
    "\n",
    "plt.savefig(\"lightcurve_params_hists_929SN_z0.1.png\")"
   ]
  },
  {
   "cell_type": "code",
   "execution_count": null,
   "metadata": {},
   "outputs": [],
   "source": []
  }
 ],
 "metadata": {
  "kernelspec": {
   "display_name": "lsst",
   "language": "python",
   "name": "lsst"
  },
  "language_info": {
   "codemirror_mode": {
    "name": "ipython",
    "version": 3
   },
   "file_extension": ".py",
   "mimetype": "text/x-python",
   "name": "python",
   "nbconvert_exporter": "python",
   "pygments_lexer": "ipython3",
   "version": "3.6.2"
  }
 },
 "nbformat": 4,
 "nbformat_minor": 2
}
