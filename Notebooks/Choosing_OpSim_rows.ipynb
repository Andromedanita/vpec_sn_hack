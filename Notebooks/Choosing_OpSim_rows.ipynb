{
 "cells": [
  {
   "cell_type": "code",
   "execution_count": 1,
   "metadata": {},
   "outputs": [],
   "source": [
    "import os\n",
    "import numpy as np\n",
    "import matplotlib.pyplot as plt\n",
    "%matplotlib inline\n",
    "import pandas as pd\n",
    "\n",
    "import lsst.sims.maf.db as db\n",
    "import lsst.sims.maf.metrics as metrics\n",
    "import lsst.sims.maf.stackers as stackers\n",
    "import lsst.sims.maf.slicers as slicers\n",
    "import lsst.sims.maf.plots as plots\n",
    "import lsst.sims.maf.metricBundles as mb"
   ]
  },
  {
   "cell_type": "markdown",
   "metadata": {},
   "source": [
    "#### This file can be replaced with any of the opsim files"
   ]
  },
  {
   "cell_type": "code",
   "execution_count": 2,
   "metadata": {},
   "outputs": [],
   "source": [
    "opsfilename = 'minion_1016_newsky.db'\n",
    "opsdb       = db.OpsimDatabase(opsfilename)\n",
    "\n",
    "simdata = opsdb.query_columns(opsdb.defaultTable, \n",
    "                              colnames=['fieldRA', 'fieldDec', 'filter', 'night', 'visitTime', 'airmass', 'filtSkyBrightness', 'expMJD', 'fiveSigmaDepth'], \n",
    "                              sqlconstraint=None)"
   ]
  },
  {
   "cell_type": "markdown",
   "metadata": {},
   "source": [
    "### Putting OpSim columns in arrays to make it easier to work with"
   ]
  },
  {
   "cell_type": "code",
   "execution_count": 3,
   "metadata": {},
   "outputs": [],
   "source": [
    "ra_array      = np.zeros(len(simdata))\n",
    "dec_array     = np.zeros(len(simdata))\n",
    "airmass_array = np.zeros(len(simdata))\n",
    "time_array    = np.zeros(len(simdata))\n",
    "night_array   = np.zeros(len(simdata))\n",
    "sigmadepth    = np.zeros(len(simdata))\n",
    "\n",
    "# creating empty array for strings for filter names\n",
    "val           = [''] * len(simdata)\n",
    "filter_array  = np.array(val)\n",
    "\n",
    "for i in range(len(simdata)):\n",
    "    ra_array[i]      = simdata[i][0]\n",
    "    dec_array[i]     = simdata[i][1]\n",
    "    filter_array[i]  = simdata[i][2]\n",
    "    night_array[i]   = simdata[i][3]\n",
    "    time_array[i]    = simdata[i][7] # time should be expMJD\n",
    "    airmass_array[i] = simdata[i][5]\n",
    "    sigmadepth[i]    = simdata[i][8]  # 5 sigma depth"
   ]
  },
  {
   "cell_type": "code",
   "execution_count": 4,
   "metadata": {},
   "outputs": [],
   "source": [
    "import sncosmo\n",
    "from   astropy.table    import Table\n",
    "import numpy            as np\n",
    "import matplotlib.pylab as plt\n",
    "from   astropy.io       import ascii"
   ]
  },
  {
   "cell_type": "markdown",
   "metadata": {},
   "source": [
    "#### Setting the filename of sampled supernova parameters. \n",
    "This file is obtained by running SNTable notebook that Rahul has. It has (x0,x1,c,t0,z) and host galaxy information. t0 is the peak magnitude time of each supernova."
   ]
  },
  {
   "cell_type": "code",
   "execution_count": null,
   "metadata": {},
   "outputs": [],
   "source": [
    "filename = \"/global/homes/a/anitab/DC2_run1p1_TransientDocs/Notebooks/Hosted_SN_table.csv\"\n",
    "from pandas import read_csv\n",
    "\n",
    "data  = read_csv(filename, delim_whitespace=True)\n",
    "#data = vvv['galaxy_id c mB t0 x0 x1 z random_Hosting rand_host zbin \"Unnamed: 0\" diskMassStellar morphology/diskHalfLightRadiusArcsec morphology/diskMinorAxisArcsec morphology/positionAngle morphology/spheroidHalfLightRadiusArcsec morphology/spheroidMinorAxisArcsec size_bulge_true size_disk_true totalMassStellar uniqueId raJ2000_gal decJ2000_gal z zbin_gals snid']\n",
    "\n",
    "# uncomment this to see what columns are available\n",
    "###vvv.columns "
   ]
  },
  {
   "cell_type": "code",
   "execution_count": null,
   "metadata": {},
   "outputs": [],
   "source": [
    "data.set_index('snid', inplace=True)"
   ]
  },
  {
   "cell_type": "code",
   "execution_count": null,
   "metadata": {},
   "outputs": [],
   "source": [
    "data.head()"
   ]
  },
  {
   "cell_type": "markdown",
   "metadata": {},
   "source": [
    "### Sampled SN properties in an array\n",
    "$m_B = 10.635 - \\log_{10}(x0)$"
   ]
  },
  {
   "cell_type": "code",
   "execution_count": null,
   "metadata": {},
   "outputs": [],
   "source": [
    "length  = len(data)\n",
    "'''\n",
    "zvals   = np.zeros(length) \n",
    "x0vals  = np.zeros(length)\n",
    "x1vals  = np.zeros(length)\n",
    "cvals   = np.zeros(length)\n",
    "mBvals  = np.zeros(length)\n",
    "t0vals  = np.zeros(length)\n",
    "smass   = np.zeros(length)\n",
    "ravals  = np.zeros(length)\n",
    "decvals = np.zeros(length)\n",
    "snidvals = []\n",
    "'''\n",
    "#for i in range(length):\n",
    "    #zvals[i]   = data[i].split()[6]  # redshifts\n",
    "    #x0vals[i]  = data[i].split()[4]  # x0 values\n",
    "    #x1vals[i]  = data[i].split()[5]  # x1 values\n",
    "    #cvals[i]   = data[i].split()[1]  # c values\n",
    "    #mBvals[i]  = data[i].split()[2]  # mB values\n",
    "    #t0vals[i]  = data[i].split()[3]  # Peak magnitude\n",
    "    #smass[i]   = data[i].split()[20] # Stellar mass of host galaxy\n",
    "    #ravals[i]  = data[i].split()[21] # Ra of SN\n",
    "    #decvals[i] = data[i].split()[22] # Dec of SN\n",
    " \n",
    "zvals   = data.z.values\n",
    "x0vals  = data.x0.values\n",
    "x1vals  = data.x1.values\n",
    "cvals   = data.c.values\n",
    "mBvals  = data.mB.values\n",
    "t0vals  = data.t0.values\n",
    "smass   = data.totalMassStellar.values\n",
    "ravals  = data.raJ2000_gal.values\n",
    "decvals = data.decJ2000_gal.values\n"
   ]
  },
  {
   "cell_type": "code",
   "execution_count": null,
   "metadata": {},
   "outputs": [],
   "source": [
    "snids = data.index.values"
   ]
  },
  {
   "cell_type": "code",
   "execution_count": null,
   "metadata": {},
   "outputs": [],
   "source": [
    "np.max(x0vals)"
   ]
  },
  {
   "cell_type": "markdown",
   "metadata": {},
   "source": [
    "### Choosing rows of OpSim based on sampled SNe"
   ]
  },
  {
   "cell_type": "code",
   "execution_count": null,
   "metadata": {},
   "outputs": [],
   "source": [
    "import os\n",
    "import opsimsummary as oss\n",
    "import healpy as hp\n",
    "print(oss.__version__)"
   ]
  },
  {
   "cell_type": "code",
   "execution_count": null,
   "metadata": {},
   "outputs": [],
   "source": [
    "from opsimsummary import SynOpSim"
   ]
  },
  {
   "cell_type": "markdown",
   "metadata": {},
   "source": [
    "I need to make sure angleUnit has 'degrees' attribute"
   ]
  },
  {
   "cell_type": "code",
   "execution_count": null,
   "metadata": {},
   "outputs": [],
   "source": [
    "synopsim  = SynOpSim.fromOpSimDB(opsfilename, opsimversion='lsstv3',\n",
    "                                angleUnit='degrees', usePointingTree=True)"
   ]
  },
  {
   "cell_type": "markdown",
   "metadata": {},
   "source": [
    "### Generator\n",
    "This is a Python generator function to make going through data faster. This goes through the observing file and uses Ra and Dec of sampled SNe to determine which SNe would be visible at which times."
   ]
  },
  {
   "cell_type": "code",
   "execution_count": null,
   "metadata": {},
   "outputs": [],
   "source": [
    "gen = synopsim.pointingsEnclosing(ravals, decvals, circRadius=0., pointingRadius=1.75, usePointingTree=True)"
   ]
  },
  {
   "cell_type": "markdown",
   "metadata": {},
   "source": [
    "### Time and filters from OpSim file\n",
    "This is going through the generator and inserting times of observation and filer names in a list. After running this for loop, if we need to go through the generator again, we need to run the gen = ... line again because the generator has now gone all the way to the end. So, we need ro rerun this line:\n",
    "\n",
    "gen = synopsim.pointingsEnclosing(ravals, decvals, circRadius=0., pointingRadius=1.75, usePointingTree=True)"
   ]
  },
  {
   "cell_type": "code",
   "execution_count": null,
   "metadata": {},
   "outputs": [],
   "source": [
    "#df = next(gen)"
   ]
  },
  {
   "cell_type": "code",
   "execution_count": null,
   "metadata": {},
   "outputs": [],
   "source": [
    "#np.abs(df.expMJD - data.iloc[0].t0).min"
   ]
  },
  {
   "cell_type": "code",
   "execution_count": null,
   "metadata": {},
   "outputs": [],
   "source": [
    "#x = (df.expMJD - data.iloc[0].t0).values"
   ]
  },
  {
   "cell_type": "code",
   "execution_count": null,
   "metadata": {},
   "outputs": [],
   "source": [
    "# np.where((x > -19.) & (x < 49))[0].size"
   ]
  },
  {
   "cell_type": "code",
   "execution_count": null,
   "metadata": {},
   "outputs": [],
   "source": [
    "# data.iloc[1].name"
   ]
  },
  {
   "cell_type": "code",
   "execution_count": null,
   "metadata": {},
   "outputs": [],
   "source": [
    "#snids = []\n",
    "#times = []\n",
    "#for i, df in enumerate(gen):\n",
    "#    x = (df.expMJD - data.iloc[0].t0).values\n",
    "#    if np.where((x > -19.) & (x < 49))[0].size > 0 :\n",
    "#        snids.append(data.iloc[i].name)\n",
    "#        times.append(df.iloc[x].expMJD)"
   ]
  },
  {
   "cell_type": "code",
   "execution_count": null,
   "metadata": {},
   "outputs": [],
   "source": [
    "timeopsim_list       = []\n",
    "filteropsim_list     = []\n",
    "sigmadepthopsim_list = []\n",
    "\n",
    "for i, df in enumerate(gen):\n",
    "    \n",
    "    timeopsim = df['expMJD']\n",
    "    timeopsim_list.append(timeopsim.values)\n",
    "    \n",
    "    filteropsim = df['filter']\n",
    "    filteropsim_list.append(filteropsim.values)\n",
    "    \n",
    "    sigmadepthopsim = df['fiveSigmaDepth']\n",
    "    sigmadepthopsim_list.append(sigmadepthopsim.values)\n",
    "    \n",
    "    #raopsim = df['fieldRA']\n",
    "    #raopsim_list.append(raopsim.values)\n",
    "    ###raopsim_list += raopsim.values.tolist() # this is to make the 2D array into 1D array. Not needed in general though"
   ]
  },
  {
   "cell_type": "markdown",
   "metadata": {},
   "source": [
    "### Plotting SNe and their corresponding OpSim points\n",
    "This shows supernovae as red dots and the OpSim visits as blue dots. There might be multiple visits at the same location so some points are overlapping and they are for different times."
   ]
  },
  {
   "cell_type": "code",
   "execution_count": null,
   "metadata": {},
   "outputs": [],
   "source": [
    "'''\n",
    "ifx      = np.array([21,22,23,24,25]) # subplot numbers (for turning x ticks on/off)\n",
    "ify      = np.array([1,6,11,16,21])   # subplot numbers (for turning y ticks on/off)\n",
    "\n",
    "plt.figure(1, figsize=(15,15))\n",
    "\n",
    "for i in range(25):\n",
    "    \n",
    "    plt.subplot(5,5,i+1)\n",
    "    plt.plot(np.rad2deg(decopsim_list[1000*i]), np.rad2deg(raopsim_list[1000*i]), \".\", color=\"blue\")\n",
    "    plt.plot(decvals[1000*i], ravals[1000*i], \".\", color=\"red\")\n",
    "    plt.ylim(50,60)\n",
    "    plt.xlim(-34,-24)\n",
    "    plt.tick_params(axis='both', labelleft='off', labelbottom='off')\n",
    "\n",
    "    if i+1 in ifx:\n",
    "        plt.xlabel(\"Ra [deg]\",fontsize=15)\n",
    "        plt.tick_params(axis='x', labelbottom='on')\n",
    "    if i+1 in ify:\n",
    "        plt.ylabel(\"Dec [deg]\",fontsize=15)\n",
    "        plt.tick_params(axis='y', labelleft='on')\n",
    "    \n",
    "plt.suptitle(\"SNe in red with opsim visits in blue\")\n",
    "'''"
   ]
  },
  {
   "cell_type": "markdown",
   "metadata": {},
   "source": [
    "### Checking time range of OpSim with $t_0$\n",
    "Looping over all supernova and checking the observing times corresponding to supernova location from OpSim file and adding the ones that are within (t0 - 19 < OpSimtime < t0+49 ) range. This is the SALT model time range. If the OpSim time is not within this time range, the flux calculated would be 0 and we do not get any useful information. So, I want to reduce the number of data and only work with the useful data."
   ]
  },
  {
   "cell_type": "code",
   "execution_count": null,
   "metadata": {},
   "outputs": [],
   "source": [
    "from lsst.sims.catUtils.supernovae import SNObject\n",
    "from lsst.sims.photUtils.BandpassDict import BandpassDict\n",
    "\n",
    "# Setting the LSST BandPass object to be used in BandFlux function\n",
    "LSST_BandPass = BandpassDict.loadTotalBandpassesFromFiles()\n",
    "\n",
    "mlist     = []\n",
    "jlist_tot = []\n",
    "snids_tot = []\n",
    "\n",
    "for m in range(len(timeopsim_list)):\n",
    "    jlist = []\n",
    "    for j in range(len(timeopsim_list[m])):\n",
    "        if (timeopsim_list[m][j] > t0vals[m] -19 and timeopsim_list[m][j] < t0vals[m] + 49):\n",
    "            jlist.append(j)\n",
    "    if jlist:\n",
    "        mlist.append(m)\n",
    "        jlist_tot.append(jlist)\n",
    "        "
   ]
  },
  {
   "cell_type": "code",
   "execution_count": null,
   "metadata": {},
   "outputs": [],
   "source": [
    "snids[mlist]"
   ]
  },
  {
   "cell_type": "code",
   "execution_count": null,
   "metadata": {},
   "outputs": [],
   "source": [
    "data.loc[snids].query('z < 0.1').z.size"
   ]
  },
  {
   "cell_type": "code",
   "execution_count": null,
   "metadata": {},
   "outputs": [],
   "source": [
    "data.loc[snids, 'z']"
   ]
  },
  {
   "cell_type": "code",
   "execution_count": null,
   "metadata": {},
   "outputs": [],
   "source": [
    "for times in timeopsim_list:\n",
    "    if 0 == len(times):\n",
    "        continue\n",
    "    "
   ]
  },
  {
   "cell_type": "markdown",
   "metadata": {},
   "source": [
    "### Calculating the flux\n",
    "Goes through a loop for each supernova and sets the parameters for each and then calculates the flux for all the visits"
   ]
  },
  {
   "cell_type": "code",
   "execution_count": null,
   "metadata": {},
   "outputs": [],
   "source": [
    "fluxlist_tot    = [] \n",
    "timelist_tot    = []\n",
    "fluxerrlist_tot = []\n",
    "filterlist_tot  = []\n",
    "\n",
    "# Going through each SN\n",
    "for SN_id, val in enumerate(mlist[:400]):\n",
    "    # setting parameters for each supernova\n",
    "    params   = {'x0': x0vals[val], 'x1': x1vals[val], 'c': cvals[val], 't0':t0vals[val], 'z':zvals[val]}\n",
    "    snobject = SNObject(ravals[val], decvals[val])\n",
    "    snobject.set(**params)\n",
    "    snobject.set_MWebv(0.0) # Finally we should not have this\n",
    "    \n",
    "    # to make filternames what the code accepts using list comprehension to make it faster\n",
    "    filters_modified = [LSST_BandPass[key] for key in filteropsim_list[val]]\n",
    "\n",
    "    fluxlist    = []\n",
    "    timelist    = []\n",
    "    fluxerrlist = []\n",
    "    filterlist  = []\n",
    "    #snid_useful = []\n",
    "    \n",
    "    # going through all the visits for each single supernova\n",
    "    for j in jlist_tot[SN_id]:\n",
    "        fluxval = snobject.catsimBandFlux(bandpassobject = filters_modified[j], time = timeopsim_list[val][j])\n",
    "        fluxlist.append(fluxval)\n",
    "        timelist.append(timeopsim_list[val][j]) # appending the times of observation to a list\n",
    "        \n",
    "        fluxvalerr = snobject.catsimBandFluxError(bandpassobject = filters_modified[j], time = timeopsim_list[val][j], m5 = sigmadepthopsim_list[val][j])\n",
    "        fluxerrlist.append(fluxvalerr)\n",
    "        \n",
    "        filterlist.append(filteropsim_list[val][j])\n",
    "    \n",
    "    fluxlist_tot.append(fluxlist) # shape should be (number of SN, entries for each SN)\n",
    "    timelist_tot.append(timelist) # shape should be (number of SN, entries for each SN)\n",
    "    fluxerrlist_tot.append(fluxerrlist) # shape should be (number of SN, entries for each SN)\n",
    "    filterlist_tot.append(filterlist)"
   ]
  },
  {
   "cell_type": "markdown",
   "metadata": {},
   "source": [
    "### Plotting flux vs. time\n",
    "This is the fluxes obtained using catsimBandFlux() function for a selection of SNe vs expMJD time. The points are fluxes in all bands so that is why they have funny and oscillating shapes."
   ]
  },
  {
   "cell_type": "code",
   "execution_count": null,
   "metadata": {},
   "outputs": [],
   "source": [
    "ifx      = np.array([21,22,23,24,25]) # subplot numbers (for turning x ticks on/off)\n",
    "ify      = np.array([1,6,11,16, 21])\n",
    "\n",
    "plt.figure(1, figsize=(15,15))\n",
    "\n",
    "for i in range(25):\n",
    "    plt.subplot(5,5,i+1)\n",
    "    \n",
    "    indx = np.arange(0,len(timelist_tot[i]))\n",
    "    Z = [x for _,x in sorted(zip(timelist_tot[i],indx))]\n",
    "        \n",
    "    plt.errorbar(np.sort(timelist_tot[i]), np.array(fluxlist_tot[i])[Z], yerr = np.array(fluxerrlist_tot[i])[Z], color='blue')\n",
    "    \n",
    "    #plt.plot(np.sort(timelist_tot[i]), np.array(fluxlist_tot[i])[Z], \"o\", color='blue')\n",
    "    #plt.plot(np.sort(timelist_tot[i]), np.array(fluxlist_tot[i])[Z], color='blue')\n",
    "    \n",
    "    #plt.tick_params(axis='both', labelleft='off', labelbottom='off')\n",
    "\n",
    "    if i+1 in ifx:\n",
    "        plt.xlabel(\"Time [MJD]\",fontsize=15)\n",
    "    #    plt.tick_params(axis='x', labelbottom='on')\n",
    "    if i+1 in ify:\n",
    "        plt.ylabel(\"Flux\",fontsize=15)\n",
    "    #    plt.tick_params(axis='y', labelleft='on')"
   ]
  },
  {
   "cell_type": "markdown",
   "metadata": {},
   "source": [
    "### sncosmo fitting\n",
    "https://sncosmo.readthedocs.io/en/v1.6.x/photdata.html?highlight=Photometric%20Data\n",
    "\n",
    "I want to make a table that has all the information to pass to sncosmo. It should be a table that includes:\n",
    "(time, band, flux, fluxerr, zp, zpsys). \n",
    "\n",
    "The band should be in the form of 'lsstu', 'lsstg', ...\n",
    "\n",
    "zp: 'ab'"
   ]
  },
  {
   "cell_type": "markdown",
   "metadata": {},
   "source": [
    "### Creating a table to pass to sncosmo\n",
    "This function creates a table that has (time, band, flux, fluxerr, zp, zpsys) values in a Table that can be passed to sncosmo fit_lc() function. The format of the bands should be correct as it is done here."
   ]
  },
  {
   "cell_type": "code",
   "execution_count": null,
   "metadata": {},
   "outputs": [],
   "source": [
    "from astropy.table import Table, Column\n",
    "\n",
    "modelsncosmo     = sncosmo.Model(source = 'salt2-extended') # setting SN model\n",
    "\n",
    "def create_Table(SnNum, timelist=timelist_tot):\n",
    "    t            = Table()\n",
    "    \n",
    "    length       = len(timelist[SnNum])  # length of time and flux array for each SN\n",
    "    zpsysarray   = np.array(['ab'] * length) # creating an array of zpsys\n",
    "\n",
    "    t['time']    = timelist_tot[SnNum]       # setting time\n",
    "    # This line is to make bands in a format readable for sncosmo\n",
    "    t['band']    = np.array(['lsst' + np.array(filterlist_tot[SnNum])[i] for i in range(len(filterlist_tot[SnNum]))]) #('lsst' + filterlist_tot[indxval])\n",
    "    t['flux']    = fluxlist_tot[SnNum]       # flux\n",
    "    t['fluxerr'] = fluxerrlist_tot[SnNum]    # fluxerr\n",
    "    t['zp']      = np.zeros(length)          # zp (all zp values are 0)\n",
    "    t['zpsys']   = zpsysarray                # zpsys\n",
    "\n",
    "    t['band']    = t['band'].astype(str)     # to make sure band has the correct format\n",
    "    \n",
    "    return t"
   ]
  },
  {
   "cell_type": "code",
   "execution_count": null,
   "metadata": {},
   "outputs": [],
   "source": [
    "from analyzeSN import LightCurve"
   ]
  },
  {
   "cell_type": "code",
   "execution_count": null,
   "metadata": {},
   "outputs": [],
   "source": [
    "t  = create_Table(260)"
   ]
  },
  {
   "cell_type": "code",
   "execution_count": null,
   "metadata": {},
   "outputs": [],
   "source": [
    "snids[mlist[260]]"
   ]
  },
  {
   "cell_type": "code",
   "execution_count": null,
   "metadata": {},
   "outputs": [],
   "source": [
    "#lc = LightCurve(t.to_pandas().query('band != \"sdssy\"').sort_values(by='time'))"
   ]
  },
  {
   "cell_type": "code",
   "execution_count": null,
   "metadata": {},
   "outputs": [],
   "source": [
    "#t  = Table(np.sort(t))que"
   ]
  },
  {
   "cell_type": "code",
   "execution_count": null,
   "metadata": {},
   "outputs": [],
   "source": [
    "modelsncosmo.set(z=data.loc[snids[mlist[260]]].z)\n",
    "modelsncosmo.set(t0=data.loc[snids[mlist[260]]].t0)\n",
    "result, fitted_model  = sncosmo.fit_lc(np.sort(t), modelsncosmo, ['x0', 'x1', 'c'])"
   ]
  },
  {
   "cell_type": "code",
   "execution_count": null,
   "metadata": {},
   "outputs": [],
   "source": [
    "modelsncosmo.set(z=data.loc[mlist[260]].z)\n",
    "modelsncosmo.set(t0=data.loc[mlist[260]].t0)\n",
    "result, fitted_model  = sncosmo.fit_lc(lc.snCosmoLC(), modelsncosmo, ['x0', 'x1', 'c'])\n",
    "#result, fitted_model  = sncosmo.fit_lc(lc.snCosmoLC(), modelsncosmo, ['t0', 'x0', 'x1', 'c'])\n",
    "                                      #bounds=dict(z=(0., 1.0)))"
   ]
  },
  {
   "cell_type": "code",
   "execution_count": null,
   "metadata": {},
   "outputs": [],
   "source": [
    "from collections import OrderedDict as Odict"
   ]
  },
  {
   "cell_type": "code",
   "execution_count": null,
   "metadata": {},
   "outputs": [],
   "source": [
    "params = Odict(data.loc[snids[mlist[260]]][['z', 'c', 'x1', 'x0', 't0']])"
   ]
  },
  {
   "cell_type": "code",
   "execution_count": null,
   "metadata": {},
   "outputs": [],
   "source": [
    "!echo ${THROUGHPUTS_DIR}"
   ]
  },
  {
   "cell_type": "code",
   "execution_count": null,
   "metadata": {},
   "outputs": [],
   "source": [
    "import analyzeSN"
   ]
  },
  {
   "cell_type": "code",
   "execution_count": null,
   "metadata": {},
   "outputs": [],
   "source": [
    "truth = sncosmo.Model(source='salt2-extended')\n",
    "truth.set(**params)"
   ]
  },
  {
   "cell_type": "code",
   "execution_count": null,
   "metadata": {},
   "outputs": [],
   "source": [
    "truth_salt = sncosmo.Model(source='salt2')\n",
    "truth_salt.set(**params)"
   ]
  },
  {
   "cell_type": "code",
   "execution_count": null,
   "metadata": {},
   "outputs": [],
   "source": [
    "print(truth_salt)"
   ]
  },
  {
   "cell_type": "code",
   "execution_count": null,
   "metadata": {},
   "outputs": [],
   "source": [
    "sncosmo.get_bandpass('lsstr').wave"
   ]
  },
  {
   "cell_type": "code",
   "execution_count": null,
   "metadata": {},
   "outputs": [],
   "source": [
    "t"
   ]
  },
  {
   "cell_type": "code",
   "execution_count": null,
   "metadata": {},
   "outputs": [],
   "source": [
    "snobject"
   ]
  },
  {
   "cell_type": "code",
   "execution_count": null,
   "metadata": {},
   "outputs": [],
   "source": [
    "snobject.SNstate"
   ]
  },
  {
   "cell_type": "code",
   "execution_count": null,
   "metadata": {},
   "outputs": [],
   "source": [
    "fig = sncosmo.plot_lc(np.sort(t), model=(fitted_model, truth), errors=result.errors, \n",
    "                    model_label=(\"fit\", \"truth\"), pulls=True)"
   ]
  },
  {
   "cell_type": "code",
   "execution_count": null,
   "metadata": {},
   "outputs": [],
   "source": [
    "result"
   ]
  },
  {
   "cell_type": "code",
   "execution_count": null,
   "metadata": {},
   "outputs": [],
   "source": [
    "def calc_lc(data, zmin, zmax):\n",
    "    #band_indx = np.where(data['band'] == band) # finding indices of table with the specified band\n",
    "    result, fitted_model  = sncosmo.fit_lc(np.sort(data), modelsncosmo, ['z', 't0', 'x0', 'x1', 'c'], bounds={'z':(zmin, zmax)})\n",
    "    sncosmo.plot_lc(np.sort(data[band_indx]), model=fitted_model, errors=result.errors)\n",
    "    return result, fitted_model"
   ]
  },
  {
   "cell_type": "code",
   "execution_count": null,
   "metadata": {},
   "outputs": [],
   "source": [
    "#sys.path.insert(0,\"/global/homes/a/anitab/.local/cori/\")"
   ]
  },
  {
   "cell_type": "code",
   "execution_count": null,
   "metadata": {},
   "outputs": [],
   "source": [
    "#import sncosmo"
   ]
  },
  {
   "cell_type": "code",
   "execution_count": null,
   "metadata": {},
   "outputs": [],
   "source": [
    "#val1, val2 = calc_lc(t, 0.3, 0.7)"
   ]
  },
  {
   "cell_type": "code",
   "execution_count": null,
   "metadata": {},
   "outputs": [],
   "source": [
    "#val1, val2 = calc_lc(t, 'lssty', 0.3, 0.7)"
   ]
  },
  {
   "cell_type": "markdown",
   "metadata": {},
   "source": [
    "To find which SNe have larger number of times so that we have more points to fit for the fluxes in each band"
   ]
  },
  {
   "cell_type": "code",
   "execution_count": null,
   "metadata": {},
   "outputs": [],
   "source": [
    "for i in range(500):\n",
    "    if np.shape(timelist_tot[i])[0] > 1300:\n",
    "        print (i)"
   ]
  },
  {
   "cell_type": "code",
   "execution_count": null,
   "metadata": {},
   "outputs": [],
   "source": [
    "len(timelist_tot[260])"
   ]
  },
  {
   "cell_type": "markdown",
   "metadata": {},
   "source": [
    "### LSST code example that works!"
   ]
  },
  {
   "cell_type": "code",
   "execution_count": null,
   "metadata": {},
   "outputs": [],
   "source": [
    "bandpassnames = ['u', 'g', 'r', 'i', 'z', 'y']\n",
    "from lsst.sims.photUtils.BandpassDict import BandpassDict\n",
    "LSST_BandPass = BandpassDict.loadTotalBandpassesFromFiles()\n",
    "SN = SNObject(ra=30., dec=-60.)\n",
    "SN.set(z=0.96, t0=571181, x1=2.66, c=0.353, x0=1.796112e-06)\n",
    "SN.catsimBandFlux(bandpassobject=LSST_BandPass['r'], time=571190.)"
   ]
  },
  {
   "cell_type": "markdown",
   "metadata": {},
   "source": [
    "### $m_B$ obtained from $x_0$"
   ]
  },
  {
   "cell_type": "code",
   "execution_count": null,
   "metadata": {},
   "outputs": [],
   "source": [
    "def mB(x0):\n",
    "    return 10.635 - (2.5 * np.log10(x0))"
   ]
  },
  {
   "cell_type": "code",
   "execution_count": null,
   "metadata": {},
   "outputs": [],
   "source": []
  }
 ],
 "metadata": {
  "kernelspec": {
   "display_name": "lsst",
   "language": "python",
   "name": "lsst"
  },
  "language_info": {
   "codemirror_mode": {
    "name": "ipython",
    "version": 3
   },
   "file_extension": ".py",
   "mimetype": "text/x-python",
   "name": "python",
   "nbconvert_exporter": "python",
   "pygments_lexer": "ipython3",
   "version": "3.6.2"
  }
 },
 "nbformat": 4,
 "nbformat_minor": 2
}
