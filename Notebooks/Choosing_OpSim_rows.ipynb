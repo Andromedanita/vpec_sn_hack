{
 "cells": [
  {
   "cell_type": "code",
   "execution_count": 1,
   "metadata": {},
   "outputs": [],
   "source": [
    "import os\n",
    "import numpy as np\n",
    "import matplotlib.pyplot as plt\n",
    "%matplotlib inline\n",
    "import pandas as pd\n",
    "\n",
    "import lsst.sims.maf.db as db\n",
    "import lsst.sims.maf.metrics as metrics\n",
    "import lsst.sims.maf.stackers as stackers\n",
    "import lsst.sims.maf.slicers as slicers\n",
    "import lsst.sims.maf.plots as plots\n",
    "import lsst.sims.maf.metricBundles as mb"
   ]
  },
  {
   "cell_type": "code",
   "execution_count": 2,
   "metadata": {},
   "outputs": [],
   "source": [
    "opsdb = db.OpsimDatabase('minion_1016_newsky.db')"
   ]
  },
  {
   "cell_type": "code",
   "execution_count": 52,
   "metadata": {},
   "outputs": [],
   "source": [
    "simdata = opsdb.query_columns(opsdb.defaultTable, \n",
    "                              colnames=['fieldRA', 'fieldDec', 'filter', 'night', 'visitTime', 'airmass', 'filtSkyBrightness', 'expMJD'], \n",
    "                              sqlconstraint=None)"
   ]
  },
  {
   "cell_type": "code",
   "execution_count": 53,
   "metadata": {},
   "outputs": [],
   "source": [
    "ra_array      = np.zeros(len(simdata))\n",
    "dec_array     = np.zeros(len(simdata))\n",
    "airmass_array = np.zeros(len(simdata))\n",
    "time_array    = np.zeros(len(simdata))\n",
    "night_array   = np.zeros(len(simdata))\n",
    "\n",
    "# creating empty array for strings\n",
    "val           = [''] * len(simdata)\n",
    "filter_array  = np.array(val)\n",
    "\n",
    "for i in range(len(simdata)):\n",
    "    ra_array[i]      = simdata[i][0]\n",
    "    dec_array[i]     = simdata[i][1]\n",
    "    filter_array[i]  = simdata[i][2]\n",
    "    night_array[i]   = simdata[i][3]\n",
    "    time_array[i]    = simdata[i][7]#[4]\n",
    "    airmass_array[i] = simdata[i][5]"
   ]
  },
  {
   "cell_type": "code",
   "execution_count": 5,
   "metadata": {},
   "outputs": [],
   "source": [
    "import sncosmo\n",
    "from   astropy.table    import Table\n",
    "import numpy            as np\n",
    "import matplotlib.pylab as plt\n",
    "from   astropy.io       import ascii"
   ]
  },
  {
   "cell_type": "code",
   "execution_count": 6,
   "metadata": {},
   "outputs": [],
   "source": [
    "filename = \"/global/homes/a/anitab/DC2_run1p1_TransientDocs/Notebooks/Hosted_SN_table.csv\"\n",
    "from pandas import read_csv"
   ]
  },
  {
   "cell_type": "code",
   "execution_count": 7,
   "metadata": {},
   "outputs": [],
   "source": [
    "vvv  = read_csv(filename)\n",
    "data = vvv['galaxy_id c mB t0 x0 x1 z random_Hosting rand_host zbin \"Unnamed: 0\" diskMassStellar morphology/diskHalfLightRadiusArcsec morphology/diskMinorAxisArcsec morphology/positionAngle morphology/spheroidHalfLightRadiusArcsec morphology/spheroidMinorAxisArcsec size_bulge_true size_disk_true totalMassStellar uniqueId raJ2000_gal decJ2000_gal z zbin_gals snid']"
   ]
  },
  {
   "cell_type": "code",
   "execution_count": null,
   "metadata": {},
   "outputs": [],
   "source": [
    "###vvv.columns"
   ]
  },
  {
   "cell_type": "code",
   "execution_count": 8,
   "metadata": {},
   "outputs": [],
   "source": [
    "#### SN properties from sampled galaxies ####\n",
    "\n",
    "length  = len(data)\n",
    "zvals   = np.zeros(length) \n",
    "x0vals  = np.zeros(length)\n",
    "x1vals  = np.zeros(length)\n",
    "cvals   = np.zeros(length)\n",
    "mBvals  = np.zeros(length)\n",
    "t0vals  = np.zeros(length)\n",
    "smass   = np.zeros(length)\n",
    "ravals  = np.zeros(length)\n",
    "decvals = np.zeros(length)\n",
    "\n",
    "for i in range(length):\n",
    "    zvals[i]   = data[i].split()[6]\n",
    "    x0vals[i]  = data[i].split()[4]\n",
    "    x1vals[i]  = data[i].split()[5]\n",
    "    cvals[i]   = data[i].split()[1]\n",
    "    mBvals[i]  = data[i].split()[2]\n",
    "    t0vals[i]  = data[i].split()[3]\n",
    "    smass[i]   = data[i].split()[20]\n",
    "    ravals[i]  = data[i].split()[21]\n",
    "    decvals[i] = data[i].split()[22]"
   ]
  },
  {
   "cell_type": "markdown",
   "metadata": {},
   "source": [
    "### Choosing rows of OpSim based on sampled SNe"
   ]
  },
  {
   "cell_type": "code",
   "execution_count": 9,
   "metadata": {},
   "outputs": [
    {
     "name": "stdout",
     "output_type": "stream",
     "text": [
      "Some imports failed, which implies some dependencies are missing as described below\n",
      "No module named 'mpl_toolkits.basemap'\n",
      "Visulization functions based on maps will not work\n",
      "1.16.1\n"
     ]
    }
   ],
   "source": [
    "import os\n",
    "import opsimsummary as oss\n",
    "import healpy as hp\n",
    "print(oss.__version__)"
   ]
  },
  {
   "cell_type": "code",
   "execution_count": 10,
   "metadata": {},
   "outputs": [],
   "source": [
    "from opsimsummary import SynOpSim"
   ]
  },
  {
   "cell_type": "code",
   "execution_count": 11,
   "metadata": {},
   "outputs": [],
   "source": [
    "myopsimv3 = 'minion_1016_newsky.db'"
   ]
  },
  {
   "cell_type": "code",
   "execution_count": 12,
   "metadata": {},
   "outputs": [
    {
     "name": "stdout",
     "output_type": "stream",
     "text": [
      " reading from database sqlite:///minion_1016_newsky.db\n",
      "SELECT * FROM Summary WHERE propID in (56, 54)\n"
     ]
    }
   ],
   "source": [
    "synopsim = SynOpSim.fromOpSimDB(myopsimv3, opsimversion='lsstv3',\n",
    "                                angleUnit='degrees', usePointingTree=True)"
   ]
  },
  {
   "cell_type": "code",
   "execution_count": 13,
   "metadata": {},
   "outputs": [],
   "source": [
    "gen = synopsim.pointingsEnclosing(ravals, decvals, circRadius=0., pointingRadius=1.75, usePointingTree=True)"
   ]
  },
  {
   "cell_type": "code",
   "execution_count": null,
   "metadata": {},
   "outputs": [],
   "source": [
    "#sum(1 for g in gen)\n",
    "#len(ravals)\n",
    "#len(rvals) should be equal to the suma above"
   ]
  },
  {
   "cell_type": "code",
   "execution_count": null,
   "metadata": {},
   "outputs": [],
   "source": [
    "#df= next(gen)\n",
    "#raopsim = df['fieldRA']"
   ]
  },
  {
   "cell_type": "code",
   "execution_count": 64,
   "metadata": {},
   "outputs": [],
   "source": [
    "#raopsim_list  = []\n",
    "#decopsim_list = []\n",
    "\n",
    "timeopsim_list   = []\n",
    "filteropsim_list = []\n",
    "\n",
    "for i, df in enumerate(gen):\n",
    "    #raopsim = df['fieldRA']\n",
    "    #raopsim_list.append(raopsim.values)\n",
    "    ###raopsim_list += raopsim.values.tolist()\n",
    "    \n",
    "    timeopsim = df['expMJD']\n",
    "    timeopsim_list.append(timeopsim.values)\n",
    "    \n",
    "    filteropsim = df['filter']\n",
    "    filteropsim_list.append(filteropsim.values)\n",
    "    \n",
    "    #decopsim = df['fieldDec']\n",
    "    #decopsim_list.append(decopsim.values)"
   ]
  },
  {
   "cell_type": "code",
   "execution_count": 20,
   "metadata": {},
   "outputs": [
    {
     "data": {
      "text/plain": [
       "(27017,)"
      ]
     },
     "execution_count": 20,
     "metadata": {},
     "output_type": "execute_result"
    }
   ],
   "source": [
    "#np.shape(raopsim_list)"
   ]
  },
  {
   "cell_type": "code",
   "execution_count": 140,
   "metadata": {},
   "outputs": [
    {
     "data": {
      "text/plain": [
       "'\\nifx      = np.array([21,22,23,24,25]) # subplot numbers (for turning x ticks on/off)\\nify      = np.array([1,6,11,16,21])\\n\\nplt.figure(1, figsize=(15,15))\\n\\nfor i in range(25):\\n    plt.subplot(5,5,i+1)\\n    plt.plot(np.rad2deg(decopsim_list[1000*i]), np.rad2deg(raopsim_list[1000*i]), \".\", color=\"blue\")\\n    plt.plot(decvals[1000*i], ravals[1000*i], \".\", color=\"red\")\\n    plt.ylim(50,60)\\n    plt.xlim(-34,-24)\\n    plt.tick_params(axis=\\'both\\', labelleft=\\'off\\', labelbottom=\\'off\\')\\n    #plt.title(\"SN number {0}\".format(1000*i))\\n    if i+1 in ifx:\\n        plt.xlabel(\"Ra [deg]\",fontsize=15)\\n        plt.tick_params(axis=\\'x\\', labelbottom=\\'on\\')\\n    if i+1 in ify:\\n        plt.ylabel(\"Dec [deg]\",fontsize=15)\\n        plt.tick_params(axis=\\'y\\', labelleft=\\'on\\')\\n    \\nplt.suptitle(\"SNe in red with opsim visits in blue\")\\n'"
      ]
     },
     "execution_count": 140,
     "metadata": {},
     "output_type": "execute_result"
    }
   ],
   "source": [
    "'''\n",
    "ifx      = np.array([21,22,23,24,25]) # subplot numbers (for turning x ticks on/off)\n",
    "ify      = np.array([1,6,11,16,21])\n",
    "\n",
    "plt.figure(1, figsize=(15,15))\n",
    "\n",
    "for i in range(25):\n",
    "    plt.subplot(5,5,i+1)\n",
    "    plt.plot(np.rad2deg(decopsim_list[1000*i]), np.rad2deg(raopsim_list[1000*i]), \".\", color=\"blue\")\n",
    "    plt.plot(decvals[1000*i], ravals[1000*i], \".\", color=\"red\")\n",
    "    plt.ylim(50,60)\n",
    "    plt.xlim(-34,-24)\n",
    "    plt.tick_params(axis='both', labelleft='off', labelbottom='off')\n",
    "    #plt.title(\"SN number {0}\".format(1000*i))\n",
    "    if i+1 in ifx:\n",
    "        plt.xlabel(\"Ra [deg]\",fontsize=15)\n",
    "        plt.tick_params(axis='x', labelbottom='on')\n",
    "    if i+1 in ify:\n",
    "        plt.ylabel(\"Dec [deg]\",fontsize=15)\n",
    "        plt.tick_params(axis='y', labelleft='on')\n",
    "    \n",
    "plt.suptitle(\"SNe in red with opsim visits in blue\")\n",
    "'''"
   ]
  },
  {
   "cell_type": "code",
   "execution_count": 141,
   "metadata": {},
   "outputs": [
    {
     "data": {
      "text/plain": [
       "'plt.plot(decopsim_list, raopsim_list, \".\", color=\"blue\")'"
      ]
     },
     "execution_count": 141,
     "metadata": {},
     "output_type": "execute_result"
    }
   ],
   "source": [
    "'''plt.plot(decopsim_list, raopsim_list, \".\", color=\"blue\")'''"
   ]
  },
  {
   "cell_type": "code",
   "execution_count": 42,
   "metadata": {},
   "outputs": [],
   "source": [
    "#from lsst.sims.photUtils import Sed, Bandpass, LSSTdefaults, calcMagError_sed"
   ]
  },
  {
   "cell_type": "code",
   "execution_count": 60,
   "metadata": {},
   "outputs": [],
   "source": [
    "from lsst.sims.catUtils.supernovae import SNObject\n",
    "def get_flux(i):\n",
    "    params = {'x0': x0vals[i], 'x1': x1vals[i], 'c': cvals[i]}\n",
    "    snobject = SNObject(ravals[i], decvals[i])\n",
    "    snobject.set(**params)\n",
    "    return snobject.catsimBandFlux(bandpassobject = filter_array[i], time=time_array[i])# time=t0vals[i])"
   ]
  },
  {
   "cell_type": "code",
   "execution_count": 303,
   "metadata": {},
   "outputs": [],
   "source": [
    "'''\n",
    "m        = 200\n",
    "params   = {'x0': x0vals[m], 'x1': x1vals[m], 'c': cvals[m], 't0':t0vals[m]}\n",
    "snobject = SNObject(ravals[m], decvals[m])\n",
    "snobject.set(**params)\n",
    "\n",
    "valsff = np.zeros(len(filteropsim_list[m]))\n",
    "for j in range(len(filteropsim_list[m])):\n",
    "    valsff[j] = snobject.catsimBandFlux(bandpassobject = filteropsim_list[m][j], time=timeopsim_list[m][j])\n",
    "'''\n",
    "#mlist = []\n",
    "#jlist = []\n",
    "jlist_tot = []\n",
    "\n",
    "for m in range(len(timeopsim_list)):\n",
    "    jlist = []\n",
    "    for j in range(len(timeopsim_list[m])):\n",
    "        if (timeopsim_list[m][j] > t0vals[m] -19 and timeopsim_list[m][j] < t0vals[m] + 49):\n",
    "            #mlist.append(m)\n",
    "            jlist.append(j)\n",
    "    jlist_tot.append(jlist)"
   ]
  },
  {
   "cell_type": "code",
   "execution_count": 304,
   "metadata": {},
   "outputs": [
    {
     "data": {
      "text/plain": [
       "(27017,)"
      ]
     },
     "execution_count": 304,
     "metadata": {},
     "output_type": "execute_result"
    }
   ],
   "source": [
    "np.shape(jlist_tot)"
   ]
  },
  {
   "cell_type": "code",
   "execution_count": 309,
   "metadata": {},
   "outputs": [
    {
     "data": {
      "text/plain": [
       "[]"
      ]
     },
     "execution_count": 309,
     "metadata": {},
     "output_type": "execute_result"
    }
   ],
   "source": [
    "jlist_tot[4]"
   ]
  },
  {
   "cell_type": "code",
   "execution_count": 317,
   "metadata": {},
   "outputs": [],
   "source": [
    "cc = 0\n",
    "for xx in range(len(jlist_tot)):\n",
    "    if not jlist_tot[xx]:\n",
    "        cc = cc+1"
   ]
  },
  {
   "cell_type": "code",
   "execution_count": 318,
   "metadata": {},
   "outputs": [
    {
     "data": {
      "text/plain": [
       "4086"
      ]
     },
     "execution_count": 318,
     "metadata": {},
     "output_type": "execute_result"
    }
   ],
   "source": [
    "cc"
   ]
  },
  {
   "cell_type": "code",
   "execution_count": 269,
   "metadata": {},
   "outputs": [
    {
     "data": {
      "text/plain": [
       "(27017,)"
      ]
     },
     "execution_count": 269,
     "metadata": {},
     "output_type": "execute_result"
    }
   ],
   "source": [
    "np.shape(t0vals)"
   ]
  },
  {
   "cell_type": "code",
   "execution_count": 263,
   "metadata": {},
   "outputs": [
    {
     "data": {
      "text/plain": [
       "0.0"
      ]
     },
     "execution_count": 263,
     "metadata": {},
     "output_type": "execute_result"
    }
   ],
   "source": [
    "valsff.max()"
   ]
  },
  {
   "cell_type": "code",
   "execution_count": 290,
   "metadata": {},
   "outputs": [],
   "source": [
    "m        = 500\n",
    "params   = {'x0': x0vals[m], 'x1': x1vals[m], 'c': cvals[m], 't0':t0vals[m]}\n",
    "snobject = SNObject(ravals[m], decvals[m])\n",
    "snobject.set(**params)"
   ]
  },
  {
   "cell_type": "code",
   "execution_count": 294,
   "metadata": {},
   "outputs": [
    {
     "data": {
      "text/plain": [
       "6071838.1841441281"
      ]
     },
     "execution_count": 294,
     "metadata": {},
     "output_type": "execute_result"
    }
   ],
   "source": [
    "snobject.catsimBandFlux(bandpassobject = LSST_BandPass['y'], time = t0vals[m]+49) #time=t0vals[200])"
   ]
  },
  {
   "cell_type": "code",
   "execution_count": 297,
   "metadata": {},
   "outputs": [
    {
     "data": {
      "text/plain": [
       "0.0"
      ]
     },
     "execution_count": 297,
     "metadata": {},
     "output_type": "execute_result"
    }
   ],
   "source": [
    "snobject.catsimBandFlux(bandpassobject = LSST_BandPass['y'], time = timeopsim_list[m][200]) #time=t0vals[200])"
   ]
  },
  {
   "cell_type": "code",
   "execution_count": 298,
   "metadata": {},
   "outputs": [
    {
     "data": {
      "text/plain": [
       "59630.020547"
      ]
     },
     "execution_count": 298,
     "metadata": {},
     "output_type": "execute_result"
    }
   ],
   "source": [
    "timeopsim_list[m][200]"
   ]
  },
  {
   "cell_type": "code",
   "execution_count": 300,
   "metadata": {},
   "outputs": [
    {
     "data": {
      "text/plain": [
       "2925.7161072572708"
      ]
     },
     "execution_count": 300,
     "metadata": {},
     "output_type": "execute_result"
    }
   ],
   "source": [
    "t0vals[m] - timeopsim_list[m][200]"
   ]
  },
  {
   "cell_type": "code",
   "execution_count": 264,
   "metadata": {},
   "outputs": [
    {
     "data": {
      "text/plain": [
       "62246.982731920325"
      ]
     },
     "execution_count": 264,
     "metadata": {},
     "output_type": "execute_result"
    }
   ],
   "source": [
    "t0vals[200]"
   ]
  },
  {
   "cell_type": "code",
   "execution_count": 233,
   "metadata": {},
   "outputs": [
    {
     "data": {
      "text/plain": [
       "(array([163, 186]),)"
      ]
     },
     "execution_count": 233,
     "metadata": {},
     "output_type": "execute_result"
    }
   ],
   "source": [
    "np.where(np.abs(timeopsim_list[m] - t0vals[m]) < 30)"
   ]
  },
  {
   "cell_type": "code",
   "execution_count": 237,
   "metadata": {},
   "outputs": [
    {
     "data": {
      "text/plain": [
       "-29.992204920323275"
      ]
     },
     "execution_count": 237,
     "metadata": {},
     "output_type": "execute_result"
    }
   ],
   "source": [
    "timeopsim_list[m][186] - t0vals[200]"
   ]
  },
  {
   "cell_type": "code",
   "execution_count": 173,
   "metadata": {},
   "outputs": [
    {
     "data": {
      "text/plain": [
       "0.0"
      ]
     },
     "execution_count": 173,
     "metadata": {},
     "output_type": "execute_result"
    }
   ],
   "source": [
    "valsff[657]"
   ]
  },
  {
   "cell_type": "code",
   "execution_count": 190,
   "metadata": {},
   "outputs": [
    {
     "data": {
      "text/plain": [
       "60542.791631872075"
      ]
     },
     "execution_count": 190,
     "metadata": {},
     "output_type": "execute_result"
    }
   ],
   "source": [
    "t0vals[100]"
   ]
  },
  {
   "cell_type": "code",
   "execution_count": 166,
   "metadata": {},
   "outputs": [
    {
     "data": {
      "text/plain": [
       "59580.157238456311"
      ]
     },
     "execution_count": 166,
     "metadata": {},
     "output_type": "execute_result"
    }
   ],
   "source": [
    "t0vals.min()"
   ]
  },
  {
   "cell_type": "code",
   "execution_count": 165,
   "metadata": {},
   "outputs": [
    {
     "data": {
      "text/plain": [
       "59583.080872999999"
      ]
     },
     "execution_count": 165,
     "metadata": {},
     "output_type": "execute_result"
    }
   ],
   "source": [
    "np.min(timeopsim_list[0])"
   ]
  },
  {
   "cell_type": "code",
   "execution_count": 187,
   "metadata": {},
   "outputs": [
    {
     "name": "stdout",
     "output_type": "stream",
     "text": [
      "<SNObject at 0x2b8cc4a38080>\n",
      "source:\n",
      "  class      : SALT2Source\n",
      "  name       : 'salt2-extended'\n",
      "  version    : 1.0\n",
      "  phases     : [-20, .., 50] days\n",
      "  wavelengths: [300, .., 18000] Angstroms\n",
      "effect (name='host' frame='rest'):\n",
      "  class           : OD94Dust\n",
      "  wavelength range: [909.09, 33333.3] Angstroms\n",
      "effect (name='mw' frame='obs'):\n",
      "  class           : OD94Dust\n",
      "  wavelength range: [909.09, 33333.3] Angstroms\n",
      "parameters:\n",
      "  z       = 0.0\n",
      "  t0      = 61171.381392818315\n",
      "  x0      = 783844055879.03784\n",
      "  x1      = 1.1963657619373145\n",
      "  c       = -0.019523983646587639\n",
      "  hostebv = 0.0\n",
      "  hostr_v = 3.1000000000000001\n",
      "  mwebv   = 0.0\n",
      "  mwr_v   = 3.1000000000000001\n"
     ]
    }
   ],
   "source": [
    "print(snobject)"
   ]
  },
  {
   "cell_type": "code",
   "execution_count": 61,
   "metadata": {},
   "outputs": [],
   "source": [
    "flux_vals = np.zeros(len(t0vals))\n",
    "\n",
    "for i in range(len(t0vals)):\n",
    "    flux_vals[i] = get_flux(i)"
   ]
  },
  {
   "cell_type": "code",
   "execution_count": null,
   "metadata": {},
   "outputs": [],
   "source": [
    "#t0s = t0vals\n",
    "#for i, ops in enumerate(gen):\n",
    "#    t0 = t0s[i]\n",
    "#    x = ops.query('expMJD > @t0 - 60. and expMJD < @t0 + 90')\n",
    "#    print (\"done\")"
   ]
  },
  {
   "cell_type": "markdown",
   "metadata": {},
   "source": [
    "### LSST code example that works!"
   ]
  },
  {
   "cell_type": "code",
   "execution_count": 147,
   "metadata": {},
   "outputs": [
    {
     "data": {
      "text/plain": [
       "2.0719475911259226e-11"
      ]
     },
     "execution_count": 147,
     "metadata": {},
     "output_type": "execute_result"
    }
   ],
   "source": [
    "bandpassnames = ['u', 'g', 'r', 'i', 'z', 'y']\n",
    "from lsst.sims.photUtils.BandpassDict import BandpassDict\n",
    "LSST_BandPass = BandpassDict.loadTotalBandpassesFromFiles()\n",
    "SN = SNObject(ra=30., dec=-60.)\n",
    "SN.set(z=0.96, t0=571181, x1=2.66, c=0.353, x0=1.796112e-06)\n",
    "SN.catsimBandFlux(bandpassobject=LSST_BandPass['r'], time=571190.)"
   ]
  },
  {
   "cell_type": "code",
   "execution_count": 148,
   "metadata": {},
   "outputs": [
    {
     "name": "stdout",
     "output_type": "stream",
     "text": [
      "<SNObject at 0x2b8cc46f1eb8>\n",
      "source:\n",
      "  class      : SALT2Source\n",
      "  name       : 'salt2-extended'\n",
      "  version    : 1.0\n",
      "  phases     : [-20, .., 50] days\n",
      "  wavelengths: [300, .., 18000] Angstroms\n",
      "effect (name='host' frame='rest'):\n",
      "  class           : OD94Dust\n",
      "  wavelength range: [909.09, 33333.3] Angstroms\n",
      "effect (name='mw' frame='obs'):\n",
      "  class           : OD94Dust\n",
      "  wavelength range: [909.09, 33333.3] Angstroms\n",
      "parameters:\n",
      "  z       = 0.0\n",
      "  t0      = 0.0\n",
      "  x0      = 1.796112e-06\n",
      "  x1      = 1.1963657619373145\n",
      "  c       = -0.019523983646587639\n",
      "  hostebv = 0.0\n",
      "  hostr_v = 3.1000000000000001\n",
      "  mwebv   = 0.0\n",
      "  mwr_v   = 3.1000000000000001\n"
     ]
    }
   ],
   "source": [
    "print(snobject)"
   ]
  },
  {
   "cell_type": "code",
   "execution_count": 92,
   "metadata": {},
   "outputs": [
    {
     "data": {
      "text/plain": [
       "array([ 61815.105464,  62466.214044,  61381.080246, ...,  61792.139922,\n",
       "        61792.157959,  60012.015765])"
      ]
     },
     "execution_count": 92,
     "metadata": {},
     "output_type": "execute_result"
    }
   ],
   "source": [
    "timeopsim_list[0]"
   ]
  },
  {
   "cell_type": "code",
   "execution_count": 98,
   "metadata": {},
   "outputs": [
    {
     "data": {
      "text/plain": [
       "1.7949712914658154"
      ]
     },
     "execution_count": 98,
     "metadata": {},
     "output_type": "execute_result"
    }
   ],
   "source": [
    "np.max(x0vals)/1e12"
   ]
  },
  {
   "cell_type": "code",
   "execution_count": 110,
   "metadata": {},
   "outputs": [],
   "source": [
    "def mB(x0):\n",
    "    return 10.635 - (2.5 * np.log10(x0))"
   ]
  },
  {
   "cell_type": "code",
   "execution_count": 128,
   "metadata": {},
   "outputs": [],
   "source": [
    "mBvals = mB(x0vals/1e15)"
   ]
  },
  {
   "cell_type": "code",
   "execution_count": 129,
   "metadata": {},
   "outputs": [
    {
     "data": {
      "text/plain": [
       "17.499856232697002"
      ]
     },
     "execution_count": 129,
     "metadata": {},
     "output_type": "execute_result"
    }
   ],
   "source": [
    "np.min(mBvals)"
   ]
  },
  {
   "cell_type": "code",
   "execution_count": 130,
   "metadata": {},
   "outputs": [
    {
     "data": {
      "text/plain": [
       "19.936523486604049"
      ]
     },
     "execution_count": 130,
     "metadata": {},
     "output_type": "execute_result"
    }
   ],
   "source": [
    "np.max(mBvals)"
   ]
  },
  {
   "cell_type": "code",
   "execution_count": 115,
   "metadata": {},
   "outputs": [
    {
     "data": {
      "text/plain": [
       "24.99916646390259"
      ]
     },
     "execution_count": 115,
     "metadata": {},
     "output_type": "execute_result"
    }
   ],
   "source": [
    "mB(1.796112e-06)"
   ]
  },
  {
   "cell_type": "code",
   "execution_count": 146,
   "metadata": {},
   "outputs": [
    {
     "data": {
      "text/plain": [
       "[array(['i', 'r', 'u', ..., 'r', 'r', 'z'], dtype=object),\n",
       " array(['g', 'r', 'g', ..., 'y', 'i', 'i'], dtype=object),\n",
       " array(['u', 'i', 'i', ..., 'y', 'r', 'i'], dtype=object),\n",
       " array(['z', 'i', 'i', ..., 'y', 'u', 'y'], dtype=object),\n",
       " array(['y', 'y', 'i', ..., 'y', 'r', 'z'], dtype=object),\n",
       " array(['i', 'i', 'z', ..., 'g', 'r', 'u'], dtype=object),\n",
       " array(['i', 'i', 'i', ..., 'i', 'g', 'i'], dtype=object),\n",
       " array(['i', 'y', 'y', ..., 'i', 'z', 'z'], dtype=object),\n",
       " array(['i', 'i', 'i', ..., 'i', 'z', 'z'], dtype=object),\n",
       " array(['i', 'z', 'i', ..., 'z', 'u', 'z'], dtype=object),\n",
       " array(['z', 'y', 'i', ..., 'r', 'i', 'g'], dtype=object),\n",
       " array(['i', 'z', 'z', ..., 'r', 'r', 'z'], dtype=object),\n",
       " array(['y', 'z', 'i', ..., 'y', 'z', 'y'], dtype=object),\n",
       " array(['z', 'z', 'u', ..., 'g', 'z', 'y'], dtype=object),\n",
       " array(['i', 'r', 'r', ..., 'y', 'i', 'g'], dtype=object),\n",
       " array(['z', 'y', 'i', ..., 'y', 'i', 'g'], dtype=object),\n",
       " array(['r', 'z', 'i', ..., 'z', 'z', 'y'], dtype=object),\n",
       " array(['z', 'z', 'z', ..., 'i', 'i', 'z'], dtype=object),\n",
       " array(['z', 'z', 'z', ..., 'i', 'r', 'y'], dtype=object),\n",
       " array(['i', 'y', 'y', ..., 'z', 'z', 'z'], dtype=object),\n",
       " array(['g', 'r', 'r', ..., 'y', 'i', 'g'], dtype=object),\n",
       " array(['z', 'z', 'r', ..., 'i', 'y', 'i'], dtype=object),\n",
       " array(['g', 'r', 'r', ..., 'i', 'i', 'y'], dtype=object),\n",
       " array(['z', 'g', 'i', ..., 'i', 'g', 'u'], dtype=object),\n",
       " array(['g', 'y', 'g', ..., 'z', 'u', 'z'], dtype=object),\n",
       " array(['i', 'y', 'i', ..., 'z', 'z', 'r'], dtype=object),\n",
       " array(['i', 'y', 'y', ..., 'y', 'z', 'i'], dtype=object),\n",
       " array(['y', 'y', 'r', ..., 'u', 'i', 'i'], dtype=object),\n",
       " array(['u', 'i', 'z', ..., 'r', 'y', 'z'], dtype=object),\n",
       " array(['i', 'y', 'y', ..., 'y', 'z', 'i'], dtype=object),\n",
       " array(['g', 'r', 'r', ..., 'y', 'i', 'g'], dtype=object),\n",
       " array(['u', 'u', 'i', ..., 'g', 'r', 'r'], dtype=object),\n",
       " array(['i', 'i', 'r', ..., 'y', 'u', 'i'], dtype=object),\n",
       " array(['i', 'y', 'i', ..., 'r', 'z', 'z'], dtype=object),\n",
       " array(['y', 'i', 'r', ..., 'y', 'y', 'r'], dtype=object),\n",
       " array(['y', 'y', 'r', ..., 'y', 'y', 'i'], dtype=object),\n",
       " array(['z', 'g', 'z', ..., 'z', 'y', 'r'], dtype=object),\n",
       " array(['g', 'g', 'i', ..., 'r', 'g', 'g'], dtype=object),\n",
       " array(['g', 'g', 'g', ..., 'r', 'y', 'r'], dtype=object),\n",
       " array(['i', 'y', 'y', ..., 'z', 'z', 'y'], dtype=object),\n",
       " array(['g', 'g', 'y', ..., 'r', 'g', 'g'], dtype=object),\n",
       " array(['z', 'u', 'i', ..., 'y', 'y', 'z'], dtype=object),\n",
       " array(['g', 'r', 'r', ..., 'y', 'i', 'g'], dtype=object),\n",
       " array(['z', 'g', 'z', ..., 'z', 'r', 'r'], dtype=object),\n",
       " array(['r', 'r', 'g', ..., 'u', 'z', 'z'], dtype=object),\n",
       " array(['u', 'i', 'i', ..., 'g', 'r', 'r'], dtype=object),\n",
       " array(['i', 'r', 'u', ..., 'r', 'r', 'z'], dtype=object),\n",
       " array(['g', 'g', 'y', ..., 'y', 'r', 'r'], dtype=object),\n",
       " array(['y', 'z', 'r', ..., 'y', 'r', 'r'], dtype=object),\n",
       " array(['r', 'r', 'r', ..., 'y', 'z', 'z'], dtype=object),\n",
       " array(['g', 'r', 'r', ..., 'y', 'i', 'g'], dtype=object),\n",
       " array(['g', 'g', 'y', ..., 'z', 'y', 'y'], dtype=object),\n",
       " array(['i', 'y', 'y', ..., 'g', 'y', 'g'], dtype=object),\n",
       " array(['g', 'g', 'g', ..., 'z', 'i', 'z'], dtype=object),\n",
       " array(['y', 'u', 'y', ..., 'i', 'y', 'y'], dtype=object),\n",
       " array(['g', 'g', 'y', ..., 'z', 'z', 'y'], dtype=object),\n",
       " array(['i', 'r', 'u', ..., 'y', 'i', 'y'], dtype=object),\n",
       " array(['u', 'i', 'i', ..., 'g', 'r', 'r'], dtype=object),\n",
       " array(['r', 'r', 'r', ..., 'u', 'r', 'y'], dtype=object),\n",
       " array(['i', 'y', 'u', ..., 'z', 'z', 'u'], dtype=object),\n",
       " array(['u', 'i', 'z', ..., 'z', 'i', 'y'], dtype=object),\n",
       " array(['y', 'y', 'y', ..., 'z', 'r', 'y'], dtype=object),\n",
       " array(['g', 'y', 'y', ..., 'r', 'u', 'y'], dtype=object),\n",
       " array(['i', 'z', 'u', ..., 'y', 'i', 'y'], dtype=object),\n",
       " array(['i', 'g', 'i', ..., 'i', 'i', 'y'], dtype=object),\n",
       " array(['i', 'i', 'r', ..., 'y', 'r', 'z'], dtype=object),\n",
       " array(['z', 'z', 'y', ..., 'r', 'r', 'i'], dtype=object),\n",
       " array(['z', 'u', 'i', ..., 'r', 'y', 'r'], dtype=object),\n",
       " array(['z', 'r', 'r', ..., 'z', 'z', 'y'], dtype=object),\n",
       " array(['u', 'g', 'g', ..., 'z', 'y', 'z'], dtype=object),\n",
       " array(['i', 'r', 'y', ..., 'i', 'r', 'y'], dtype=object),\n",
       " array(['y', 'z', 'r', ..., 'g', 'i', 'i'], dtype=object),\n",
       " array(['y', 'y', 'r', ..., 'u', 'i', 'i'], dtype=object),\n",
       " array(['y', 'y', 'i', ..., 'r', 'y', 'u'], dtype=object),\n",
       " array(['u', 'g', 'r', ..., 'y', 'y', 'r'], dtype=object),\n",
       " array(['u', 'i', 'u', ..., 'r', 'y', 'r'], dtype=object),\n",
       " array(['z', 'r', 'z', ..., 'i', 'y', 'i'], dtype=object),\n",
       " array(['y', 'r', 'r', ..., 'y', 'y', 'i'], dtype=object),\n",
       " array(['y', 'y', 'y', ..., 'y', 'z', 'y'], dtype=object),\n",
       " array(['i', 'y', 'g', ..., 'i', 'z', 'y'], dtype=object),\n",
       " array(['g', 'g', 'y', ..., 'z', 'u', 'z'], dtype=object),\n",
       " array(['i', 'i', 'r', ..., 'i', 'i', 'i'], dtype=object),\n",
       " array(['y', 'y', 'u', ..., 'r', 'i', 'y'], dtype=object),\n",
       " array(['u', 'z', 'y', ..., 'z', 'g', 'y'], dtype=object),\n",
       " array(['r', 'r', 'z', ..., 'g', 'i', 'r'], dtype=object),\n",
       " array(['r', 'r', 'z', ..., 'i', 'y', 'r'], dtype=object),\n",
       " array(['y', 'y', 'y', ..., 'g', 'z', 'y'], dtype=object),\n",
       " array(['y', 'g', 'g', ..., 'r', 'r', 'y'], dtype=object),\n",
       " array(['i', 'i', 'g', ..., 'i', 'y', 'r'], dtype=object),\n",
       " array(['g', 'g', 'i', ..., 'z', 'u', 'z'], dtype=object),\n",
       " array(['g', 'g', 'i', ..., 'z', 'u', 'z'], dtype=object),\n",
       " array(['y', 'y', 'u', ..., 'u', 'y', 'i'], dtype=object),\n",
       " array(['g', 'g', 'y', ..., 'i', 'i', 'y'], dtype=object),\n",
       " array(['i', 'r', 'u', ..., 'r', 'z', 'y'], dtype=object),\n",
       " array(['z', 'z', 'y', ..., 'y', 'r', 'r'], dtype=object),\n",
       " array(['z', 'u', 'i', ..., 'r', 'y', 'r'], dtype=object),\n",
       " array(['r', 'i', 'i', ..., 'y', 'u', 'y'], dtype=object),\n",
       " array(['g', 'r', 'r', ..., 'r', 'y', 'y'], dtype=object),\n",
       " array(['z', 'i', 'i', ..., 'g', 'i', 'i'], dtype=object),\n",
       " array(['z', 'r', 'i', ..., 'u', 'i', 'i'], dtype=object),\n",
       " array(['u', 'i', 'i', ..., 'i', 'i', 'i'], dtype=object),\n",
       " array(['z', 'z', 'i', ..., 'i', 'i', 'i'], dtype=object),\n",
       " array(['r', 'r', 'u', ..., 'r', 'z', 'u'], dtype=object),\n",
       " array(['y', 'i', 'u', ..., 'i', 'i', 'u'], dtype=object),\n",
       " array(['z', 'y', 'r', ..., 'i', 'y', 'r'], dtype=object),\n",
       " array(['i', 'y', 'y', ..., 'z', 'i', 'y'], dtype=object),\n",
       " array(['i', 'z', 'u', ..., 'z', 'i', 'z'], dtype=object),\n",
       " array(['y', 'i', 'i', ..., 'i', 'z', 'z'], dtype=object),\n",
       " array(['u', 'g', 'g', ..., 'z', 'u', 'z'], dtype=object),\n",
       " array(['g', 'g', 'y', ..., 'r', 'z', 'r'], dtype=object),\n",
       " array(['y', 'y', 'r', ..., 'z', 'z', 'g'], dtype=object),\n",
       " array(['i', 'r', 'r', ..., 'y', 'y', 'r'], dtype=object),\n",
       " array(['g', 'r', 'g', ..., 'g', 'r', 'i'], dtype=object),\n",
       " array(['z', 'r', 'i', ..., 'i', 'y', 'i'], dtype=object),\n",
       " array(['i', 'y', 'y', ..., 'z', 'z', 'z'], dtype=object),\n",
       " array(['y', 'z', 'y', ..., 'g', 'i', 'y'], dtype=object),\n",
       " array(['i', 'i', 'r', ..., 'g', 'g', 'z'], dtype=object),\n",
       " array(['u', 'y', 'y', ..., 'r', 'y', 'r'], dtype=object),\n",
       " array(['y', 'u', 'y', ..., 'i', 'y', 'y'], dtype=object),\n",
       " array(['z', 'i', 'r', ..., 'u', 'r', 'r'], dtype=object),\n",
       " array(['i', 'z', 'z', ..., 'i', 'y', 'i'], dtype=object),\n",
       " array(['r', 'y', 'u', ..., 'u', 'i', 'i'], dtype=object),\n",
       " array(['y', 'y', 'i', ..., 'z', 'y', 'z'], dtype=object),\n",
       " array(['u', 'u', 'z', ..., 'i', 'z', 'z'], dtype=object),\n",
       " array(['z', 'y', 'i', ..., 'y', 'y', 'r'], dtype=object),\n",
       " array(['r', 'r', 'g', ..., 'y', 'r', 'z'], dtype=object),\n",
       " array(['z', 'u', 'i', ..., 'i', 'u', 'i'], dtype=object),\n",
       " array(['y', 'u', 'r', ..., 'i', 'i', 'y'], dtype=object),\n",
       " array(['y', 'i', 'i', ..., 'y', 'z', 'z'], dtype=object),\n",
       " array(['u', 'z', 'i', ..., 'z', 'i', 'u'], dtype=object),\n",
       " array(['y', 'i', 'r', ..., 'y', 'y', 'r'], dtype=object),\n",
       " array(['z', 'z', 'y', ..., 'r', 'y', 'r'], dtype=object),\n",
       " array(['y', 'g', 'y', ..., 'z', 'z', 'y'], dtype=object),\n",
       " array(['g', 'r', 'g', ..., 'y', 'r', 'r'], dtype=object),\n",
       " array(['z', 'z', 'u', ..., 'r', 'i', 'i'], dtype=object),\n",
       " array(['i', 'y', 'z', ..., 'r', 'y', 'r'], dtype=object),\n",
       " array(['z', 'i', 'r', ..., 'r', 'y', 'y'], dtype=object),\n",
       " array(['z', 'y', 'y', ..., 'u', 'i', 'y'], dtype=object),\n",
       " array(['z', 'y', 'y', ..., 'y', 'u', 'y'], dtype=object),\n",
       " array(['r', 'u', 'i', ..., 'r', 'u', 'z'], dtype=object),\n",
       " array(['i', 'i', 'i', ..., 'i', 'i', 'y'], dtype=object),\n",
       " array(['r', 'z', 'i', ..., 'r', 'z', 'u'], dtype=object),\n",
       " array(['i', 'y', 'i', ..., 'i', 'y', 'y'], dtype=object),\n",
       " array(['i', 'r', 'r', ..., 'i', 'g', 'u'], dtype=object),\n",
       " array(['y', 'y', 'z', ..., 'g', 'i', 'i'], dtype=object),\n",
       " array(['g', 'y', 'y', ..., 'r', 'r', 'y'], dtype=object),\n",
       " array(['i', 'r', 'u', ..., 'y', 'i', 'y'], dtype=object),\n",
       " array(['r', 'z', 'i', ..., 'i', 'z', 'y'], dtype=object),\n",
       " array(['y', 'r', 'r', ..., 'i', 'i', 'i'], dtype=object),\n",
       " array(['g', 'r', 'r', ..., 'y', 'i', 'g'], dtype=object),\n",
       " array(['y', 'z', 'r', ..., 'i', 'y', 'i'], dtype=object),\n",
       " array(['i', 'r', 'r', ..., 'i', 'r', 'y'], dtype=object),\n",
       " array(['i', 'i', 'z', ..., 'z', 'r', 'r'], dtype=object),\n",
       " array(['u', 'i', 'i', ..., 'z', 'y', 'z'], dtype=object),\n",
       " array(['i', 'g', 'g', ..., 'z', 'i', 'z'], dtype=object),\n",
       " array(['z', 'y', 'y', ..., 'y', 'u', 'y'], dtype=object),\n",
       " array(['r', 'u', 'y', ..., 'i', 'y', 'i'], dtype=object),\n",
       " array(['i', 'i', 'r', ..., 'r', 'y', 'y'], dtype=object),\n",
       " array(['r', 'r', 'r', ..., 'g', 'r', 'i'], dtype=object),\n",
       " array(['y', 'i', 'i', ..., 'y', 'z', 'z'], dtype=object),\n",
       " array(['z', 'z', 'i', ..., 'r', 'i', 'i'], dtype=object),\n",
       " array(['i', 'g', 'g', ..., 'i', 'i', 'y'], dtype=object),\n",
       " array(['i', 'z', 'z', ..., 'z', 'y', 'y'], dtype=object),\n",
       " array(['i', 'r', 'u', ..., 'u', 'r', 'r'], dtype=object),\n",
       " array(['u', 'z', 'y', ..., 'z', 'z', 'y'], dtype=object),\n",
       " array(['z', 'i', 'i', ..., 'r', 'g', 'g'], dtype=object),\n",
       " array(['i', 'z', 'u', ..., 'u', 'r', 'r'], dtype=object),\n",
       " array(['i', 'r', 'u', ..., 'r', 'z', 'y'], dtype=object),\n",
       " array(['y', 'g', 'u', ..., 'z', 'z', 'z'], dtype=object),\n",
       " array(['z', 'z', 'z', ..., 'y', 'y', 'r'], dtype=object),\n",
       " array(['y', 'z', 'i', ..., 'y', 'z', 'y'], dtype=object),\n",
       " array(['z', 'y', 'i', ..., 'y', 'i', 'g'], dtype=object),\n",
       " array(['z', 'i', 'y', ..., 'u', 'r', 'y'], dtype=object),\n",
       " array(['g', 'g', 'y', ..., 'r', 'u', 'y'], dtype=object),\n",
       " array(['i', 'i', 'r', ..., 'y', 'y', 'g'], dtype=object),\n",
       " array(['i', 'i', 'y', ..., 'g', 'u', 'i'], dtype=object),\n",
       " array(['y', 'z', 'i', ..., 'y', 'z', 'y'], dtype=object),\n",
       " array(['r', 'r', 'z', ..., 'g', 'r', 'i'], dtype=object),\n",
       " array(['i', 'u', 'r', ..., 'r', 'r', 'r'], dtype=object),\n",
       " array(['u', 'i', 'i', ..., 'r', 'y', 'u'], dtype=object),\n",
       " array(['u', 'z', 'y', ..., 'z', 'z', 'y'], dtype=object),\n",
       " array(['g', 'z', 'i', ..., 'z', 'i', 'z'], dtype=object),\n",
       " array(['u', 'i', 'i', ..., 'z', 'i', 'y'], dtype=object),\n",
       " array(['y', 'i', 'y', ..., 'z', 'z', 'i'], dtype=object),\n",
       " array(['r', 'r', 'r', ..., 'y', 'r', 'z'], dtype=object),\n",
       " array(['i', 'g', 'g', ..., 'y', 'u', 'u'], dtype=object),\n",
       " array(['i', 'g', 'g', ..., 'g', 'i', 'y'], dtype=object),\n",
       " array(['i', 'r', 'r', ..., 'g', 'g', 'y'], dtype=object),\n",
       " array(['u', 'z', 'y', ..., 'z', 'z', 'y'], dtype=object),\n",
       " array(['z', 'r', 'i', ..., 'u', 'i', 'i'], dtype=object),\n",
       " array(['i', 'r', 'r', ..., 'y', 'z', 'z'], dtype=object),\n",
       " array(['r', 'r', 'u', ..., 'i', 'u', 'y'], dtype=object),\n",
       " array(['i', 'z', 'z', ..., 'i', 'y', 'g'], dtype=object),\n",
       " array(['i', 'i', 'r', ..., 'y', 'i', 'g'], dtype=object),\n",
       " array(['y', 'z', 'i', ..., 'y', 'z', 'y'], dtype=object),\n",
       " array(['g', 'g', 'y', ..., 'r', 'u', 'y'], dtype=object),\n",
       " array(['u', 'z', 'z', ..., 'y', 'r', 'z'], dtype=object),\n",
       " array(['i', 'y', 'i', ..., 'i', 'y', 'y'], dtype=object),\n",
       " array(['z', 'i', 'i', ..., 'r', 'g', 'g'], dtype=object),\n",
       " array(['z', 'z', 'z', ..., 'z', 'z', 'z'], dtype=object),\n",
       " array(['g', 'r', 'r', ..., 'y', 'i', 'g'], dtype=object),\n",
       " array(['i', 'i', 'r', ..., 'y', 'u', 'i'], dtype=object),\n",
       " array(['y', 'z', 'i', ..., 'y', 'y', 'r'], dtype=object),\n",
       " array(['y', 'u', 'y', ..., 'i', 'y', 'y'], dtype=object),\n",
       " array(['y', 'z', 'i', ..., 'y', 'z', 'y'], dtype=object),\n",
       " array(['g', 'r', 'r', ..., 'i', 'i', 'y'], dtype=object),\n",
       " array(['i', 'z', 'u', ..., 'y', 'i', 'y'], dtype=object),\n",
       " array(['i', 'g', 'g', ..., 'i', 'i', 'y'], dtype=object),\n",
       " array(['z', 'z', 'z', ..., 'y', 'y', 'r'], dtype=object),\n",
       " array(['g', 'r', 'r', ..., 'y', 'u', 'y'], dtype=object),\n",
       " array(['i', 'z', 'u', ..., 'y', 'i', 'y'], dtype=object),\n",
       " array(['z', 'i', 'y', ..., 'u', 'r', 'y'], dtype=object),\n",
       " array(['z', 'z', 'r', ..., 'r', 'z', 'z'], dtype=object),\n",
       " array(['u', 'z', 'z', ..., 'y', 'r', 'z'], dtype=object),\n",
       " array(['g', 'r', 'r', ..., 'y', 'u', 'y'], dtype=object),\n",
       " array(['y', 'z', 'z', ..., 'u', 'y', 'i'], dtype=object),\n",
       " array(['z', 'z', 'z', ..., 'r', 'y', 'y'], dtype=object),\n",
       " array(['u', 'i', 'i', ..., 'y', 'z', 'i'], dtype=object),\n",
       " array(['z', 'z', 'z', ..., 'y', 'y', 'r'], dtype=object),\n",
       " array(['y', 'g', 'g', ..., 'r', 'i', 'i'], dtype=object),\n",
       " array(['r', 'r', 'i', ..., 'y', 'r', 'z'], dtype=object),\n",
       " array(['i', 'y', 'y', ..., 'z', 'i', 'y'], dtype=object),\n",
       " array(['y', 'z', 'i', ..., 'r', 'y', 'y'], dtype=object),\n",
       " array(['z', 'y', 'i', ..., 'y', 'z', 'i'], dtype=object),\n",
       " array(['i', 'z', 'u', ..., 'u', 'r', 'r'], dtype=object),\n",
       " array(['y', 'z', 'y', ..., 'y', 'y', 'g'], dtype=object),\n",
       " array(['i', 'i', 'i', ..., 'i', 'i', 'y'], dtype=object),\n",
       " array(['g', 'g', 'y', ..., 'r', 'z', 'r'], dtype=object),\n",
       " array(['y', 'r', 'r', ..., 'z', 'y', 'z'], dtype=object),\n",
       " array(['y', 'i', 'y', ..., 'i', 'i', 'g'], dtype=object),\n",
       " array(['u', 'g', 'z', ..., 'g', 'i', 'i'], dtype=object),\n",
       " array(['z', 'z', 'r', ..., 'r', 'r', 'z'], dtype=object),\n",
       " array(['r', 'r', 'r', ..., 'r', 'z', 'z'], dtype=object),\n",
       " array(['i', 'r', 'z', ..., 'g', 'g', 'z'], dtype=object),\n",
       " array(['z', 'g', 'i', ..., 'i', 'g', 'u'], dtype=object),\n",
       " array(['i', 'g', 'z', ..., 'i', 'i', 'y'], dtype=object),\n",
       " array(['g', 'r', 'r', ..., 'y', 'i', 'g'], dtype=object),\n",
       " array(['z', 'g', 'i', ..., 'i', 'g', 'u'], dtype=object),\n",
       " array(['r', 'r', 'i', ..., 'y', 'g', 'y'], dtype=object),\n",
       " array(['r', 'r', 'r', ..., 'y', 'u', 'i'], dtype=object),\n",
       " array(['y', 'y', 'u', ..., 'z', 'y', 'z'], dtype=object),\n",
       " array(['g', 'g', 'u', ..., 'r', 'z', 'r'], dtype=object),\n",
       " array(['r', 'r', 'r', ..., 'g', 'r', 'y'], dtype=object),\n",
       " array(['u', 'g', 'y', ..., 'z', 'z', 'y'], dtype=object),\n",
       " array(['y', 'i', 'i', ..., 'y', 'z', 'z'], dtype=object),\n",
       " array(['g', 'g', 'u', ..., 'y', 'u', 'u'], dtype=object),\n",
       " array(['i', 'i', 'y', ..., 'z', 'z', 'z'], dtype=object),\n",
       " array(['r', 'u', 'y', ..., 'r', 'u', 'z'], dtype=object),\n",
       " array(['r', 'r', 'r', ..., 'r', 'y', 'u'], dtype=object),\n",
       " array(['y', 'z', 'r', ..., 'y', 'r', 'r'], dtype=object),\n",
       " array(['z', 'g', 'g', ..., 'r', 'z', 'i'], dtype=object),\n",
       " array(['i', 'z', 'z', ..., 'r', 'i', 'y'], dtype=object),\n",
       " array(['i', 'i', 'y', ..., 'y', 'y', 'g'], dtype=object),\n",
       " array(['g', 'g', 'u', ..., 'g', 'r', 'g'], dtype=object),\n",
       " array(['g', 'g', 'i', ..., 'r', 'z', 'r'], dtype=object),\n",
       " array(['u', 'i', 'i', ..., 'i', 'i', 'i'], dtype=object),\n",
       " array(['y', 'y', 'i', ..., 'y', 'r', 'r'], dtype=object),\n",
       " array(['i', 'g', 'r', ..., 'i', 'i', 'y'], dtype=object),\n",
       " array(['i', 'z', 'z', ..., 'y', 'y', 'g'], dtype=object),\n",
       " array(['i', 'i', 'i', ..., 'i', 'i', 'y'], dtype=object),\n",
       " array(['z', 'y', 'i', ..., 'i', 'g', 'y'], dtype=object),\n",
       " array(['z', 'r', 'r', ..., 'i', 'g', 'i'], dtype=object),\n",
       " array(['z', 'r', 'y', ..., 'z', 'y', 'g'], dtype=object),\n",
       " array(['z', 'g', 'z', ..., 'z', 'r', 'r'], dtype=object),\n",
       " array(['u', 'u', 'u', ..., 'g', 'z', 'g'], dtype=object),\n",
       " array(['u', 'u', 'u', ..., 'r', 'z', 'z'], dtype=object),\n",
       " array(['y', 'r', 'r', ..., 'y', 'y', 'i'], dtype=object),\n",
       " array(['r', 'r', 'r', ..., 'y', 'y', 'r'], dtype=object),\n",
       " array(['y', 'r', 'r', ..., 'y', 'y', 'r'], dtype=object),\n",
       " array(['i', 'i', 'i', ..., 'z', 'y', 'i'], dtype=object),\n",
       " array(['r', 'i', 'r', ..., 'z', 'z', 'z'], dtype=object),\n",
       " array(['u', 'i', 'i', ..., 'y', 'r', 'i'], dtype=object),\n",
       " array(['i', 'r', 'y', ..., 'r', 'z', 'z'], dtype=object),\n",
       " array(['y', 'u', 'y', ..., 'r', 'u', 'z'], dtype=object),\n",
       " array(['i', 'y', 'y', ..., 'z', 'z', 'y'], dtype=object),\n",
       " array(['r', 'u', 'i', ..., 'y', 'z', 'z'], dtype=object),\n",
       " array(['i', 'i', 'y', ..., 'r', 'g', 'g'], dtype=object),\n",
       " array(['z', 'r', 'z', ..., 'y', 'y', 'g'], dtype=object),\n",
       " array(['i', 'y', 'i', ..., 'r', 'z', 'z'], dtype=object),\n",
       " array(['g', 'g', 'y', ..., 'i', 'r', 'y'], dtype=object),\n",
       " array(['i', 'z', 'z', ..., 'r', 'r', 'z'], dtype=object),\n",
       " array(['z', 'r', 'y', ..., 'y', 'r', 'r'], dtype=object),\n",
       " array(['y', 'y', 'z', ..., 'i', 'y', 'g'], dtype=object),\n",
       " array(['i', 'y', 'y', ..., 'z', 'i', 'y'], dtype=object),\n",
       " array(['i', 'z', 'z', ..., 'r', 'i', 'y'], dtype=object),\n",
       " array(['g', 'g', 'i', ..., 'r', 'g', 'g'], dtype=object),\n",
       " array(['i', 'i', 'u', ..., 'z', 'i', 'i'], dtype=object),\n",
       " array(['i', 'y', 'y', ..., 'i', 'z', 'z'], dtype=object),\n",
       " array(['g', 'g', 'u', ..., 'g', 'r', 'g'], dtype=object),\n",
       " array(['z', 'r', 'z', ..., 'i', 'y', 'i'], dtype=object),\n",
       " array(['r', 'r', 'r', ..., 'r', 'y', 'y'], dtype=object),\n",
       " array(['g', 'g', 'u', ..., 'g', 'u', 'u'], dtype=object),\n",
       " array(['u', 'g', 'r', ..., 'y', 'y', 'r'], dtype=object),\n",
       " array(['z', 'r', 'y', ..., 'y', 'r', 'r'], dtype=object),\n",
       " array(['g', 'g', 'i', ..., 'y', 'y', 'g'], dtype=object),\n",
       " array(['g', 'r', 'r', ..., 'i', 'i', 'y'], dtype=object),\n",
       " array(['y', 'i', 'i', ..., 'z', 'z', 'y'], dtype=object),\n",
       " array(['z', 'u', 'i', ..., 'i', 'u', 'i'], dtype=object),\n",
       " array(['i', 'i', 'r', ..., 'y', 'r', 'z'], dtype=object),\n",
       " array(['i', 'z', 'z', ..., 'r', 'r', 'r'], dtype=object),\n",
       " array(['i', 'i', 'i', ..., 'z', 'y', 'i'], dtype=object),\n",
       " array(['r', 'r', 'i', ..., 'i', 'y', 'g'], dtype=object),\n",
       " array(['y', 'r', 'y', ..., 'z', 'z', 'g'], dtype=object),\n",
       " array(['z', 'r', 'i', ..., 'u', 'i', 'i'], dtype=object),\n",
       " array(['g', 'g', 'y', ..., 'z', 'y', 'y'], dtype=object),\n",
       " array(['z', 'g', 'z', ..., 'z', 'y', 'r'], dtype=object),\n",
       " array(['g', 'r', 'g', ..., 'z', 'i', 'z'], dtype=object),\n",
       " array(['i', 'i', 'y', ..., 'g', 'g', 'y'], dtype=object),\n",
       " array(['i', 'i', 'r', ..., 'g', 'g', 'z'], dtype=object),\n",
       " array(['g', 'g', 'u', ..., 'g', 'r', 'g'], dtype=object),\n",
       " array(['y', 'z', 'i', ..., 'y', 'z', 'i'], dtype=object),\n",
       " array(['i', 'g', 'g', ..., 'r', 'r', 'y'], dtype=object),\n",
       " array(['z', 'z', 'u', ..., 'i', 'y', 'i'], dtype=object),\n",
       " array(['z', 'y', 'i', ..., 'r', 'i', 'g'], dtype=object),\n",
       " array(['i', 'i', 'i', ..., 'y', 'r', 'r'], dtype=object),\n",
       " array(['r', 'g', 'g', ..., 'g', 'r', 'g'], dtype=object),\n",
       " array(['z', 'z', 'r', ..., 'z', 'z', 'y'], dtype=object),\n",
       " array(['r', 'u', 'y', ..., 'r', 'u', 'z'], dtype=object),\n",
       " array(['g', 'r', 'g', ..., 'i', 'z', 'u'], dtype=object),\n",
       " array(['r', 'r', 'r', ..., 'y', 'y', 'r'], dtype=object),\n",
       " array(['i', 'i', 'i', ..., 'i', 'i', 'y'], dtype=object),\n",
       " array(['i', 'i', 'g', ..., 'g', 'i', 'r'], dtype=object),\n",
       " array(['y', 'z', 'z', ..., 'r', 'u', 'z'], dtype=object),\n",
       " array(['y', 'r', 'r', ..., 'i', 'i', 'i'], dtype=object),\n",
       " array(['y', 'i', 'g', ..., 'i', 'i', 'y'], dtype=object),\n",
       " array(['z', 'z', 'y', ..., 'y', 'y', 'g'], dtype=object),\n",
       " array(['g', 'g', 'g', ..., 'y', 'r', 'z'], dtype=object),\n",
       " array(['r', 'r', 'r', ..., 'r', 'z', 'z'], dtype=object),\n",
       " array(['r', 'r', 'r', ..., 'y', 'z', 'i'], dtype=object),\n",
       " array(['u', 'z', 'i', ..., 'z', 'z', 'y'], dtype=object),\n",
       " array(['g', 'r', 'i', ..., 'r', 'r', 'u'], dtype=object),\n",
       " array(['g', 'r', 'r', ..., 'y', 'i', 'g'], dtype=object),\n",
       " array(['i', 'z', 'u', ..., 'i', 'i', 'i'], dtype=object),\n",
       " array(['g', 'r', 'r', ..., 'u', 'g', 'r'], dtype=object),\n",
       " array(['r', 'g', 'r', ..., 'i', 'y', 'i'], dtype=object),\n",
       " array(['r', 'r', 'g', ..., 'y', 'r', 'z'], dtype=object),\n",
       " array(['z', 'y', 'i', ..., 'r', 'i', 'y'], dtype=object),\n",
       " array(['i', 'i', 'u', ..., 'r', 'r', 'z'], dtype=object),\n",
       " array(['z', 'z', 'r', ..., 'y', 'z', 'y'], dtype=object),\n",
       " array(['r', 'r', 'r', ..., 'i', 'z', 'z'], dtype=object),\n",
       " array(['y', 'i', 'r', ..., 'y', 'y', 'i'], dtype=object),\n",
       " array(['z', 'u', 'i', ..., 'i', 'u', 'i'], dtype=object),\n",
       " array(['r', 'r', 'y', ..., 'r', 'r', 'y'], dtype=object),\n",
       " array(['r', 'r', 'r', ..., 'y', 'z', 'i'], dtype=object),\n",
       " array(['u', 'z', 'z', ..., 'r', 'z', 'z'], dtype=object),\n",
       " array(['y', 'z', 'i', ..., 'y', 'z', 'y'], dtype=object),\n",
       " array(['y', 'i', 'r', ..., 'y', 'y', 'r'], dtype=object),\n",
       " array(['i', 'i', 'z', ..., 'y', 'z', 'z'], dtype=object),\n",
       " array(['r', 'r', 'r', ..., 'u', 'u', 'y'], dtype=object),\n",
       " array(['i', 'i', 'i', ..., 'u', 'i', 'i'], dtype=object),\n",
       " array(['y', 'y', 'y', ..., 'y', 'r', 'r'], dtype=object),\n",
       " array(['y', 'i', 'i', ..., 'i', 'z', 'z'], dtype=object),\n",
       " array(['r', 'r', 'u', ..., 'y', 'u', 'y'], dtype=object),\n",
       " array(['i', 'i', 'i', ..., 'i', 'i', 'y'], dtype=object),\n",
       " array(['r', 'r', 'z', ..., 'y', 'r', 'i'], dtype=object),\n",
       " array(['y', 'i', 'i', ..., 'g', 'i', 'y'], dtype=object),\n",
       " array(['i', 'i', 'r', ..., 'y', 'u', 'y'], dtype=object),\n",
       " array(['i', 'i', 'i', ..., 'u', 'i', 'i'], dtype=object),\n",
       " array(['y', 'z', 'i', ..., 'y', 'z', 'y'], dtype=object),\n",
       " array(['z', 'i', 'i', ..., 'r', 'g', 'g'], dtype=object),\n",
       " array(['i', 'g', 'y', ..., 'z', 'y', 'y'], dtype=object),\n",
       " array(['r', 'r', 'z', ..., 'y', 'r', 'i'], dtype=object),\n",
       " array(['g', 'r', 'r', ..., 'r', 'u', 'y'], dtype=object),\n",
       " array(['r', 'r', 'r', ..., 'y', 'z', 'i'], dtype=object),\n",
       " array(['y', 'y', 'y', ..., 'i', 'r', 'r'], dtype=object),\n",
       " array(['g', 'g', 'y', ..., 'y', 'r', 'y'], dtype=object),\n",
       " array(['r', 'r', 'r', ..., 'y', 'z', 'i'], dtype=object),\n",
       " array(['i', 'i', 'r', ..., 'r', 'i', 'g'], dtype=object),\n",
       " array(['i', 'z', 'z', ..., 'i', 'y', 'g'], dtype=object),\n",
       " array(['i', 'y', 'y', ..., 'z', 'z', 'z'], dtype=object),\n",
       " array(['r', 'r', 'r', ..., 'r', 'y', 'y'], dtype=object),\n",
       " array(['z', 'r', 'y', ..., 'y', 'r', 'r'], dtype=object),\n",
       " array(['z', 'z', 'u', ..., 'z', 'y', 'r'], dtype=object),\n",
       " array(['u', 'y', 'y', ..., 'z', 'z', 'y'], dtype=object),\n",
       " array(['g', 'g', 'g', ..., 'r', 'y', 'r'], dtype=object),\n",
       " array(['u', 'i', 'i', ..., 'y', 'r', 'i'], dtype=object),\n",
       " array(['u', 'i', 'z', ..., 'r', 'i', 'y'], dtype=object),\n",
       " array(['r', 'i', 'i', ..., 'u', 'g', 'r'], dtype=object),\n",
       " array(['i', 'y', 'y', ..., 'z', 'i', 'y'], dtype=object),\n",
       " array(['g', 'g', 'g', ..., 'y', 'r', 'r'], dtype=object),\n",
       " array(['y', 'y', 'u', ..., 'y', 'y', 'g'], dtype=object),\n",
       " array(['i', 'g', 'r', ..., 'i', 'y', 'i'], dtype=object),\n",
       " array(['y', 'z', 'z', ..., 'g', 'i', 'y'], dtype=object),\n",
       " array(['i', 'i', 'y', ..., 'y', 'y', 'g'], dtype=object),\n",
       " array(['y', 'u', 'i', ..., 'z', 'z', 'z'], dtype=object),\n",
       " array(['z', 'i', 'z', ..., 'z', 'i', 'z'], dtype=object),\n",
       " array(['z', 'r', 'y', ..., 'y', 'r', 'r'], dtype=object),\n",
       " array(['z', 'z', 'i', ..., 'y', 'r', 'y'], dtype=object),\n",
       " array(['r', 'z', 'i', ..., 'g', 'u', 'r'], dtype=object),\n",
       " array(['i', 'i', 'i', ..., 'i', 'i', 'y'], dtype=object),\n",
       " array(['i', 'r', 'y', ..., 'i', 'r', 'y'], dtype=object),\n",
       " array(['z', 'r', 'r', ..., 'y', 'r', 'z'], dtype=object),\n",
       " array(['i', 'i', 'i', ..., 'i', 'i', 'y'], dtype=object),\n",
       " array(['z', 'z', 'z', ..., 'i', 'i', 'z'], dtype=object),\n",
       " array(['g', 'r', 'r', ..., 'y', 'i', 'g'], dtype=object),\n",
       " array(['y', 'z', 'u', ..., 'z', 'r', 'r'], dtype=object),\n",
       " array(['g', 'g', 'g', ..., 'i', 'y', 'y'], dtype=object),\n",
       " array(['z', 'z', 'z', ..., 'y', 'y', 'z'], dtype=object),\n",
       " array(['r', 'u', 'z', ..., 'i', 'y', 'i'], dtype=object),\n",
       " array(['r', 'r', 'r', ..., 'z', 'z', 'z'], dtype=object),\n",
       " array(['z', 'z', 'z', ..., 'r', 'y', 'y'], dtype=object),\n",
       " array(['u', 'u', 'u', ..., 'r', 'y', 'u'], dtype=object),\n",
       " array(['y', 'i', 'y', ..., 'g', 'i', 'r'], dtype=object),\n",
       " array(['g', 'g', 'y', ..., 'i', 'r', 'y'], dtype=object),\n",
       " array(['r', 'r', 'r', ..., 'y', 'u', 'i'], dtype=object),\n",
       " array(['z', 'i', 'u', ..., 'r', 'i', 'i'], dtype=object),\n",
       " array(['z', 'r', 'z', ..., 'y', 'z', 'z'], dtype=object),\n",
       " array(['y', 'z', 'y', ..., 'g', 'i', 'y'], dtype=object),\n",
       " array(['u', 'i', 'z', ..., 'i', 'z', 'i'], dtype=object),\n",
       " array(['r', 'y', 'z', ..., 'r', 'u', 'z'], dtype=object),\n",
       " array(['z', 'z', 'y', ..., 'r', 'r', 'z'], dtype=object),\n",
       " array(['i', 'r', 'u', ..., 'r', 'z', 'y'], dtype=object),\n",
       " array(['z', 'r', 'r', ..., 'y', 'z', 'i'], dtype=object),\n",
       " array(['z', 'z', 'y', ..., 'y', 'r', 'y'], dtype=object),\n",
       " array(['r', 'u', 'y', ..., 'r', 'u', 'z'], dtype=object),\n",
       " array(['z', 'z', 'z', ..., 'i', 'i', 'z'], dtype=object),\n",
       " array(['g', 'g', 'i', ..., 'r', 'g', 'g'], dtype=object),\n",
       " array(['y', 'r', 'r', ..., 'y', 'y', 'i'], dtype=object),\n",
       " array(['i', 'g', 'g', ..., 'u', 'u', 'z'], dtype=object),\n",
       " array(['y', 'i', 'i', ..., 'g', 'i', 'y'], dtype=object),\n",
       " array(['z', 'i', 'y', ..., 'z', 'z', 'i'], dtype=object),\n",
       " array(['y', 'y', 'u', ..., 'y', 'y', 'g'], dtype=object),\n",
       " array(['g', 'g', 'y', ..., 'i', 'r', 'y'], dtype=object),\n",
       " array(['y', 'u', 'i', ..., 'i', 'g', 'u'], dtype=object),\n",
       " array(['y', 'i', 'i', ..., 'y', 'z', 'z'], dtype=object),\n",
       " array(['z', 'i', 'z', ..., 'r', 'r', 'z'], dtype=object),\n",
       " array(['i', 'r', 'z', ..., 'g', 'u', 'g'], dtype=object),\n",
       " array(['r', 'r', 'r', ..., 'r', 'y', 'y'], dtype=object),\n",
       " array(['i', 'i', 'i', ..., 'y', 'r', 'z'], dtype=object),\n",
       " array(['r', 'r', 'u', ..., 'y', 'u', 'y'], dtype=object),\n",
       " array(['z', 'y', 'z', ..., 'u', 'r', 'y'], dtype=object),\n",
       " array(['i', 'z', 'u', ..., 'y', 'i', 'y'], dtype=object),\n",
       " array(['r', 'r', 'u', ..., 'y', 'u', 'y'], dtype=object),\n",
       " array(['r', 'r', 'z', ..., 'i', 'z', 'i'], dtype=object),\n",
       " array(['y', 'z', 'z', ..., 'r', 'u', 'z'], dtype=object),\n",
       " array(['y', 'g', 'g', ..., 'i', 'r', 'y'], dtype=object),\n",
       " array(['r', 'u', 'z', ..., 'i', 'y', 'i'], dtype=object),\n",
       " array(['y', 'z', 'i', ..., 'y', 'z', 'i'], dtype=object),\n",
       " array(['g', 'g', 'z', ..., 'y', 'i', 'y'], dtype=object),\n",
       " array(['y', 'y', 'y', ..., 'y', 'y', 'i'], dtype=object),\n",
       " array(['r', 'r', 'r', ..., 'g', 'g', 'z'], dtype=object),\n",
       " array(['g', 'g', 'z', ..., 'i', 'z', 'y'], dtype=object),\n",
       " array(['i', 'z', 'z', ..., 'i', 'y', 'g'], dtype=object),\n",
       " array(['z', 'y', 'r', ..., 'i', 'y', 'r'], dtype=object),\n",
       " array(['g', 'g', 'y', ..., 'i', 'i', 'y'], dtype=object),\n",
       " array(['z', 'r', 'r', ..., 'i', 'g', 'u'], dtype=object),\n",
       " array(['i', 'i', 'z', ..., 'i', 'y', 'i'], dtype=object),\n",
       " array(['i', 'z', 'z', ..., 'i', 'y', 'g'], dtype=object),\n",
       " array(['z', 'r', 'r', ..., 'i', 'z', 'z'], dtype=object),\n",
       " array(['g', 'g', 'y', ..., 'r', 'y', 'i'], dtype=object),\n",
       " array(['z', 'z', 'z', ..., 'g', 'u', 'i'], dtype=object),\n",
       " array(['r', 'y', 'y', ..., 'i', 'u', 'y'], dtype=object),\n",
       " array(['u', 'i', 'z', ..., 'r', 'i', 'y'], dtype=object),\n",
       " array(['r', 'y', 'y', ..., 'u', 'i', 'i'], dtype=object),\n",
       " array(['i', 'i', 'z', ..., 'i', 'y', 'i'], dtype=object),\n",
       " array(['g', 'g', 'y', ..., 'i', 'y', 'i'], dtype=object),\n",
       " array(['g', 'r', 'z', ..., 'g', 'r', 'i'], dtype=object),\n",
       " array(['r', 'r', 'r', ..., 'r', 'z', 'i'], dtype=object),\n",
       " array(['g', 'g', 'u', ..., 'r', 'r', 'r'], dtype=object),\n",
       " array(['z', 'y', 'i', ..., 'y', 'i', 'g'], dtype=object),\n",
       " array(['z', 'i', 'r', ..., 'i', 'i', 'y'], dtype=object),\n",
       " array(['u', 'i', 'r', ..., 'z', 'y', 'y'], dtype=object),\n",
       " array(['r', 'r', 'u', ..., 'g', 'u', 'r'], dtype=object),\n",
       " array(['i', 'i', 'y', ..., 'y', 'y', 'g'], dtype=object),\n",
       " array(['r', 'y', 'y', ..., 'u', 'i', 'i'], dtype=object),\n",
       " array(['z', 'z', 'y', ..., 'y', 'y', 'g'], dtype=object),\n",
       " array(['i', 'y', 'i', ..., 'r', 'z', 'z'], dtype=object),\n",
       " array(['z', 'y', 'i', ..., 'g', 'i', 'r'], dtype=object),\n",
       " array(['i', 'i', 'r', ..., 'u', 'y', 'r'], dtype=object),\n",
       " array(['i', 'i', 'i', ..., 'i', 'r', 'u'], dtype=object),\n",
       " array(['i', 'z', 'u', ..., 'y', 'i', 'y'], dtype=object),\n",
       " array(['i', 'z', 'u', ..., 'r', 'y', 'y'], dtype=object),\n",
       " array(['y', 'y', 'y', ..., 'i', 'r', 'r'], dtype=object),\n",
       " array(['i', 'z', 'z', ..., 'r', 'r', 'z'], dtype=object),\n",
       " array(['z', 'y', 'i', ..., 'y', 'r', 'i'], dtype=object),\n",
       " array(['r', 'y', 'z', ..., 'y', 'i', 'i'], dtype=object),\n",
       " array(['z', 'r', 'z', ..., 'i', 'y', 'y'], dtype=object),\n",
       " array(['r', 'r', 'u', ..., 'r', 'z', 'u'], dtype=object),\n",
       " array(['y', 'z', 'u', ..., 'g', 'i', 'i'], dtype=object),\n",
       " array(['u', 'i', 'u', ..., 'g', 'u', 'r'], dtype=object),\n",
       " array(['i', 'g', 'g', ..., 'y', 'z', 'i'], dtype=object),\n",
       " array(['y', 'i', 'i', ..., 'g', 'i', 'y'], dtype=object),\n",
       " array(['i', 'r', 'u', ..., 'r', 'z', 'y'], dtype=object),\n",
       " array(['i', 'r', 'u', ..., 'r', 'r', 'z'], dtype=object),\n",
       " array(['g', 'g', 'y', ..., 'r', 'r', 'y'], dtype=object),\n",
       " array(['y', 'z', 'z', ..., 'i', 'i', 'i'], dtype=object),\n",
       " array(['i', 'g', 'g', ..., 'y', 'i', 'y'], dtype=object),\n",
       " array(['i', 'i', 'i', ..., 'y', 'u', 'i'], dtype=object),\n",
       " array(['u', 'g', 'r', ..., 'r', 'y', 'y'], dtype=object),\n",
       " array(['u', 'g', 'z', ..., 'g', 'i', 'i'], dtype=object),\n",
       " array(['g', 'r', 'g', ..., 'y', 'i', 'i'], dtype=object),\n",
       " array(['g', 'g', 'z', ..., 'z', 'z', 'u'], dtype=object),\n",
       " array(['y', 'i', 'y', ..., 'z', 'y', 'z'], dtype=object),\n",
       " array(['g', 'r', 'z', ..., 'g', 'r', 'i'], dtype=object),\n",
       " array(['y', 'i', 'g', ..., 'y', 'z', 'i'], dtype=object),\n",
       " array(['g', 'g', 'i', ..., 'r', 'g', 'g'], dtype=object),\n",
       " array(['i', 'z', 'u', ..., 'y', 'i', 'y'], dtype=object),\n",
       " array(['i', 'i', 'r', ..., 'y', 'u', 'i'], dtype=object),\n",
       " array(['g', 'r', 'r', ..., 'i', 'i', 'y'], dtype=object),\n",
       " array(['g', 'r', 'r', ..., 'i', 'i', 'y'], dtype=object),\n",
       " array(['i', 'y', 'y', ..., 'z', 'i', 'y'], dtype=object),\n",
       " array(['i', 'g', 'g', ..., 'r', 'i', 'i'], dtype=object),\n",
       " array(['g', 'g', 'z', ..., 'y', 'y', 'i'], dtype=object),\n",
       " array(['u', 'z', 'g', ..., 'z', 'z', 'u'], dtype=object),\n",
       " array(['y', 'u', 'y', ..., 'y', 'y', 'g'], dtype=object),\n",
       " array(['g', 'g', 'y', ..., 'r', 'z', 'r'], dtype=object),\n",
       " array(['i', 'z', 'u', ..., 'y', 'i', 'y'], dtype=object),\n",
       " array(['y', 'z', 'y', ..., 'u', 'y', 'i'], dtype=object),\n",
       " array(['y', 'i', 'i', ..., 'g', 'i', 'y'], dtype=object),\n",
       " array(['z', 'y', 'r', ..., 'i', 'y', 'r'], dtype=object),\n",
       " array(['g', 'r', 'g', ..., 'g', 'r', 'i'], dtype=object),\n",
       " array(['r', 'y', 'z', ..., 'z', 'i', 'i'], dtype=object),\n",
       " array(['z', 'u', 'i', ..., 'r', 'y', 'r'], dtype=object),\n",
       " array(['i', 'r', 'u', ..., 'r', 'z', 'y'], dtype=object),\n",
       " array(['g', 'i', 'g', ..., 'i', 'g', 'y'], dtype=object),\n",
       " array(['y', 'i', 'i', ..., 'z', 'u', 'z'], dtype=object),\n",
       " array(['i', 'z', 'z', ..., 'z', 'y', 'y'], dtype=object),\n",
       " array(['z', 'y', 'i', ..., 'y', 'i', 'g'], dtype=object),\n",
       " array(['u', 'y', 'y', ..., 'u', 'r', 'r'], dtype=object),\n",
       " array(['g', 'r', 'r', ..., 'i', 'i', 'y'], dtype=object),\n",
       " array(['g', 'g', 'u', ..., 'r', 'i', 'i'], dtype=object),\n",
       " array(['u', 'i', 'z', ..., 'z', 'i', 'y'], dtype=object),\n",
       " array(['z', 'z', 'r', ..., 'r', 'y', 'y'], dtype=object),\n",
       " array(['y', 'g', 'g', ..., 'r', 'r', 'y'], dtype=object),\n",
       " array(['z', 'z', 'y', ..., 'i', 'y', 'i'], dtype=object),\n",
       " array(['g', 'g', 'y', ..., 'i', 'g', 'y'], dtype=object),\n",
       " array(['u', 'z', 'g', ..., 'z', 'z', 'u'], dtype=object),\n",
       " array(['y', 'u', 'z', ..., 'i', 'y', 'i'], dtype=object),\n",
       " array(['r', 'r', 'r', ..., 'z', 'z', 'y'], dtype=object),\n",
       " array(['z', 'y', 'i', ..., 'r', 'i', 'g'], dtype=object),\n",
       " array(['g', 'g', 'z', ..., 'y', 'y', 'i'], dtype=object),\n",
       " array(['i', 'r', 'u', ..., 'r', 'z', 'y'], dtype=object),\n",
       " array(['g', 'r', 'r', ..., 'i', 'i', 'y'], dtype=object),\n",
       " array(['i', 'g', 'g', ..., 'y', 'r', 'z'], dtype=object),\n",
       " array(['y', 'z', 'y', ..., 'g', 'i', 'y'], dtype=object),\n",
       " array(['i', 'y', 'y', ..., 'z', 'i', 'y'], dtype=object),\n",
       " array(['r', 'r', 'u', ..., 'z', 'z', 'u'], dtype=object),\n",
       " array(['r', 'u', 'i', ..., 'g', 'g', 'r'], dtype=object),\n",
       " array(['y', 'i', 'i', ..., 'g', 'i', 'y'], dtype=object),\n",
       " array(['i', 'r', 'r', ..., 'r', 'z', 'i'], dtype=object),\n",
       " array(['i', 'z', 'u', ..., 'y', 'i', 'y'], dtype=object),\n",
       " array(['z', 'g', 'g', ..., 'r', 'r', 'z'], dtype=object),\n",
       " array(['u', 'z', 'i', ..., 'y', 'z', 'i'], dtype=object),\n",
       " array(['r', 'r', 'z', ..., 'i', 'u', 'y'], dtype=object),\n",
       " array(['z', 'z', 'z', ..., 'y', 'u', 'i'], dtype=object),\n",
       " array(['u', 'z', 'y', ..., 'z', 'z', 'y'], dtype=object),\n",
       " array(['y', 'g', 'g', ..., 'i', 'r', 'y'], dtype=object),\n",
       " array(['u', 'g', 'g', ..., 'z', 'y', 'z'], dtype=object),\n",
       " array(['i', 'g', 'i', ..., 'y', 'u', 'y'], dtype=object),\n",
       " array(['z', 'i', 'i', ..., 'g', 'i', 'i'], dtype=object),\n",
       " array(['z', 'z', 'r', ..., 'z', 'i', 'y'], dtype=object),\n",
       " array(['y', 'g', 'r', ..., 'y', 'y', 'i'], dtype=object),\n",
       " array(['r', 'r', 'i', ..., 'i', 'y', 'g'], dtype=object),\n",
       " array(['g', 'g', 'y', ..., 'i', 'r', 'r'], dtype=object),\n",
       " array(['u', 'y', 'y', ..., 'i', 'i', 'u'], dtype=object),\n",
       " array(['g', 'g', 'y', ..., 'i', 'r', 'y'], dtype=object),\n",
       " array(['i', 'g', 'g', ..., 'r', 'i', 'i'], dtype=object),\n",
       " array(['g', 'y', 'y', ..., 'z', 'u', 'y'], dtype=object),\n",
       " array(['r', 'r', 'u', ..., 'r', 'z', 'u'], dtype=object),\n",
       " array(['i', 'y', 'u', ..., 'y', 'r', 'r'], dtype=object),\n",
       " array(['z', 'g', 'z', ..., 'z', 'y', 'r'], dtype=object),\n",
       " array(['r', 'r', 'i', ..., 'i', 'y', 'g'], dtype=object),\n",
       " array(['r', 'r', 'u', ..., 'y', 'i', 'i'], dtype=object),\n",
       " array(['y', 'z', 'r', ..., 'g', 'i', 'i'], dtype=object),\n",
       " array(['y', 'r', 'r', ..., 'u', 'y', 'i'], dtype=object),\n",
       " array(['i', 'i', 'r', ..., 'i', 'z', 'z'], dtype=object),\n",
       " array(['i', 'z', 'z', ..., 'r', 'z', 'z'], dtype=object),\n",
       " array(['i', 'i', 'i', ..., 'y', 'u', 'y'], dtype=object),\n",
       " array(['z', 'r', 'z', ..., 'i', 'y', 'y'], dtype=object),\n",
       " array(['z', 'z', 'z', ..., 'g', 'u', 'i'], dtype=object),\n",
       " array(['z', 'r', 'i', ..., 'r', 'g', 'u'], dtype=object),\n",
       " array(['i', 'z', 'z', ..., 'i', 'y', 'i'], dtype=object),\n",
       " array(['y', 'y', 'y', ..., 'y', 'z', 'y'], dtype=object),\n",
       " array(['y', 'i', 'r', ..., 'y', 'y', 'r'], dtype=object),\n",
       " array(['r', 'r', 'r', ..., 'r', 'y', 'u'], dtype=object),\n",
       " array(['g', 'g', 'u', ..., 'z', 'y', 'y'], dtype=object),\n",
       " array(['z', 'z', 'z', ..., 'i', 'r', 'u'], dtype=object),\n",
       " array(['y', 'u', 'y', ..., 'i', 'i', 'y'], dtype=object),\n",
       " array(['u', 'r', 'r', ..., 'y', 'r', 'z'], dtype=object),\n",
       " array(['z', 'g', 'z', ..., 'z', 'y', 'r'], dtype=object),\n",
       " array(['z', 'g', 'z', ..., 'z', 'y', 'r'], dtype=object),\n",
       " array(['u', 'u', 'i', ..., 'g', 'r', 'r'], dtype=object),\n",
       " array(['i', 'y', 'g', ..., 'r', 'y', 'r'], dtype=object),\n",
       " array(['i', 'i', 'z', ..., 'g', 'u', 'r'], dtype=object),\n",
       " array(['g', 'z', 'z', ..., 'r', 'r', 'r'], dtype=object),\n",
       " array(['i', 'r', 'u', ..., 'r', 'r', 'z'], dtype=object),\n",
       " array(['i', 'i', 'r', ..., 'r', 'i', 'i'], dtype=object),\n",
       " array(['r', 'r', 'r', ..., 'r', 'y', 'u'], dtype=object),\n",
       " array(['g', 'r', 'r', ..., 'z', 'z', 'u'], dtype=object),\n",
       " array(['y', 'g', 'z', ..., 'z', 'z', 'i'], dtype=object),\n",
       " array(['z', 'u', 'i', ..., 'i', 'u', 'i'], dtype=object),\n",
       " array(['u', 'i', 'i', ..., 'g', 'r', 'g'], dtype=object),\n",
       " array(['i', 'r', 'y', ..., 'u', 'g', 'z'], dtype=object),\n",
       " array(['i', 'z', 'z', ..., 'y', 'z', 'i'], dtype=object),\n",
       " array(['r', 'r', 'u', ..., 'r', 'y', 'y'], dtype=object),\n",
       " array(['i', 'z', 'z', ..., 'y', 'z', 'i'], dtype=object),\n",
       " array(['z', 'u', 'i', ..., 'i', 'y', 'y'], dtype=object),\n",
       " array(['g', 'g', 'r', ..., 'i', 'r', 'y'], dtype=object),\n",
       " array(['u', 'u', 'i', ..., 'g', 'r', 'r'], dtype=object),\n",
       " array(['i', 'r', 'u', ..., 'y', 'i', 'y'], dtype=object),\n",
       " array(['u', 'z', 'y', ..., 'z', 'z', 'y'], dtype=object),\n",
       " array(['z', 'i', 'i', ..., 'g', 'i', 'i'], dtype=object),\n",
       " array(['u', 'u', 'u', ..., 'r', 'z', 'z'], dtype=object),\n",
       " array(['i', 'y', 'y', ..., 'z', 'i', 'y'], dtype=object),\n",
       " array(['i', 'g', 'g', ..., 'z', 'r', 'r'], dtype=object),\n",
       " array(['r', 'u', 'r', ..., 'g', 'g', 'r'], dtype=object),\n",
       " array(['g', 'r', 'g', ..., 'g', 'r', 'i'], dtype=object),\n",
       " array(['u', 'g', 'g', ..., 'z', 'y', 'z'], dtype=object),\n",
       " array(['r', 'y', 'u', ..., 'u', 'i', 'i'], dtype=object),\n",
       " array(['z', 'i', 'y', ..., 'u', 'r', 'y'], dtype=object),\n",
       " array(['i', 'g', 'i', ..., 'y', 'z', 'i'], dtype=object),\n",
       " array(['i', 'i', 'y', ..., 'z', 'i', 'u'], dtype=object),\n",
       " array(['y', 'i', 'r', ..., 'y', 'y', 'r'], dtype=object),\n",
       " array(['i', 'i', 'i', ..., 'i', 'i', 'y'], dtype=object),\n",
       " array(['i', 'r', 'r', ..., 'i', 'r', 'y'], dtype=object),\n",
       " array(['y', 'g', 'g', ..., 'i', 'r', 'y'], dtype=object),\n",
       " array(['i', 'y', 'y', ..., 'z', 'i', 'y'], dtype=object),\n",
       " array(['y', 'z', 'z', ..., 'y', 'i', 'i'], dtype=object),\n",
       " array(['y', 'i', 'i', ..., 'i', 'y', 'z'], dtype=object),\n",
       " array(['y', 'u', 'y', ..., 'y', 'i', 'y'], dtype=object),\n",
       " array(['i', 'g', 'g', ..., 'r', 'r', 'y'], dtype=object),\n",
       " array(['z', 'i', 'u', ..., 'g', 'u', 'i'], dtype=object),\n",
       " array(['r', 'y', 'z', ..., 'z', 'i', 'i'], dtype=object),\n",
       " array(['i', 'i', 'r', ..., 'u', 'r', 'y'], dtype=object),\n",
       " array(['r', 'u', 'z', ..., 'i', 'y', 'i'], dtype=object),\n",
       " array(['r', 'r', 'i', ..., 'y', 'r', 'r'], dtype=object),\n",
       " array(['r', 'r', 'r', ..., 'z', 'z', 'y'], dtype=object),\n",
       " array(['r', 'r', 'u', ..., 'y', 'u', 'y'], dtype=object),\n",
       " array(['g', 'g', 'z', ..., 'y', 'u', 'y'], dtype=object),\n",
       " array(['g', 'g', 'i', ..., 'z', 'u', 'z'], dtype=object),\n",
       " array(['y', 'i', 'y', ..., 'r', 'r', 'u'], dtype=object),\n",
       " array(['r', 'r', 'r', ..., 'y', 'y', 'r'], dtype=object),\n",
       " array(['z', 'z', 'y', ..., 'r', 'i', 'y'], dtype=object),\n",
       " array(['i', 'z', 'u', ..., 'r', 'y', 'y'], dtype=object),\n",
       " array(['i', 'g', 'g', ..., 'y', 'u', 'u'], dtype=object),\n",
       " array(['g', 'g', 'z', ..., 'z', 'i', 'z'], dtype=object),\n",
       " array(['y', 'y', 'i', ..., 'i', 'i', 'i'], dtype=object),\n",
       " array(['i', 'g', 'i', ..., 'i', 'z', 'i'], dtype=object),\n",
       " array(['r', 'r', 'u', ..., 'i', 'u', 'y'], dtype=object),\n",
       " array(['r', 'r', 'r', ..., 'z', 'z', 'y'], dtype=object),\n",
       " array(['i', 'i', 'r', ..., 'i', 'z', 'z'], dtype=object),\n",
       " array(['i', 'y', 'z', ..., 'g', 'y', 'g'], dtype=object),\n",
       " array(['r', 'r', 'r', ..., 'y', 'r', 'y'], dtype=object),\n",
       " array(['i', 'r', 'u', ..., 'r', 'r', 'z'], dtype=object),\n",
       " array(['z', 'g', 'z', ..., 'z', 'y', 'r'], dtype=object),\n",
       " array(['y', 'u', 'y', ..., 'y', 'y', 'g'], dtype=object),\n",
       " array(['i', 'i', 'z', ..., 'y', 'u', 'y'], dtype=object),\n",
       " array(['z', 'z', 'y', ..., 'z', 'r', 'r'], dtype=object),\n",
       " array(['i', 'i', 'i', ..., 'i', 'i', 'y'], dtype=object),\n",
       " array(['y', 'g', 'g', ..., 'i', 'r', 'y'], dtype=object),\n",
       " array(['g', 'g', 'r', ..., 'y', 'r', 'y'], dtype=object),\n",
       " array(['y', 'z', 'r', ..., 'y', 'r', 'r'], dtype=object),\n",
       " array(['u', 'i', 'i', ..., 'r', 'i', 'i'], dtype=object),\n",
       " array(['z', 'y', 'i', ..., 'i', 'y', 'r'], dtype=object),\n",
       " array(['y', 'g', 'g', ..., 'i', 'r', 'y'], dtype=object),\n",
       " array(['y', 'y', 'i', ..., 'r', 'z', 'u'], dtype=object),\n",
       " array(['g', 'i', 'z', ..., 'z', 'r', 'z'], dtype=object),\n",
       " array(['y', 'r', 'y', ..., 'z', 'r', 'y'], dtype=object),\n",
       " array(['g', 'g', 'r', ..., 'y', 'r', 'y'], dtype=object),\n",
       " array(['y', 'u', 'y', ..., 'i', 'i', 'y'], dtype=object),\n",
       " array(['g', 'i', 'z', ..., 'z', 'y', 'i'], dtype=object),\n",
       " array(['i', 'r', 'u', ..., 'r', 'r', 'z'], dtype=object),\n",
       " array(['y', 'r', 'r', ..., 'i', 'i', 'i'], dtype=object),\n",
       " array(['i', 'y', 'i', ..., 'i', 'y', 'y'], dtype=object),\n",
       " array(['g', 'g', 'y', ..., 'i', 'r', 'y'], dtype=object),\n",
       " array(['z', 'i', 'y', ..., 'r', 'r', 'i'], dtype=object),\n",
       " array(['y', 'i', 'i', ..., 'y', 'z', 'z'], dtype=object),\n",
       " array(['u', 'g', 'z', ..., 'u', 'r', 'y'], dtype=object),\n",
       " array(['z', 'r', 'z', ..., 'i', 'y', 'y'], dtype=object),\n",
       " array(['y', 'g', 'g', ..., 'r', 'r', 'y'], dtype=object),\n",
       " array(['i', 'z', 'z', ..., 'r', 'z', 'z'], dtype=object),\n",
       " array(['y', 'g', 'g', ..., 'i', 'r', 'y'], dtype=object),\n",
       " array(['y', 'y', 'y', ..., 'y', 'z', 'i'], dtype=object),\n",
       " array(['g', 'r', 'z', ..., 'r', 'r', 'u'], dtype=object),\n",
       " array(['g', 'g', 'y', ..., 'y', 'u', 'y'], dtype=object),\n",
       " array(['i', 'z', 'z', ..., 'y', 'g', 'y'], dtype=object),\n",
       " array(['u', 'g', 'r', ..., 'y', 'y', 'r'], dtype=object),\n",
       " array(['u', 'i', 'u', ..., 'i', 'y', 'y'], dtype=object),\n",
       " array(['y', 'i', 'r', ..., 'g', 'y', 'g'], dtype=object),\n",
       " array(['r', 'r', 'r', ..., 'z', 'z', 'z'], dtype=object),\n",
       " array(['i', 'z', 'z', ..., 'r', 'r', 'r'], dtype=object),\n",
       " array(['y', 'i', 'i', ..., 'i', 'i', 'y'], dtype=object),\n",
       " array(['r', 'r', 'i', ..., 'z', 'y', 'g'], dtype=object),\n",
       " array(['i', 'g', 'g', ..., 'y', 'u', 'u'], dtype=object),\n",
       " array(['u', 'i', 'i', ..., 'g', 'r', 'g'], dtype=object),\n",
       " array(['z', 'r', 'r', ..., 'i', 'z', 'z'], dtype=object),\n",
       " array(['i', 'y', 'y', ..., 'i', 'z', 'z'], dtype=object),\n",
       " array(['u', 'z', 'y', ..., 'z', 'g', 'y'], dtype=object),\n",
       " array(['y', 'z', 'u', ..., 'i', 'i', 'y'], dtype=object),\n",
       " array(['y', 'i', 'y', ..., 'z', 'i', 'r'], dtype=object),\n",
       " array(['z', 'y', 'i', ..., 'z', 'z', 'i'], dtype=object),\n",
       " array(['z', 'u', 'i', ..., 'r', 'z', 'u'], dtype=object),\n",
       " array(['i', 'g', 'g', ..., 'i', 'i', 'y'], dtype=object),\n",
       " array(['y', 'g', 'g', ..., 'i', 'r', 'y'], dtype=object),\n",
       " array(['u', 'i', 'i', ..., 'g', 'z', 'g'], dtype=object),\n",
       " array(['g', 'z', 'y', ..., 'i', 'g', 'i'], dtype=object),\n",
       " array(['u', 'y', 'y', ..., 'r', 'r', 'z'], dtype=object),\n",
       " array(['g', 'r', 'z', ..., 'r', 'r', 'u'], dtype=object),\n",
       " array(['u', 'u', 'u', ..., 'y', 'r', 'z'], dtype=object),\n",
       " array(['z', 'y', 'r', ..., 'y', 'y', 'y'], dtype=object),\n",
       " array(['y', 'z', 'y', ..., 'z', 'u', 'y'], dtype=object),\n",
       " array(['y', 'y', 'i', ..., 'y', 'r', 'y'], dtype=object),\n",
       " array(['y', 'y', 'i', ..., 'r', 'z', 'z'], dtype=object),\n",
       " array(['r', 'y', 'y', ..., 'u', 'i', 'i'], dtype=object),\n",
       " array(['i', 'i', 'g', ..., 'z', 'y', 'y'], dtype=object),\n",
       " array(['i', 'y', 'i', ..., 'r', 'z', 'z'], dtype=object),\n",
       " array(['u', 'i', 'i', ..., 'r', 'r', 'r'], dtype=object),\n",
       " array(['z', 'z', 'y', ..., 'g', 'r', 'r'], dtype=object),\n",
       " array(['u', 'i', 'i', ..., 'y', 'r', 'i'], dtype=object),\n",
       " array(['r', 'r', 'r', ..., 'u', 'r', 'y'], dtype=object),\n",
       " array(['z', 'r', 'y', ..., 'y', 'r', 'r'], dtype=object),\n",
       " array(['r', 'y', 'y', ..., 'y', 'u', 'y'], dtype=object),\n",
       " array(['z', 'y', 'i', ..., 'y', 'i', 'g'], dtype=object),\n",
       " array(['u', 'r', 'r', ..., 'y', 'r', 'i'], dtype=object),\n",
       " array(['r', 'r', 'r', ..., 'r', 'y', 'y'], dtype=object),\n",
       " array(['u', 'z', 'i', ..., 'r', 'z', 'z'], dtype=object),\n",
       " array(['i', 'r', 'r', ..., 'y', 'r', 'y'], dtype=object),\n",
       " array(['u', 'i', 'i', ..., 'r', 'r', 'r'], dtype=object),\n",
       " array(['z', 'y', 'i', ..., 'y', 'r', 'i'], dtype=object),\n",
       " array(['y', 'y', 'i', ..., 'i', 'i', 'i'], dtype=object),\n",
       " array(['y', 'i', 'y', ..., 'g', 'u', 'i'], dtype=object),\n",
       " array(['g', 'g', 'r', ..., 'i', 'r', 'y'], dtype=object),\n",
       " array(['i', 'r', 'y', ..., 'r', 'r', 'z'], dtype=object),\n",
       " array(['r', 'r', 'r', ..., 'y', 'z', 'i'], dtype=object),\n",
       " array(['r', 'u', 'r', ..., 'g', 'g', 'r'], dtype=object),\n",
       " array(['i', 'g', 'i', ..., 'i', 'y', 'i'], dtype=object),\n",
       " array(['y', 'r', 'r', ..., 'y', 'y', 'i'], dtype=object),\n",
       " array(['i', 'y', 'y', ..., 'i', 'z', 'z'], dtype=object),\n",
       " array(['z', 'i', 'u', ..., 'g', 'u', 'i'], dtype=object),\n",
       " array(['r', 'y', 'z', ..., 'y', 'i', 'i'], dtype=object),\n",
       " array(['u', 'u', 'z', ..., 'y', 'i', 'g'], dtype=object),\n",
       " array(['g', 'g', 'r', ..., 'y', 'r', 'y'], dtype=object),\n",
       " array(['g', 'r', 'z', ..., 'z', 'y', 'z'], dtype=object),\n",
       " array(['i', 'r', 'y', ..., 'r', 'r', 'z'], dtype=object),\n",
       " array(['g', 'y', 'g', ..., 'z', 'r', 'y'], dtype=object),\n",
       " array(['i', 'z', 'z', ..., 'r', 'r', 'r'], dtype=object),\n",
       " array(['z', 'r', 'r', ..., 'y', 'i', 'g'], dtype=object),\n",
       " array(['i', 'i', 'i', ..., 'i', 'i', 'y'], dtype=object),\n",
       " array(['z', 'r', 'r', ..., 'r', 'r', 'z'], dtype=object),\n",
       " array(['y', 'y', 'y', ..., 'y', 'z', 'i'], dtype=object),\n",
       " array(['z', 'z', 'r', ..., 'r', 'z', 'z'], dtype=object),\n",
       " array(['y', 'r', 'r', ..., 'z', 'z', 'u'], dtype=object),\n",
       " array(['i', 'i', 'r', ..., 'y', 'u', 'y'], dtype=object),\n",
       " array(['r', 'z', 'i', ..., 'r', 'z', 'z'], dtype=object),\n",
       " array(['g', 'g', 'z', ..., 'r', 'g', 'r'], dtype=object),\n",
       " array(['r', 'r', 'r', ..., 'g', 'r', 'y'], dtype=object),\n",
       " array(['y', 'i', 'i', ..., 'g', 'i', 'y'], dtype=object),\n",
       " array(['z', 'i', 'y', ..., 'u', 'r', 'y'], dtype=object),\n",
       " array(['u', 'y', 'z', ..., 'i', 'y', 'g'], dtype=object),\n",
       " array(['z', 'i', 'i', ..., 'z', 'y', 'z'], dtype=object),\n",
       " array(['z', 'z', 'i', ..., 'i', 'y', 'i'], dtype=object),\n",
       " array(['i', 'u', 'r', ..., 'r', 'r', 'r'], dtype=object),\n",
       " array(['z', 'i', 'i', ..., 'u', 'g', 'y'], dtype=object),\n",
       " array(['g', 'y', 'y', ..., 'i', 'y', 'i'], dtype=object),\n",
       " array(['g', 'g', 'g', ..., 'i', 'y', 'y'], dtype=object),\n",
       " array(['y', 'i', 'r', ..., 'g', 'z', 'y'], dtype=object),\n",
       " array(['r', 'y', 'y', ..., 'y', 'u', 'y'], dtype=object),\n",
       " array(['i', 'g', 'g', ..., 'r', 'y', 'z'], dtype=object),\n",
       " array(['z', 'y', 'r', ..., 'i', 'y', 'r'], dtype=object),\n",
       " array(['i', 'g', 'g', ..., 'y', 'z', 'i'], dtype=object),\n",
       " array(['i', 'i', 'r', ..., 'r', 'y', 'y'], dtype=object),\n",
       " array(['i', 'i', 'z', ..., 'g', 'u', 'r'], dtype=object),\n",
       " array(['z', 'r', 'r', ..., 'i', 'g', 'u'], dtype=object),\n",
       " array(['z', 'z', 'g', ..., 'r', 'z', 'u'], dtype=object),\n",
       " array(['i', 'i', 'r', ..., 'r', 'g', 'g'], dtype=object),\n",
       " array(['z', 'y', 'i', ..., 'y', 'i', 'i'], dtype=object),\n",
       " array(['i', 'g', 'g', ..., 'r', 'i', 'i'], dtype=object),\n",
       " array(['z', 'y', 'u', ..., 'y', 'r', 'r'], dtype=object),\n",
       " array(['u', 'z', 'y', ..., 'i', 'y', 'y'], dtype=object),\n",
       " array(['r', 'y', 'y', ..., 'y', 'u', 'y'], dtype=object),\n",
       " array(['z', 'z', 'z', ..., 'r', 'i', 'i'], dtype=object),\n",
       " array(['i', 'y', 'y', ..., 'i', 'z', 'z'], dtype=object),\n",
       " array(['i', 'z', 'z', ..., 'r', 'r', 'z'], dtype=object),\n",
       " array(['r', 'r', 'r', ..., 'z', 'z', 'y'], dtype=object),\n",
       " array(['u', 'z', 'y', ..., 'z', 'z', 'z'], dtype=object),\n",
       " array(['u', 'i', 'i', ..., 'y', 'r', 'r'], dtype=object),\n",
       " array(['i', 'y', 'y', ..., 'z', 'i', 'y'], dtype=object),\n",
       " array(['r', 'u', 'y', ..., 'i', 'y', 'i'], dtype=object),\n",
       " array(['y', 'u', 'y', ..., 'y', 'i', 'y'], dtype=object),\n",
       " array(['z', 'z', 'y', ..., 'y', 'r', 'r'], dtype=object),\n",
       " array(['y', 'y', 'i', ..., 'i', 'i', 'i'], dtype=object),\n",
       " array(['z', 'g', 'z', ..., 'y', 'y', 'g'], dtype=object),\n",
       " array(['z', 'i', 'y', ..., 'u', 'r', 'y'], dtype=object),\n",
       " array(['u', 'g', 'g', ..., 'z', 'y', 'z'], dtype=object),\n",
       " array(['z', 'z', 'y', ..., 'i', 'y', 'g'], dtype=object),\n",
       " array(['z', 'i', 'y', ..., 'r', 'i', 'y'], dtype=object),\n",
       " array(['i', 'r', 'y', ..., 'y', 'y', 'y'], dtype=object),\n",
       " array(['i', 'z', 'z', ..., 'i', 'y', 'i'], dtype=object),\n",
       " array(['y', 'z', 'z', ..., 'r', 'z', 'z'], dtype=object),\n",
       " array(['r', 'r', 'z', ..., 'y', 'i', 'i'], dtype=object),\n",
       " array(['z', 'i', 'i', ..., 'u', 'g', 'y'], dtype=object),\n",
       " array(['i', 'i', 'r', ..., 'y', 'u', 'i'], dtype=object),\n",
       " array(['z', 'r', 'z', ..., 'y', 'y', 'g'], dtype=object),\n",
       " array(['r', 'i', 'r', ..., 'i', 'i', 'z'], dtype=object),\n",
       " array(['y', 'y', 'y', ..., 'y', 'r', 'r'], dtype=object),\n",
       " array(['i', 'g', 'g', ..., 'y', 'u', 'u'], dtype=object),\n",
       " array(['g', 'g', 'y', ..., 'u', 'g', 'r'], dtype=object),\n",
       " array(['i', 'g', 'g', ..., 'r', 'r', 'y'], dtype=object),\n",
       " array(['y', 'r', 'r', ..., 'u', 'y', 'i'], dtype=object),\n",
       " array(['i', 'i', 'g', ..., 'i', 'y', 'i'], dtype=object),\n",
       " array(['y', 'y', 'i', ..., 'i', 'i', 'i'], dtype=object),\n",
       " array(['r', 'y', 'y', ..., 'y', 'u', 'y'], dtype=object),\n",
       " array(['y', 'z', 'r', ..., 'y', 'r', 'r'], dtype=object),\n",
       " array(['y', 'y', 'i', ..., 'i', 'i', 'i'], dtype=object),\n",
       " array(['r', 'r', 'z', ..., 'g', 'r', 'i'], dtype=object),\n",
       " array(['r', 'r', 'i', ..., 'i', 'y', 'g'], dtype=object),\n",
       " array(['i', 'r', 'u', ..., 'r', 'z', 'z'], dtype=object),\n",
       " array(['z', 'r', 'r', ..., 'r', 'z', 'z'], dtype=object),\n",
       " array(['u', 'u', 'i', ..., 'g', 'r', 'r'], dtype=object),\n",
       " array(['g', 'g', 'r', ..., 'y', 'r', 'y'], dtype=object),\n",
       " array(['z', 'z', 'y', ..., 'r', 'z', 'g'], dtype=object),\n",
       " array(['r', 'r', 'u', ..., 'r', 'y', 'y'], dtype=object),\n",
       " array(['r', 'g', 'g', ..., 'y', 'u', 'u'], dtype=object),\n",
       " array(['z', 'z', 'u', ..., 'z', 'y', 'r'], dtype=object),\n",
       " array(['i', 'g', 'g', ..., 'r', 'r', 'y'], dtype=object),\n",
       " array(['i', 'r', 'r', ..., 'r', 'r', 'y'], dtype=object),\n",
       " array(['z', 'y', 'r', ..., 'i', 'z', 'i'], dtype=object),\n",
       " array(['z', 'r', 'r', ..., 'i', 'g', 'u'], dtype=object),\n",
       " array(['z', 'r', 'z', ..., 'z', 'y', 'r'], dtype=object),\n",
       " array(['r', 'r', 'r', ..., 'i', 'y', 'i'], dtype=object),\n",
       " array(['r', 'r', 'r', ..., 'y', 'u', 'i'], dtype=object),\n",
       " array(['y', 'i', 'i', ..., 'g', 'i', 'y'], dtype=object),\n",
       " array(['g', 'y', 'y', ..., 'u', 'g', 'r'], dtype=object),\n",
       " array(['y', 'i', 'i', ..., 'y', 'z', 'z'], dtype=object),\n",
       " array(['y', 'r', 'z', ..., 'y', 'y', 'i'], dtype=object),\n",
       " array(['i', 'r', 'r', ..., 'i', 'r', 'y'], dtype=object),\n",
       " array(['i', 'z', 'z', ..., 'r', 'r', 'z'], dtype=object),\n",
       " array(['i', 'r', 'y', ..., 'y', 'y', 'y'], dtype=object),\n",
       " array(['r', 'y', 'y', ..., 'y', 'u', 'y'], dtype=object),\n",
       " array(['z', 'i', 'i', ..., 'z', 'y', 'z'], dtype=object),\n",
       " array(['i', 'r', 'u', ..., 'r', 'z', 'z'], dtype=object),\n",
       " array(['y', 'r', 'r', ..., 'u', 'y', 'i'], dtype=object),\n",
       " array(['y', 'r', 'r', ..., 'u', 'y', 'i'], dtype=object),\n",
       " array(['z', 'z', 'z', ..., 'y', 'y', 'r'], dtype=object),\n",
       " array(['i', 'z', 'z', ..., 'i', 'y', 'g'], dtype=object),\n",
       " array(['r', 'r', 'g', ..., 'y', 'r', 'z'], dtype=object),\n",
       " array(['g', 'y', 'g', ..., 'z', 'u', 'z'], dtype=object),\n",
       " array(['y', 'r', 'y', ..., 'i', 'z', 'r'], dtype=object),\n",
       " array(['g', 'g', 'r', ..., 'u', 'r', 'r'], dtype=object),\n",
       " array(['z', 'u', 'i', ..., 'i', 'u', 'i'], dtype=object),\n",
       " array(['z', 'z', 'y', ..., 'i', 'i', 'i'], dtype=object),\n",
       " array(['i', 'z', 'z', ..., 'r', 'r', 'r'], dtype=object),\n",
       " array(['y', 'u', 'y', ..., 'z', 'r', 'r'], dtype=object),\n",
       " array(['i', 'z', 'z', ..., 'y', 'i', 'y'], dtype=object),\n",
       " array(['z', 'u', 'i', ..., 'r', 'y', 'r'], dtype=object),\n",
       " array(['y', 'z', 'i', ..., 'y', 'z', 'y'], dtype=object),\n",
       " array(['y', 'z', 'u', ..., 'z', 'r', 'r'], dtype=object),\n",
       " array(['r', 'z', 'i', ..., 'i', 'z', 'y'], dtype=object),\n",
       " array(['z', 'r', 'g', ..., 'i', 'y', 'i'], dtype=object),\n",
       " array(['y', 'g', 'u', ..., 'z', 'z', 'z'], dtype=object),\n",
       " array(['g', 'r', 'r', ..., 'r', 'y', 'y'], dtype=object),\n",
       " array(['r', 'z', 'i', ..., 'r', 'z', 'z'], dtype=object),\n",
       " array(['r', 'r', 'z', ..., 'g', 'r', 'i'], dtype=object),\n",
       " array(['i', 'r', 'y', ..., 'y', 'y', 'y'], dtype=object),\n",
       " array(['i', 'i', 'z', ..., 'r', 'u', 'z'], dtype=object),\n",
       " array(['z', 'r', 'r', ..., 'y', 'i', 'g'], dtype=object),\n",
       " array(['u', 'i', 'z', ..., 'y', 'r', 'r'], dtype=object),\n",
       " array(['u', 'g', 'g', ..., 'y', 'r', 'i'], dtype=object),\n",
       " array(['y', 'z', 'y', ..., 'g', 'i', 'y'], dtype=object),\n",
       " array(['r', 'r', 'r', ..., 'z', 'z', 'y'], dtype=object),\n",
       " array(['r', 'y', 'y', ..., 'y', 'u', 'y'], dtype=object),\n",
       " array(['z', 'z', 'i', ..., 'i', 'y', 'i'], dtype=object),\n",
       " array(['g', 'g', 'g', ..., 'y', 'r', 'z'], dtype=object),\n",
       " array(['r', 'y', 'z', ..., 'y', 'i', 'i'], dtype=object),\n",
       " array(['z', 'g', 'z', ..., 'z', 'r', 'r'], dtype=object),\n",
       " array(['i', 'r', 'r', ..., 'y', 'r', 'y'], dtype=object),\n",
       " array(['z', 'g', 'z', ..., 'y', 'y', 'g'], dtype=object),\n",
       " array(['r', 'y', 'y', ..., 'y', 'u', 'y'], dtype=object),\n",
       " array(['r', 'r', 'u', ..., 'z', 'z', 'u'], dtype=object),\n",
       " array(['y', 'y', 'i', ..., 'i', 'i', 'i'], dtype=object),\n",
       " array(['z', 'z', 'y', ..., 'i', 'y', 'i'], dtype=object),\n",
       " array(['u', 'r', 'r', ..., 'r', 'z', 'z'], dtype=object),\n",
       " array(['u', 'z', 'i', ..., 'y', 'r', 'z'], dtype=object),\n",
       " array(['i', 'r', 'z', ..., 'z', 'u', 'z'], dtype=object),\n",
       " array(['i', 'y', 'z', ..., 'g', 'y', 'g'], dtype=object),\n",
       " array(['z', 'i', 'r', ..., 'u', 'r', 'r'], dtype=object),\n",
       " array(['g', 'g', 'r', ..., 'i', 'i', 'i'], dtype=object),\n",
       " array(['y', 'y', 'u', ..., 'y', 'z', 'i'], dtype=object),\n",
       " array(['z', 'y', 'r', ..., 'z', 'r', 'r'], dtype=object),\n",
       " array(['y', 'r', 'r', ..., 'u', 'g', 'y'], dtype=object),\n",
       " array(['g', 'u', 'r', ..., 'r', 'u', 'u'], dtype=object),\n",
       " array(['u', 'y', 'y', ..., 'z', 'z', 'u'], dtype=object),\n",
       " array(['i', 'i', 'z', ..., 'r', 'i', 'i'], dtype=object),\n",
       " array(['i', 'y', 'y', ..., 'z', 'i', 'y'], dtype=object),\n",
       " array(['y', 'g', 'u', ..., 'z', 'z', 'z'], dtype=object),\n",
       " array(['r', 'z', 'i', ..., 'r', 'z', 'z'], dtype=object),\n",
       " array(['r', 'i', 'i', ..., 'y', 'u', 'y'], dtype=object),\n",
       " array(['r', 'r', 'r', ..., 'y', 'r', 'y'], dtype=object),\n",
       " array(['z', 'y', 'i', ..., 'y', 'i', 'g'], dtype=object),\n",
       " array(['r', 'r', 'g', ..., 'y', 'r', 'z'], dtype=object),\n",
       " array(['g', 'r', 'g', ..., 'g', 'r', 'i'], dtype=object),\n",
       " array(['z', 'i', 'y', ..., 'u', 'r', 'y'], dtype=object),\n",
       " array(['y', 'i', 'z', ..., 'z', 'z', 'r'], dtype=object),\n",
       " array(['z', 'r', 'g', ..., 'i', 'y', 'z'], dtype=object),\n",
       " array(['z', 'g', 'g', ..., 'r', 'z', 'i'], dtype=object),\n",
       " array(['i', 'g', 'g', ..., 'r', 'r', 'y'], dtype=object),\n",
       " array(['y', 'y', 'u', ..., 'r', 'i', 'y'], dtype=object),\n",
       " array(['z', 'g', 'z', ..., 'z', 'y', 'r'], dtype=object),\n",
       " array(['z', 'r', 'g', ..., 'y', 'y', 'i'], dtype=object),\n",
       " array(['u', 'i', 'i', ..., 'z', 'y', 'z'], dtype=object),\n",
       " array(['g', 'u', 'r', ..., 'r', 'u', 'u'], dtype=object),\n",
       " array(['g', 'r', 'g', ..., 'r', 'r', 'r'], dtype=object),\n",
       " array(['r', 'y', 'y', ..., 'y', 'u', 'y'], dtype=object),\n",
       " array(['z', 'r', 'y', ..., 'z', 'y', 'g'], dtype=object),\n",
       " array(['z', 'r', 'z', ..., 'y', 'y', 'g'], dtype=object),\n",
       " array(['u', 'g', 'g', ..., 'z', 'y', 'z'], dtype=object),\n",
       " array(['u', 'u', 'u', ..., 'y', 'r', 'y'], dtype=object),\n",
       " array(['g', 'g', 'r', ..., 'r', 'z', 'i'], dtype=object),\n",
       " array(['r', 'g', 'r', ..., 'y', 'y', 'i'], dtype=object),\n",
       " array(['r', 'r', 'y', ..., 'r', 'i', 'r'], dtype=object),\n",
       " array(['u', 'i', 'i', ..., 'y', 'z', 'i'], dtype=object),\n",
       " array(['r', 'r', 'r', ..., 'z', 'z', 'y'], dtype=object),\n",
       " array(['z', 'i', 'y', ..., 'u', 'r', 'y'], dtype=object),\n",
       " array(['i', 'g', 'g', ..., 'y', 'u', 'u'], dtype=object),\n",
       " array(['z', 'r', 'g', ..., 'i', 'y', 'i'], dtype=object),\n",
       " array(['z', 'z', 'y', ..., 'z', 'r', 'r'], dtype=object),\n",
       " array(['u', 'g', 'g', ..., 'i', 'g', 'y'], dtype=object),\n",
       " array(['g', 'r', 'r', ..., 'y', 'u', 'y'], dtype=object),\n",
       " array(['z', 'i', 'y', ..., 'u', 'r', 'y'], dtype=object),\n",
       " array(['i', 'z', 'z', ..., 'r', 'i', 'y'], dtype=object),\n",
       " array(['r', 'y', 'u', ..., 'u', 'i', 'i'], dtype=object),\n",
       " array(['r', 'r', 'r', ..., 'y', 'z', 'i'], dtype=object),\n",
       " array(['z', 'z', 'i', ..., 'u', 'g', 'y'], dtype=object),\n",
       " array(['u', 'i', 'i', ..., 'g', 'r', 'g'], dtype=object),\n",
       " array(['i', 'i', 'r', ..., 'y', 'r', 'z'], dtype=object),\n",
       " array(['i', 'y', 'y', ..., 'g', 'y', 'g'], dtype=object),\n",
       " array(['z', 'z', 'y', ..., 'z', 'y', 'r'], dtype=object),\n",
       " array(['i', 'r', 'r', ..., 'z', 'z', 'u'], dtype=object),\n",
       " array(['z', 'g', 'g', ..., 'r', 'z', 'i'], dtype=object),\n",
       " array(['i', 'r', 'y', ..., 'g', 'g', 'z'], dtype=object),\n",
       " array(['i', 'z', 'z', ..., 'i', 'y', 'i'], dtype=object),\n",
       " array(['y', 'g', 'g', ..., 'r', 'r', 'y'], dtype=object),\n",
       " array(['i', 'r', 'r', ..., 'g', 'u', 'z'], dtype=object),\n",
       " array(['i', 'y', 'u', ..., 'r', 'y', 'y'], dtype=object),\n",
       " array(['i', 'i', 'i', ..., 'y', 'u', 'y'], dtype=object),\n",
       " array(['g', 'g', 'y', ..., 'r', 'g', 'g'], dtype=object),\n",
       " array(['z', 'g', 'g', ..., 'r', 'z', 'i'], dtype=object),\n",
       " array(['g', 'g', 'g', ..., 'i', 'y', 'y'], dtype=object),\n",
       " array(['i', 'i', 'i', ..., 'i', 'z', 'z'], dtype=object),\n",
       " array(['u', 'i', 'i', ..., 'y', 'r', 'i'], dtype=object),\n",
       " array(['y', 'g', 'g', ..., 'r', 'i', 'i'], dtype=object),\n",
       " array(['z', 'u', 'i', ..., 'i', 'u', 'i'], dtype=object),\n",
       " array(['i', 'y', 'u', ..., 'y', 'r', 'r'], dtype=object),\n",
       " array(['z', 'g', 'z', ..., 'z', 'y', 'r'], dtype=object),\n",
       " array(['y', 'y', 'y', ..., 'r', 'r', 'z'], dtype=object),\n",
       " array(['y', 'r', 'r', ..., 'i', 'z', 'z'], dtype=object),\n",
       " array(['z', 'g', 'z', ..., 'z', 'y', 'r'], dtype=object),\n",
       " array(['y', 'y', 'r', ..., 'y', 'r', 'r'], dtype=object),\n",
       " array(['i', 'y', 'z', ..., 'y', 'r', 'y'], dtype=object),\n",
       " array(['z', 'g', 'z', ..., 'z', 'y', 'r'], dtype=object),\n",
       " array(['r', 'g', 'g', ..., 'g', 'r', 'g'], dtype=object),\n",
       " array(['i', 'r', 'r', ..., 'z', 'r', 'r'], dtype=object),\n",
       " array(['y', 'z', 'u', ..., 'y', 'r', 'r'], dtype=object),\n",
       " array(['z', 'g', 'i', ..., 'i', 'g', 'u'], dtype=object),\n",
       " array(['r', 'z', 'i', ..., 'g', 'u', 'r'], dtype=object),\n",
       " array(['z', 'g', 'z', ..., 'z', 'r', 'r'], dtype=object),\n",
       " array(['z', 'y', 'i', ..., 'y', 'y', 'r'], dtype=object),\n",
       " array(['i', 'i', 'r', ..., 'y', 'r', 'z'], dtype=object),\n",
       " array(['y', 'z', 'y', ..., 'y', 'r', 'r'], dtype=object),\n",
       " array(['i', 'r', 'z', ..., 'z', 'z', 'r'], dtype=object),\n",
       " array(['y', 'z', 'r', ..., 'y', 'r', 'r'], dtype=object),\n",
       " array(['z', 'r', 'y', ..., 'i', 'y', 'y'], dtype=object),\n",
       " array(['y', 'r', 'r', ..., 'i', 'i', 'i'], dtype=object),\n",
       " array(['y', 'y', 'i', ..., 'i', 'r', 'i'], dtype=object),\n",
       " array(['i', 'r', 'y', ..., 'r', 'r', 'z'], dtype=object),\n",
       " array(['z', 'z', 'g', ..., 'r', 'z', 'u'], dtype=object),\n",
       " array(['i', 'z', 'z', ..., 'r', 'r', 'r'], dtype=object),\n",
       " array(['r', 'u', 'z', ..., 'y', 'z', 'z'], dtype=object),\n",
       " array(['y', 'y', 'y', ..., 'y', 'r', 'r'], dtype=object),\n",
       " array(['y', 'u', 'y', ..., 'r', 'u', 'z'], dtype=object),\n",
       " array(['i', 'u', 'r', ..., 'r', 'r', 'r'], dtype=object),\n",
       " array(['g', 'g', 'y', ..., 'i', 'y', 'i'], dtype=object),\n",
       " array(['y', 'z', 'i', ..., 'z', 'u', 'i'], dtype=object),\n",
       " array(['i', 'i', 'r', ..., 'y', 'u', 'i'], dtype=object),\n",
       " array(['y', 'z', 'u', ..., 'z', 'y', 'r'], dtype=object),\n",
       " array(['r', 'y', 'y', ..., 'i', 'u', 'y'], dtype=object),\n",
       " array(['z', 'y', 'i', ..., 'y', 'r', 'i'], dtype=object),\n",
       " array(['i', 'i', 'u', ..., 'i', 'z', 'z'], dtype=object),\n",
       " array(['z', 'z', 'g', ..., 'r', 'r', 'z'], dtype=object),\n",
       " array(['i', 'i', 'r', ..., 'z', 'i', 'g'], dtype=object),\n",
       " array(['i', 'i', 'u', ..., 'i', 'z', 'z'], dtype=object),\n",
       " array(['z', 'r', 'z', ..., 'y', 'i', 'y'], dtype=object),\n",
       " array(['g', 'g', 'u', ..., 'g', 'r', 'g'], dtype=object),\n",
       " array(['z', 'g', 'i', ..., 'y', 'z', 'z'], dtype=object),\n",
       " array(['i', 'i', 'z', ..., 'y', 'u', 'y'], dtype=object),\n",
       " array(['i', 'z', 'u', ..., 'i', 'i', 'i'], dtype=object),\n",
       " array(['z', 'z', 'y', ..., 'i', 'i', 'g'], dtype=object),\n",
       " array(['r', 'y', 'u', ..., 'r', 'u', 'z'], dtype=object),\n",
       " array(['z', 'z', 'z', ..., 'z', 'z', 'z'], dtype=object),\n",
       " array(['y', 'i', 'i', ..., 'z', 'z', 'y'], dtype=object),\n",
       " array(['u', 'z', 'y', ..., 'z', 'z', 'y'], dtype=object),\n",
       " array(['g', 'r', 'g', ..., 'y', 'i', 'i'], dtype=object),\n",
       " array(['y', 'z', 'i', ..., 'r', 'y', 'u'], dtype=object),\n",
       " array(['i', 'i', 'r', ..., 'y', 'u', 'y'], dtype=object),\n",
       " array(['r', 'r', 'g', ..., 'y', 'r', 'z'], dtype=object),\n",
       " array(['g', 'g', 'r', ..., 'u', 'r', 'r'], dtype=object),\n",
       " array(['u', 'i', 'i', ..., 'g', 'r', 'g'], dtype=object),\n",
       " array(['r', 'r', 'r', ..., 'r', 'y', 'u'], dtype=object),\n",
       " array(['z', 'z', 'u', ..., 'z', 'y', 'r'], dtype=object),\n",
       " array(['g', 'g', 'u', ..., 'g', 'r', 'g'], dtype=object),\n",
       " ...]"
      ]
     },
     "execution_count": 146,
     "metadata": {},
     "output_type": "execute_result"
    }
   ],
   "source": [
    "filteropsim_list"
   ]
  },
  {
   "cell_type": "code",
   "execution_count": null,
   "metadata": {},
   "outputs": [],
   "source": []
  }
 ],
 "metadata": {
  "kernelspec": {
   "display_name": "lsst",
   "language": "python",
   "name": "lsst"
  },
  "language_info": {
   "codemirror_mode": {
    "name": "ipython",
    "version": 3
   },
   "file_extension": ".py",
   "mimetype": "text/x-python",
   "name": "python",
   "nbconvert_exporter": "python",
   "pygments_lexer": "ipython3",
   "version": "3.6.2"
  }
 },
 "nbformat": 4,
 "nbformat_minor": 2
}
