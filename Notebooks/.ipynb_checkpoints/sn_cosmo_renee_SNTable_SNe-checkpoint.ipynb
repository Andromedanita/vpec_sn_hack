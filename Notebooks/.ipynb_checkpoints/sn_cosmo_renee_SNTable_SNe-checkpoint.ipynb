{
 "cells": [
  {
   "cell_type": "code",
   "execution_count": 7,
   "metadata": {},
   "outputs": [],
   "source": [
    "import sncosmo\n",
    "from  astropy.table import Table\n",
    "import numpy as np\n",
    "import matplotlib.pylab as plt\n",
    "\n",
    "obs = Table({'time' : [56176.19, 56188.254, 56207.172],\n",
    "             'band' : ['desg', 'desr', 'desi'],\n",
    "             'gain' : [1., 1., 1.],\n",
    "             'skynoise': [191.27, 147.62, 160.40],\n",
    "             'zp'   : [30., 30., 30.],\n",
    "             'zpsys':['ab', 'ab', 'ab']})\n",
    "\n",
    "model  = sncosmo.Model(source='salt2')"
   ]
  },
  {
   "cell_type": "markdown",
   "metadata": {},
   "source": [
    "### Reading SNTable in"
   ]
  },
  {
   "cell_type": "code",
   "execution_count": 33,
   "metadata": {},
   "outputs": [],
   "source": [
    "filename = \"/global/homes/a/anitab/vpec_sn_hack/data/Hosted_SN_table.csv\"\n",
    "from pandas import read_csv"
   ]
  },
  {
   "cell_type": "code",
   "execution_count": 49,
   "metadata": {},
   "outputs": [],
   "source": [
    "vvv = read_csv(filename)\n",
    "data = vvv['galaxy_id c mB t0 x0 x1 z random_Hosting rand_host zbin \"Unnamed: 0\" diskMassStellar morphology/diskHalfLightRadiusArcsec morphology/diskMinorAxisArcsec morphology/positionAngle morphology/spheroidHalfLightRadiusArcsec morphology/spheroidMinorAxisArcsec size_bulge_true size_disk_true totalMassStellar uniqueId raJ2000_gal decJ2000_gal z zbin_gals snid']"
   ]
  },
  {
   "cell_type": "code",
   "execution_count": 55,
   "metadata": {},
   "outputs": [
    {
     "data": {
      "text/plain": [
       "Index(['galaxy_id c mB t0 x0 x1 z random_Hosting rand_host zbin \"Unnamed: 0\" diskMassStellar morphology/diskHalfLightRadiusArcsec morphology/diskMinorAxisArcsec morphology/positionAngle morphology/spheroidHalfLightRadiusArcsec morphology/spheroidMinorAxisArcsec size_bulge_true size_disk_true totalMassStellar uniqueId raJ2000_gal decJ2000_gal z zbin_gals snid'], dtype='object')"
      ]
     },
     "execution_count": 55,
     "metadata": {},
     "output_type": "execute_result"
    }
   ],
   "source": [
    "vvv.columns"
   ]
  },
  {
   "cell_type": "code",
   "execution_count": 127,
   "metadata": {},
   "outputs": [],
   "source": [
    "length = 10000#len(data)\n",
    "zvals  = np.zeros(length) \n",
    "x0vals = np.zeros(length)\n",
    "x1vals = np.zeros(length)\n",
    "cvals  = np.zeros(length)\n",
    "mBvals = np.zeros(length)\n",
    "t0vals = np.zeros(length)\n",
    "\n",
    "for i in range(length):\n",
    "    zvals[i]  = data[i].split()[6]\n",
    "    x0vals[i] = data[i].split()[4]\n",
    "    x1vals[i] = data[i].split()[5]\n",
    "    cvals[i]  = data[i].split()[1]\n",
    "    mBvals[i] = data[i].split()[2]\n",
    "    t0vals[i] = data[i].split()[3]"
   ]
  },
  {
   "cell_type": "code",
   "execution_count": 97,
   "metadata": {},
   "outputs": [
    {
     "data": {
      "text/plain": [
       "'\\nprint (\" z limits: \")\\nprint (np.min(zvals))\\nprint (np.max(zvals))\\nprint ()\\n\\nprint (\" x0 limits: \")\\nprint (np.min(x0vals))\\nprint (np.max(x0vals))\\nprint ()\\n\\nprint (\" x1 limits: \")\\nprint (np.min(x1vals))\\nprint (np.max(x1vals))\\nprint ()\\n\\nprint (\" c limits: \")\\nprint (np.min(cvals))\\nprint (np.max(cvals))\\nprint ()\\n\\nprint (\" mB limits: \")\\nprint (np.min(mBvals))\\nprint (np.max(mBvals))\\nprint ()\\n'"
      ]
     },
     "execution_count": 97,
     "metadata": {},
     "output_type": "execute_result"
    }
   ],
   "source": [
    "\"\"\"\n",
    "print (\" z limits: \")\n",
    "print (np.min(zvals))\n",
    "print (np.max(zvals))\n",
    "print ()\n",
    "\n",
    "print (\" x0 limits: \")\n",
    "print (np.min(x0vals))\n",
    "print (np.max(x0vals))\n",
    "print ()\n",
    "\n",
    "print (\" x1 limits: \")\n",
    "print (np.min(x1vals))\n",
    "print (np.max(x1vals))\n",
    "print ()\n",
    "\n",
    "print (\" c limits: \")\n",
    "print (np.min(cvals))\n",
    "print (np.max(cvals))\n",
    "print ()\n",
    "\n",
    "print (\" mB limits: \")\n",
    "print (np.min(mBvals))\n",
    "print (np.max(mBvals))\n",
    "print ()\n",
    "\"\"\""
   ]
  },
  {
   "cell_type": "code",
   "execution_count": 192,
   "metadata": {},
   "outputs": [],
   "source": [
    "params = []\n",
    "for j, z in enumerate(zvals):\n",
    "    mabs = np.random.normal(-19.3, 0.3)\n",
    "    model.set(z=z)\n",
    "    model.set_source_peakabsmag(mabs, 'bessellb', 'ab')\n",
    "    x0 = model.get('x0')\n",
    "    p = p = {'z':z, 't0':t0vals[j], 'x0':x0, 'x1': x1vals[j], 'c': cvals[j]}\n",
    "    params.append(p)\n",
    "\n",
    "#for p in params:\n",
    "#    print (p)"
   ]
  },
  {
   "cell_type": "code",
   "execution_count": 193,
   "metadata": {},
   "outputs": [
    {
     "name": "stdout",
     "output_type": "stream",
     "text": [
      "   time   band      flux      fluxerr  zp  zpsys\n",
      "--------- ---- -------------- ------- ---- -----\n",
      " 56176.19 desg  87.4753569038  191.27 30.0    ab\n",
      "56188.254 desr -39.5201657962  147.62 30.0    ab\n",
      "56207.172 desi  60.1505477473   160.4 30.0    ab\n"
     ]
    }
   ],
   "source": [
    "lcs = sncosmo.realize_lcs(obs, model, params)\n",
    "print (lcs[0])"
   ]
  },
  {
   "cell_type": "code",
   "execution_count": 183,
   "metadata": {},
   "outputs": [],
   "source": [
    "from astropy.cosmology import WMAP9 as cosmo\n",
    "import astropy.units as u\n",
    "\n",
    "def mu(x0, x1, c,z):\n",
    "    alpha = 0.140\n",
    "    beta  = 3.139\n",
    "    mB    = 10.635 - (2.5 * np.log(x0))\n",
    "    dist  = cosmo.comoving_distance(lcs[0].meta['z'])\n",
    "    dist *= (1./u.Mpc)\n",
    "    MB    = -19.05\n",
    "    val   = mB - (MB - (alpha * x1) + (beta * c))\n",
    "    return val"
   ]
  },
  {
   "cell_type": "code",
   "execution_count": 184,
   "metadata": {},
   "outputs": [],
   "source": [
    "vals = np.zeros(length)\n",
    "zs   = np.zeros(length)\n",
    "x0s  = np.zeros(length)\n",
    "x1s  = np.zeros(length)\n",
    "cs   = np.zeros(length)\n",
    "\n",
    "for i in range(length):\n",
    "    vals[i] = mu(lcs[i].meta['x0'], lcs[i].meta['x1'], lcs[i].meta['c'], lcs[i].meta['z'])\n",
    "    zs[i]   = lcs[i].meta['z']\n",
    "    x0s[i]  = lcs[i].meta['x0']\n",
    "    x1s[i]  = lcs[i].meta['x1']\n",
    "    cs[i]   = lcs[i].meta['c']"
   ]
  },
  {
   "cell_type": "code",
   "execution_count": 185,
   "metadata": {},
   "outputs": [
    {
     "data": {
      "text/plain": [
       "0.033126589233066606"
      ]
     },
     "execution_count": 185,
     "metadata": {},
     "output_type": "execute_result"
    }
   ],
   "source": [
    "np.min(zs)"
   ]
  },
  {
   "cell_type": "markdown",
   "metadata": {},
   "source": [
    "### Distance modulus from theory"
   ]
  },
  {
   "cell_type": "code",
   "execution_count": 194,
   "metadata": {},
   "outputs": [],
   "source": [
    "from   scipy              import interpolate, integrate\n",
    "\n",
    "h  = 0.6726\n",
    "H0 = h*100.\n",
    "\n",
    "def chi_integrand(zprime):\n",
    "    '''\n",
    "    Parameters\n",
    "    -------------------------------------------------------------------------------------------------\n",
    "        zprime: redshift values\n",
    "        \n",
    "    Return\n",
    "    -------------------------------------------------------------------------------------------------\n",
    "        Integrand of integral part in luminosity distance in Equation (3) in Kosowsky 2011.\n",
    "        d(zprime)/ E(zprime)\n",
    "    '''\n",
    "\n",
    "    omegam = 0.316\n",
    "    omegav = 0.684\n",
    "    val    = 1./(np.sqrt(omegam*(1+zprime)**3 + omegav))\n",
    "    return val\n",
    "\n",
    "def chi_integral(z):\n",
    "    '''\n",
    "    Parameters\n",
    "    -------------------------------------------------------------------------------------------------\n",
    "        z: redshift\n",
    "        \n",
    "    Return\n",
    "    -------------------------------------------------------------------------------------------------\n",
    "        Integral of the integral in luminsoty distance in Equation (3) in Kosowsky 2011.\n",
    "        d(zprime)/ E(zprime) integrated from 0 to z\n",
    "    '''\n",
    "    \n",
    "    c       = 3e5 #km/s\n",
    "    val,err = integrate.quad(chi_integrand,0,z)\n",
    "    return val\n",
    "\n",
    "def mu_kosowsky(z):\n",
    "    '''\n",
    "    Parameters\n",
    "    -------------------------------------------------------------------------------------------------\n",
    "        z: redshift\n",
    "        \n",
    "    Return\n",
    "    -------------------------------------------------------------------------------------------------\n",
    "        Distance modulus (mu) obtained from Equation (2) in Kosowsky\n",
    "    '''\n",
    "    \n",
    "    c   = 3e5\n",
    "    righthandside = (1+z) * (c/H0) * chi_integral(z)\n",
    "    val = 2.17 * np.log(righthandside) + 25.\n",
    "    return val"
   ]
  },
  {
   "cell_type": "markdown",
   "metadata": {},
   "source": [
    "#### 3rd polynomial fit to points"
   ]
  },
  {
   "cell_type": "code",
   "execution_count": null,
   "metadata": {},
   "outputs": [],
   "source": [
    "z = np.polyfit(np.sort(zs), vals[Z], 3)\n",
    "p = np.poly1d(z)"
   ]
  },
  {
   "cell_type": "markdown",
   "metadata": {},
   "source": [
    "#### Plotting mu(z) vs z from SNTable "
   ]
  },
  {
   "cell_type": "code",
   "execution_count": 191,
   "metadata": {},
   "outputs": [
    {
     "data": {
      "text/plain": [
       "<matplotlib.legend.Legend at 0x2aaaead865c0>"
      ]
     },
     "execution_count": 191,
     "metadata": {},
     "output_type": "execute_result"
    },
    {
     "data": {
      "image/png": "[encoded data removed]",
      "text/plain": [
       "<matplotlib.figure.Figure at 0x2aaaf740a470>"
      ]
     },
     "metadata": {},
     "output_type": "display_data"
    }
   ],
   "source": [
    "plt.figure(4, figsize=(10,8))\n",
    "\n",
    "indx = np.arange(0,length)\n",
    "Z = [x for _,x in sorted(zip(zvals,indx))]\n",
    "\n",
    "# SNTable points fitted\n",
    "plt.plot(np.sort(zs), vals[Z], \"b\", label=\"\")\n",
    "plt.plot(zs, vals, \"bo\", alpha=0.4, markeredgecolor=\"black\", label=\"Fitted light-curve\")\n",
    "\n",
    "plt.xlabel(\"$z$\", fontsize=20)\n",
    "plt.ylabel(\"$\\mu(z)$\", fontsize=20)\n",
    "plt.suptitle(\"Number of SNe = $10^4$, zmax=0.7,area=1 sq deg, time = 56175 - 56225\")\n",
    "\n",
    "# polynomial fit curve\n",
    "plt.plot(np.sort(zs), p(np.sort(zs)), color=\"orange\", lw=2, label=\"3rd order polynomial fit\")\n",
    "\n",
    "# theory curve\n",
    "mu_kosowsky_vec = np.vectorize(mu_kosowsky)\n",
    "plt.plot(np.sort(zs), mu_kosowsky_vec(np.sort(zs)), color=\"red\", lw=2, label=\"$\\mu(z)$ from theory\")\n",
    "plt.legend(loc='best')\n",
    "\n",
    "#plt.savefig(\"mu_z_sne_params_SNTable.png\", dpi=800)\n"
   ]
  },
  {
   "cell_type": "code",
   "execution_count": null,
   "metadata": {},
   "outputs": [],
   "source": []
  }
 ],
 "metadata": {
  "kernelspec": {
   "display_name": "lsst",
   "language": "python",
   "name": "lsst"
  },
  "language_info": {
   "codemirror_mode": {
    "name": "ipython",
    "version": 3
   },
   "file_extension": ".py",
   "mimetype": "text/x-python",
   "name": "python",
   "nbconvert_exporter": "python",
   "pygments_lexer": "ipython3",
   "version": "3.6.3"
  }
 },
 "nbformat": 4,
 "nbformat_minor": 2
}
