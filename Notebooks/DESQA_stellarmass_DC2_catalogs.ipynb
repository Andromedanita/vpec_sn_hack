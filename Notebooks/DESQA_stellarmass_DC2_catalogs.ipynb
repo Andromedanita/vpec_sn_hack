{
 "cells": [
  {
   "cell_type": "code",
   "execution_count": 1,
   "metadata": {},
   "outputs": [],
   "source": [
    "import sys\n",
    "import subprocess\n",
    "import numpy as np\n",
    "import matplotlib.pylab as plt\n",
    "%matplotlib inline"
   ]
  },
  {
   "cell_type": "code",
   "execution_count": 2,
   "metadata": {},
   "outputs": [],
   "source": [
    "import GCRCatalogs"
   ]
  },
  {
   "cell_type": "code",
   "execution_count": 45,
   "metadata": {},
   "outputs": [],
   "source": [
    "import astropy.units as u\n",
    "from astropy.cosmology import Planck13, z_at_value\n",
    "from astropy.cosmology import Planck15 as cosmo\n",
    "from astropy.cosmology import FlatLambdaCDM\n",
    "\n",
    "DC2 = FlatLambdaCDM(H0=71, Om0=0.265, Ob0=0.0448)"
   ]
  },
  {
   "cell_type": "code",
   "execution_count": 51,
   "metadata": {},
   "outputs": [],
   "source": [
    "def get_smass(catalog_name):\n",
    "    \n",
    "    '''\n",
    "    Parameter\n",
    "    -----------\n",
    "    catalog_name = version of the catalogue to use\n",
    "    \n",
    "    Return\n",
    "    -----------\n",
    "    - log10 of totall stellar mass with no cuts applied\n",
    "    - log10 of stellar mass in protoDCa2 catalogue with CMASS color and magnitude cuts applied\n",
    "    - redshift\n",
    "    '''\n",
    "    \n",
    "    gc         = GCRCatalogs.load_catalog(catalog_name)\n",
    "    data       = gc.get_quantities(['stellar_mass', 'mag_true_i_lsst', 'mag_true_r_lsst', 'mag_true_g_lsst', 'x','y','z'])\n",
    "    smass      = data['stellar_mass']\n",
    "    x, y, z    = data['x'], data['y'], data['z']\n",
    "    log10smass = np.log10(smass)\n",
    "    \n",
    "    # calculating the reshifts\n",
    "    com_dist = np.sqrt((x**2) + (y**2)+(z**2))\n",
    "    \n",
    "    min_indx = np.where(com_dist == np.min(com_dist ))[0][0]\n",
    "    max_indx = np.where(com_dist == np.max(com_dist ))[0][0]\n",
    "\n",
    "    zmin = z_at_value(DC2.comoving_distance, com_dist[min_indx] * u.Mpc)\n",
    "    zmax = z_at_value(DC2.comoving_distance, com_dist[max_indx] * u.Mpc)\n",
    "\n",
    "    zgrid     = np.logspace(np.log10(zmin), np.log10(zmax), 50)\n",
    "    cosmology = DC2\n",
    "    CDgrid = cosmology.comoving_distance(zgrid)*DC2.H0/100.\n",
    "    #  use interpolation to get redshifts for satellites only\n",
    "    new_redshifts = np.interp(com_dist, CDgrid, zgrid)\n",
    "    \n",
    "    \n",
    "    print \n",
    "    print (\"minimum total = \", np.min(log10smass))\n",
    "    print (\"maximum total = \", np.max(log10smass))\n",
    "    print\n",
    "    \n",
    "    r = data['mag_true_r_lsst']\n",
    "    i = data['mag_true_i_lsst']\n",
    "    g = data['mag_true_g_lsst']\n",
    "    \n",
    "    # applying CMASS cuts\n",
    "    dperp = (r-i) - (g-r)/8.\n",
    "    cond1 = dperp > 0.55\n",
    "    cond2 = i < (19.86 + 1.6*(dperp - 0.8))\n",
    "    cond3 = (i < 19.9) & (i > 17.5)\n",
    "    cond4 = (r-i) < 2\n",
    "    cond5 = i < 21.5\n",
    "    \n",
    "    #cond6 = new_redshifts < 0.2\n",
    "    \n",
    "    smass_cmass_cut = smass[np.where( (cond1==True) & (cond2==True) & (cond3==True) & (cond4==True) & (cond5==True))]\n",
    "    \n",
    "    print \n",
    "    print (\"minimum cmass-cut = \", np.min(np.log10(smass_cmass_cut)))\n",
    "    print (\"maximum cmass-cut = \", np.max(np.log10(smass_cmass_cut)))\n",
    "    print\n",
    "    \n",
    "    return np.log10(smass), np.log10(smass_cmass_cut), new_redshifts"
   ]
  },
  {
   "cell_type": "code",
   "execution_count": 52,
   "metadata": {},
   "outputs": [
    {
     "name": "stdout",
     "output_type": "stream",
     "text": [
      "minimum total =  3.84628\n",
      "maximum total =  12.637\n",
      "minimum cmass-cut =  9.67139\n",
      "maximum cmass-cut =  12.637\n",
      "minimum total =  3.57428\n",
      "maximum total =  12.661\n",
      "minimum cmass-cut =  9.52519\n",
      "maximum cmass-cut =  12.661\n"
     ]
    }
   ],
   "source": [
    "log_smass_tot_test, log_smass_cmass_test, redshift_test = get_smass('cosmoDC2_v0.1_test')\n",
    "log_smass_tot_actual, log_smass_cmass_actual, redshift_actual = get_smass('cosmoDC2_v0.1')"
   ]
  },
  {
   "cell_type": "code",
   "execution_count": 61,
   "metadata": {},
   "outputs": [
    {
     "data": {
      "image/png": "[encoded data removed]",
      "text/plain": [
       "<matplotlib.figure.Figure at 0x2b110763d748>"
      ]
     },
     "metadata": {},
     "output_type": "display_data"
    }
   ],
   "source": [
    "fig, ax = plt.subplots()\n",
    "_ = ax.hist(redshift_test, bins=np.arange(0., 1.01, 0.01), normed=True, histtype='step', label=\"DC2 test\")\n",
    "_ = ax.hist(redshift_actual, bins=np.arange(0., 1.01, 0.01), normed=True, histtype='step', label=\"DC2 actual\")\n",
    "plt.legend(loc='upper left')\n",
    "plt.xlabel(\"redshift\")\n",
    "plt.savefig(\"redshifts_test_actual_DC2.png\")"
   ]
  },
  {
   "cell_type": "code",
   "execution_count": 48,
   "metadata": {},
   "outputs": [
    {
     "data": {
      "image/png": "[encoded data removed]",
      "text/plain": [
       "<matplotlib.figure.Figure at 0x2b1106d5bdd8>"
      ]
     },
     "metadata": {},
     "output_type": "display_data"
    }
   ],
   "source": [
    "plt.figure(1, figsize=(12,6))\n",
    "plt.hist(log_smass_cmass_test, bins=np.linspace(9,13,50), color=\"teal\", linewidth=2, histtype = \"step\", normed = \"True\", label=\"cmass-like DC2_test\")\n",
    "plt.hist(log_smass_cmass_actual, bins=np.linspace(9,13,50), color=\"magenta\", linewidth=2, histtype = \"step\", normed = \"True\", label=\"cmass-like DC2\")\n",
    "plt.legend(loc='best')\n",
    "plt.xlabel(r\"$\\log(M_{\\star})$\", fontsize=20)\n",
    "plt.ylabel(\"N\", fontsize=20)\n",
    "plt.savefig(\"Mstellar_DC2test_DC2_comparison_cmasslike.png\")"
   ]
  }
 ],
 "metadata": {
  "kernelspec": {
   "display_name": "Python [default]",
   "language": "python",
   "name": "python3"
  },
  "language_info": {
   "codemirror_mode": {
    "name": "ipython",
    "version": 3
   },
   "file_extension": ".py",
   "mimetype": "text/x-python",
   "name": "python",
   "nbconvert_exporter": "python",
   "pygments_lexer": "ipython3",
   "version": "3.6.1"
  }
 },
 "nbformat": 4,
 "nbformat_minor": 2
}
