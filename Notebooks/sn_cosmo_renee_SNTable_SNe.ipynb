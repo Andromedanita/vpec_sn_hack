{
 "cells": [
  {
   "cell_type": "code",
   "execution_count": 1,
   "metadata": {},
   "outputs": [],
   "source": [
    "import sncosmo\n",
    "from   astropy.table import Table\n",
    "import numpy as np\n",
    "import matplotlib.pylab as plt\n",
    "\n",
    "obs = Table({'time' : [56176.19, 56188.254, 56207.172],\n",
    "             'band' : ['desg', 'desr', 'desi'],\n",
    "             'gain' : [1., 1., 1.],\n",
    "             'skynoise': [191.27, 147.62, 160.40],\n",
    "             'zp'   : [30., 30., 30.],\n",
    "             'zpsys':['ab', 'ab', 'ab']})\n",
    "\n",
    "model  = sncosmo.Model(source='salt2')"
   ]
  },
  {
   "cell_type": "markdown",
   "metadata": {},
   "source": [
    "### Reading SNTable in"
   ]
  },
  {
   "cell_type": "code",
   "execution_count": 2,
   "metadata": {},
   "outputs": [],
   "source": [
    "filename = \"/global/homes/a/anitab/DC2_run1p1_TransientDocs/Notebooks/Hosted_SN_table.csv\"\n",
    "from pandas import read_csv"
   ]
  },
  {
   "cell_type": "code",
   "execution_count": 3,
   "metadata": {},
   "outputs": [],
   "source": [
    "vvv  = read_csv(filename)\n",
    "data = vvv['galaxy_id c mB t0 x0 x1 z random_Hosting rand_host zbin \"Unnamed: 0\" diskMassStellar morphology/diskHalfLightRadiusArcsec morphology/diskMinorAxisArcsec morphology/positionAngle morphology/spheroidHalfLightRadiusArcsec morphology/spheroidMinorAxisArcsec size_bulge_true size_disk_true totalMassStellar uniqueId raJ2000_gal decJ2000_gal z zbin_gals snid']"
   ]
  },
  {
   "cell_type": "code",
   "execution_count": 4,
   "metadata": {},
   "outputs": [
    {
     "data": {
      "text/plain": [
       "Index(['galaxy_id c mB t0 x0 x1 z random_Hosting rand_host zbin \"Unnamed: 0\" diskMassStellar morphology/diskHalfLightRadiusArcsec morphology/diskMinorAxisArcsec morphology/positionAngle morphology/spheroidHalfLightRadiusArcsec morphology/spheroidMinorAxisArcsec size_bulge_true size_disk_true totalMassStellar uniqueId raJ2000_gal decJ2000_gal z zbin_gals snid'], dtype='object')"
      ]
     },
     "execution_count": 4,
     "metadata": {},
     "output_type": "execute_result"
    }
   ],
   "source": [
    "vvv.columns"
   ]
  },
  {
   "cell_type": "code",
   "execution_count": 5,
   "metadata": {},
   "outputs": [],
   "source": [
    "length = 1000 #len(data)\n",
    "zvals  = np.zeros(length) \n",
    "x0vals = np.zeros(length)\n",
    "x1vals = np.zeros(length)\n",
    "cvals  = np.zeros(length)\n",
    "mBvals = np.zeros(length)\n",
    "t0vals = np.zeros(length)\n",
    "smass  = np.zeros(length)\n",
    "\n",
    "for i in range(length):\n",
    "    zvals[i]  = data[i].split()[6]\n",
    "    x0vals[i] = data[i].split()[4]\n",
    "    x1vals[i] = data[i].split()[5]\n",
    "    cvals[i]  = data[i].split()[1]\n",
    "    mBvals[i] = data[i].split()[2]\n",
    "    t0vals[i] = data[i].split()[3]\n",
    "    smass[i]  = data[i].split()[20]"
   ]
  },
  {
   "cell_type": "code",
   "execution_count": null,
   "metadata": {},
   "outputs": [],
   "source": [
    "\"\"\"\n",
    "print (\" z limits: \")\n",
    "print (np.min(zvals))\n",
    "print (np.max(zvals))\n",
    "print ()\n",
    "\n",
    "print (\" x0 limits: \")\n",
    "print (np.min(x0vals))\n",
    "print (np.max(x0vals))\n",
    "print ()\n",
    "\n",
    "print (\" x1 limits: \")\n",
    "print (np.min(x1vals))\n",
    "print (np.max(x1vals))\n",
    "print ()\n",
    "\n",
    "print (\" c limits: \")\n",
    "print (np.min(cvals))\n",
    "print (np.max(cvals))\n",
    "print ()\n",
    "\n",
    "print (\" mB limits: \")\n",
    "print (np.min(mBvals))\n",
    "print (np.max(mBvals))\n",
    "print ()\n",
    "\"\"\""
   ]
  },
  {
   "cell_type": "code",
   "execution_count": 6,
   "metadata": {},
   "outputs": [],
   "source": [
    "params = []\n",
    "for j, z in enumerate(zvals):\n",
    "    mabs = mBvals[j] #np.random.normal(-19.3, 0.3)\n",
    "    model.set(z=z)\n",
    "    model.set_source_peakabsmag(mabs, 'bessellb', 'ab')\n",
    "    x0 = model.get('x0')\n",
    "    p = {'z':z, 't0':t0vals[j], 'x0':x0, 'x1': x1vals[j], 'c': cvals[j]}\n",
    "    params.append(p)\n",
    "\n",
    "#for p in params:\n",
    "#    print (p)"
   ]
  },
  {
   "cell_type": "code",
   "execution_count": 7,
   "metadata": {},
   "outputs": [
    {
     "name": "stdout",
     "output_type": "stream",
     "text": [
      "   time   band      flux      fluxerr  zp  zpsys\n",
      "--------- ---- -------------- ------- ---- -----\n",
      " 56176.19 desg -37.7169472029  191.27 30.0    ab\n",
      "56188.254 desr -52.5674032656  147.62 30.0    ab\n",
      "56207.172 desi  58.1523414362   160.4 30.0    ab\n"
     ]
    }
   ],
   "source": [
    "lcs = sncosmo.realize_lcs(obs, model, params)\n",
    "print (lcs[0])"
   ]
  },
  {
   "cell_type": "code",
   "execution_count": 8,
   "metadata": {},
   "outputs": [],
   "source": [
    "from   astropy.cosmology import WMAP9 as cosmo\n",
    "import astropy.units as u\n",
    "\n",
    "def mu2(x0, x1, c,z, smassval):\n",
    "    alpha  = 0.141\n",
    "    beta   = 3.101\n",
    "    DeltaM = -0.07\n",
    "    mB     = 10.635 - (2.5 * np.log10(x0))\n",
    "    dist   = cosmo.comoving_distance(lcs[0].meta['z'])\n",
    "    dist  *= (1./u.Mpc)\n",
    "    if smassval < 1e10:\n",
    "        MB = -19.05\n",
    "    else:\n",
    "        MB = -19.05 + DeltaM\n",
    "    val   = mB - (MB - (alpha * x1) + (beta * c))\n",
    "    return val"
   ]
  },
  {
   "cell_type": "markdown",
   "metadata": {},
   "source": [
    "Adding the condition on stellar mass did not change the distance modulus by anything noticable since the difference between MB value when considering stellar mass of the host galaxy or not was very small so it was expected, unfortunately!"
   ]
  },
  {
   "cell_type": "code",
   "execution_count": 9,
   "metadata": {},
   "outputs": [],
   "source": [
    "vals = np.zeros(length)\n",
    "zs   = np.zeros(length)\n",
    "x0s  = np.zeros(length)\n",
    "x1s  = np.zeros(length)\n",
    "cs   = np.zeros(length)\n",
    "\n",
    "mu = np.vectorize(mu2)\n",
    "\n",
    "for i in range(length):\n",
    "    vals[i] = mu(lcs[i].meta['x0'], lcs[i].meta['x1'], lcs[i].meta['c'], lcs[i].meta['z'], smass[i])\n",
    "    zs[i]   = lcs[i].meta['z']\n",
    "    x0s[i]  = lcs[i].meta['x0']\n",
    "    x1s[i]  = lcs[i].meta['x1']\n",
    "    cs[i]   = lcs[i].meta['c']"
   ]
  },
  {
   "cell_type": "code",
   "execution_count": 10,
   "metadata": {},
   "outputs": [
    {
     "data": {
      "text/plain": [
       "0.033126589233066606"
      ]
     },
     "execution_count": 10,
     "metadata": {},
     "output_type": "execute_result"
    }
   ],
   "source": [
    "np.min(zs)"
   ]
  },
  {
   "cell_type": "markdown",
   "metadata": {},
   "source": [
    "### Distance modulus from theory"
   ]
  },
  {
   "cell_type": "code",
   "execution_count": 11,
   "metadata": {},
   "outputs": [],
   "source": [
    "from   scipy              import interpolate, integrate\n",
    "\n",
    "h  = 0.6726\n",
    "H0 = h*100.\n",
    "\n",
    "def chi_integrand(zprime):\n",
    "    '''\n",
    "    Parameters\n",
    "    -------------------------------------------------------------------------------------------------\n",
    "        zprime: redshift values\n",
    "        \n",
    "    Return\n",
    "    -------------------------------------------------------------------------------------------------\n",
    "        Integrand of integral part in luminosity distance in Equation (3) in Kosowsky 2011.\n",
    "        d(zprime)/ E(zprime)\n",
    "    '''\n",
    "\n",
    "    omegam = 0.316\n",
    "    omegav = 0.684\n",
    "    val    = 1./(np.sqrt(omegam*(1+zprime)**3 + omegav))\n",
    "    return val\n",
    "\n",
    "def chi_integral(z):\n",
    "    '''\n",
    "    Parameters\n",
    "    -------------------------------------------------------------------------------------------------\n",
    "        z: redshift\n",
    "        \n",
    "    Return\n",
    "    -------------------------------------------------------------------------------------------------\n",
    "        Integral of the integral in luminsoty distance in Equation (3) in Kosowsky 2011.\n",
    "        d(zprime)/ E(zprime) integrated from 0 to z\n",
    "    '''\n",
    "    \n",
    "    c       = 3e5 #km/s\n",
    "    val,err = integrate.quad(chi_integrand,0,z)\n",
    "    return val\n",
    "\n",
    "def mu_kosowsky(z):\n",
    "    '''\n",
    "    Parameters\n",
    "    -------------------------------------------------------------------------------------------------\n",
    "        z: redshift\n",
    "        \n",
    "    Return\n",
    "    -------------------------------------------------------------------------------------------------\n",
    "        Distance modulus (mu) obtained from Equation (2) in Kosowsky\n",
    "    '''\n",
    "    \n",
    "    c   = 3e5\n",
    "    righthandside = (1+z) * (c/H0) * chi_integral(z)\n",
    "    val = 2.17 * np.log(righthandside) + 25.\n",
    "    return val"
   ]
  },
  {
   "cell_type": "markdown",
   "metadata": {},
   "source": [
    "#### 3rd polynomial fit to points"
   ]
  },
  {
   "cell_type": "code",
   "execution_count": 12,
   "metadata": {},
   "outputs": [],
   "source": [
    "indx = np.arange(0,length)\n",
    "Z = [x for _,x in sorted(zip(zvals,indx))]\n",
    "\n",
    "z = np.polyfit(np.sort(zs), vals[Z], 3)\n",
    "p = np.poly1d(z)"
   ]
  },
  {
   "cell_type": "markdown",
   "metadata": {},
   "source": [
    "#### Plotting mu(z) vs z from SNTable "
   ]
  },
  {
   "cell_type": "code",
   "execution_count": 13,
   "metadata": {},
   "outputs": [
    {
     "data": {
      "text/plain": [
       "[<matplotlib.lines.Line2D at 0x2aaae8c27710>]"
      ]
     },
     "execution_count": 13,
     "metadata": {},
     "output_type": "execute_result"
    },
    {
     "data": {
      "image/png": "[encoded data removed]",
      "text/plain": [
       "<matplotlib.figure.Figure at 0x2aaae8b0a860>"
      ]
     },
     "metadata": {},
     "output_type": "display_data"
    }
   ],
   "source": [
    "plt.figure(4, figsize=(10,14))\n",
    "\n",
    "\n",
    "plt.subplot(211)\n",
    "# SNTable points fitted\n",
    "plt.plot(np.sort(zs), vals[Z], \"b\", label=\"\")\n",
    "plt.plot(zs, vals, \"bo\", alpha=0.4, markeredgecolor=\"black\", label=\"Fitted light-curve\")\n",
    "\n",
    "plt.xlabel(\"$z$\", fontsize=20)\n",
    "plt.ylabel(\"$\\mu(z)$\", fontsize=20)\n",
    "plt.suptitle(\"Number of SNe = $10^4$, zmax=0.7,area=1 sq deg, time = 56175 - 56225\")\n",
    "\n",
    "# polynomial fit curve\n",
    "plt.plot(np.sort(zs), p(np.sort(zs)), color=\"orange\", lw=2, label=\"3rd order polynomial fit\")\n",
    "\n",
    "# theory curve\n",
    "mu_kosowsky_vec = np.vectorize(mu_kosowsky)\n",
    "plt.plot(np.sort(zs), mu_kosowsky_vec(np.sort(zs)), color=\"red\", lw=2, label=\"$\\mu(z)$ from theory\")\n",
    "plt.legend(loc='best')\n",
    "\n",
    "#plt.savefig(\"mu_z_sne_params_SNTable.png\", dpi=800)\n",
    "\n",
    "plt.subplot(212)\n",
    "plt.plot(np.sort(zs), vals[Z] -  mu_kosowsky_vec(np.sort(zs)), \"bo\", markeredgecolor=\"black\", alpha=0.4)"
   ]
  },
  {
   "cell_type": "markdown",
   "metadata": {},
   "source": [
    "#### Checking $\\mu(z)$ values to compare with JLA"
   ]
  },
  {
   "cell_type": "code",
   "execution_count": null,
   "metadata": {},
   "outputs": [],
   "source": [
    "print (\"mu(z=0.1) = \", mu_kosowsky(0.1))\n",
    "print (\"mu(z=0.2) = \", mu_kosowsky(0.2))\n",
    "print (\"mu(z=0.4) = \", mu_kosowsky(0.4))\n",
    "print (\"mu(z=0.6) = \", mu_kosowsky(0.6))"
   ]
  },
  {
   "cell_type": "markdown",
   "metadata": {},
   "source": [
    "Comparing this with values from JLA (http://supernovae.in2p3.fr/sdss_snls_jla/ReadMe.html) shows that my distance modulus plot is in agreement with actual supernovae data so I am convinced that this function works fine!"
   ]
  },
  {
   "cell_type": "code",
   "execution_count": 14,
   "metadata": {},
   "outputs": [],
   "source": [
    "data1 = lcs"
   ]
  },
  {
   "cell_type": "code",
   "execution_count": 15,
   "metadata": {},
   "outputs": [
    {
     "data": {
      "text/html": [
       "&lt;Table length=3&gt;\n",
       "<table id=\"table46913527641816\" class=\"table-striped table-bordered table-condensed\">\n",
       "<thead><tr><th>time</th><th>band</th><th>flux</th><th>fluxerr</th><th>zp</th><th>zpsys</th></tr></thead>\n",
       "<thead><tr><th>float64</th><th>str4</th><th>float64</th><th>float64</th><th>float64</th><th>str2</th></tr></thead>\n",
       "<tr><td>56176.19</td><td>desg</td><td>-37.7169472029</td><td>191.27</td><td>30.0</td><td>ab</td></tr>\n",
       "<tr><td>56188.254</td><td>desr</td><td>-52.5674032656</td><td>147.62</td><td>30.0</td><td>ab</td></tr>\n",
       "<tr><td>56207.172</td><td>desi</td><td>58.1523414362</td><td>160.4</td><td>30.0</td><td>ab</td></tr>\n",
       "</table>"
      ],
      "text/plain": [
       "<Table length=3>\n",
       "   time   band      flux      fluxerr    zp   zpsys\n",
       " float64  str4    float64     float64 float64  str2\n",
       "--------- ---- -------------- ------- ------- -----\n",
       " 56176.19 desg -37.7169472029  191.27    30.0    ab\n",
       "56188.254 desr -52.5674032656  147.62    30.0    ab\n",
       "56207.172 desi  58.1523414362   160.4    30.0    ab"
      ]
     },
     "execution_count": 15,
     "metadata": {},
     "output_type": "execute_result"
    }
   ],
   "source": [
    "data1[0]"
   ]
  },
  {
   "cell_type": "code",
   "execution_count": null,
   "metadata": {},
   "outputs": [],
   "source": [
    "#from astropy.io import ascii\n",
    "#ascii.write(data1, 'blah.dat', names=['time', 'band', 'flux', 'fluxerr','zp', 'zpsys'])"
   ]
  },
  {
   "cell_type": "code",
   "execution_count": 16,
   "metadata": {},
   "outputs": [
    {
     "name": "stdout",
     "output_type": "stream",
     "text": [
      "number =  2\n",
      "number =  8\n",
      "number =  10\n"
     ]
    },
    {
     "name": "stderr",
     "output_type": "stream",
     "text": [
      "/global/common/software/lsst/cori-haswell-gcc/stack/w.2018.13_sims2.7.0/stack/miniconda3-4.3.21-10a4fa6/Linux64/sncosmo/12.0-1-g5e70e90+4/lib/python/sncosmo-1.3.0-py3.6-linux-x86_64.egg/sncosmo/models.py:670: RuntimeWarning: overflow encountered in power\n",
      "  self._model['clbase'](wave)**self._parameters[2])\n",
      "/global/common/software/lsst/cori-haswell-gcc/stack/w.2018.13_sims2.7.0/stack/miniconda3-4.3.21-10a4fa6/Linux64/sncosmo/12.0-1-g5e70e90+4/lib/python/sncosmo-1.3.0-py3.6-linux-x86_64.egg/sncosmo/models.py:136: RuntimeWarning: invalid value encountered in multiply\n",
      "  fsum = np.sum(f * b.trans * b.wave * b.dwave, axis=1) / HC_ERG_AA\n",
      "/global/common/software/lsst/cori-haswell-gcc/stack/w.2018.13_sims2.7.0/stack/miniconda3-4.3.21-10a4fa6/Linux64/sncosmo/12.0-1-g5e70e90+4/lib/python/sncosmo-1.3.0-py3.6-linux-x86_64.egg/sncosmo/fitting.py:428: RuntimeWarning: fcn returns Nan\n",
      "fcn is called with following arguments:\n",
      "     z = +0.283534\n",
      "    t0 = +56224.895060\n",
      "    x0 = +343064766.296997\n",
      "    x1 = +31.143948\n",
      "     c = -1327.045375\n",
      "\n",
      "  d, l = m.migrad(ncall=maxcall)\n"
     ]
    },
    {
     "name": "stdout",
     "output_type": "stream",
     "text": [
      "number =  13\n"
     ]
    },
    {
     "name": "stderr",
     "output_type": "stream",
     "text": [
      "/global/common/software/lsst/cori-haswell-gcc/stack/w.2018.13_sims2.7.0/stack/miniconda3-4.3.21-10a4fa6/Linux64/sncosmo/12.0-1-g5e70e90+4/lib/python/sncosmo-1.3.0-py3.6-linux-x86_64.egg/sncosmo/fitting.py:428: RuntimeWarning: fcn returns Nan\n",
      "fcn is called with following arguments:\n",
      "     z = +0.283534\n",
      "    t0 = +56115.625365\n",
      "    x0 = +2490680805.310750\n",
      "    x1 = +729.423260\n",
      "     c = -32483.095340\n",
      "\n",
      "  d, l = m.migrad(ncall=maxcall)\n"
     ]
    },
    {
     "name": "stdout",
     "output_type": "stream",
     "text": [
      "number =  19\n",
      "number =  24\n",
      "number =  27\n",
      "number =  30\n",
      "number =  33\n",
      "number =  37\n"
     ]
    },
    {
     "name": "stderr",
     "output_type": "stream",
     "text": [
      "/global/common/software/lsst/cori-haswell-gcc/stack/w.2018.13_sims2.7.0/stack/miniconda3-4.3.21-10a4fa6/Linux64/sncosmo/12.0-1-g5e70e90+4/lib/python/sncosmo-1.3.0-py3.6-linux-x86_64.egg/sncosmo/fitting.py:428: RuntimeWarning: fcn returns Nan\n",
      "fcn is called with following arguments:\n",
      "     z = +0.283534\n",
      "    t0 = +56115.305219\n",
      "    x0 = +354909757.245260\n",
      "    x1 = -14.554228\n",
      "     c = -231.825137\n",
      "\n",
      "  d, l = m.migrad(ncall=maxcall)\n"
     ]
    },
    {
     "name": "stdout",
     "output_type": "stream",
     "text": [
      "number =  39\n",
      "number =  40\n",
      "number =  46\n",
      "number =  47\n",
      "number =  48\n",
      "number =  50\n",
      "number =  54\n",
      "number =  78\n",
      "number =  79\n",
      "number =  88\n",
      "number =  90\n",
      "number =  92\n",
      "number =  95\n",
      "number =  104\n",
      "number =  119\n",
      "number =  130\n",
      "number =  131\n"
     ]
    },
    {
     "name": "stderr",
     "output_type": "stream",
     "text": [
      "/global/common/software/lsst/cori-haswell-gcc/stack/w.2018.13_sims2.7.0/stack/miniconda3-4.3.21-10a4fa6/Linux64/sncosmo/12.0-1-g5e70e90+4/lib/python/sncosmo-1.3.0-py3.6-linux-x86_64.egg/sncosmo/fitting.py:428: RuntimeWarning: fcn returns Nan\n",
      "fcn is called with following arguments:\n",
      "     z = +0.283534\n",
      "    t0 = +56199.308059\n",
      "    x0 = +7051523536.484541\n",
      "    x1 = -18.002166\n",
      "     c = -20626.367118\n",
      "\n",
      "  d, l = m.migrad(ncall=maxcall)\n"
     ]
    },
    {
     "name": "stdout",
     "output_type": "stream",
     "text": [
      "number =  137\n",
      "number =  138\n"
     ]
    },
    {
     "name": "stderr",
     "output_type": "stream",
     "text": [
      "/global/common/software/lsst/cori-haswell-gcc/stack/w.2018.13_sims2.7.0/stack/miniconda3-4.3.21-10a4fa6/Linux64/sncosmo/12.0-1-g5e70e90+4/lib/python/sncosmo-1.3.0-py3.6-linux-x86_64.egg/sncosmo/fitting.py:428: RuntimeWarning: fcn returns Nan\n",
      "fcn is called with following arguments:\n",
      "     z = +0.283534\n",
      "    t0 = +56123.166360\n",
      "    x0 = +982362633.796454\n",
      "    x1 = -232.120581\n",
      "     c = -1963.792195\n",
      "\n",
      "  d, l = m.migrad(ncall=maxcall)\n"
     ]
    },
    {
     "name": "stdout",
     "output_type": "stream",
     "text": [
      "number =  140\n"
     ]
    },
    {
     "name": "stderr",
     "output_type": "stream",
     "text": [
      "/global/common/software/lsst/cori-haswell-gcc/stack/w.2018.13_sims2.7.0/stack/miniconda3-4.3.21-10a4fa6/Linux64/sncosmo/12.0-1-g5e70e90+4/lib/python/sncosmo-1.3.0-py3.6-linux-x86_64.egg/sncosmo/fitting.py:42: RuntimeWarning: overflow encountered in square\n",
      "  return np.sum(((data['flux'] - mflux) / data['fluxerr'])**2)\n",
      "/global/common/software/lsst/cori-haswell-gcc/stack/w.2018.13_sims2.7.0/stack/miniconda3-4.3.21-10a4fa6/Linux64/sncosmo/12.0-1-g5e70e90+4/lib/python/sncosmo-1.3.0-py3.6-linux-x86_64.egg/sncosmo/fitting.py:428: RuntimeWarning: fcn returns Nan\n",
      "fcn is called with following arguments:\n",
      "     z = +0.283534\n",
      "    t0 = +56219.253892\n",
      "    x0 = -0.011728\n",
      "    x1 = +11.245609\n",
      "     c = -150.138996\n",
      "\n",
      "  d, l = m.migrad(ncall=maxcall)\n"
     ]
    },
    {
     "name": "stdout",
     "output_type": "stream",
     "text": [
      "number =  149\n",
      "number =  152\n",
      "number =  153\n",
      "number =  167\n",
      "number =  180\n",
      "number =  183\n"
     ]
    },
    {
     "name": "stderr",
     "output_type": "stream",
     "text": [
      "/global/common/software/lsst/cori-haswell-gcc/stack/w.2018.13_sims2.7.0/stack/miniconda3-4.3.21-10a4fa6/Linux64/sncosmo/12.0-1-g5e70e90+4/lib/python/sncosmo-1.3.0-py3.6-linux-x86_64.egg/sncosmo/fitting.py:428: RuntimeWarning: fcn returns Nan\n",
      "fcn is called with following arguments:\n",
      "     z = +0.283534\n",
      "    t0 = +56184.819092\n",
      "    x0 = +175795971.007127\n",
      "    x1 = +6.150709\n",
      "     c = -214.067341\n",
      "\n",
      "  d, l = m.migrad(ncall=maxcall)\n",
      "/global/common/software/lsst/cori-haswell-gcc/stack/w.2018.13_sims2.7.0/stack/miniconda3-4.3.21-10a4fa6/Linux64/sncosmo/12.0-1-g5e70e90+4/lib/python/sncosmo-1.3.0-py3.6-linux-x86_64.egg/sncosmo/fitting.py:428: RuntimeWarning: fcn returns Nan\n",
      "fcn is called with following arguments:\n",
      "     z = +0.283534\n",
      "    t0 = +56229.745832\n",
      "    x0 = +4108585.708653\n",
      "    x1 = -12.713978\n",
      "     c = -152.116795\n",
      "\n",
      "  d, l = m.migrad(ncall=maxcall)\n"
     ]
    },
    {
     "name": "stdout",
     "output_type": "stream",
     "text": [
      "number =  187\n",
      "number =  188\n",
      "number =  189\n",
      "number =  190\n"
     ]
    },
    {
     "name": "stderr",
     "output_type": "stream",
     "text": [
      "/global/common/software/lsst/cori-haswell-gcc/stack/w.2018.13_sims2.7.0/stack/miniconda3-4.3.21-10a4fa6/Linux64/sncosmo/12.0-1-g5e70e90+4/lib/python/sncosmo-1.3.0-py3.6-linux-x86_64.egg/sncosmo/fitting.py:428: RuntimeWarning: fcn returns Nan\n",
      "fcn is called with following arguments:\n",
      "     z = +0.283534\n",
      "    t0 = +56163.811548\n",
      "    x0 = +66014496730.965088\n",
      "    x1 = -134.287903\n",
      "     c = +9609.371597\n",
      "\n",
      "  d, l = m.migrad(ncall=maxcall)\n"
     ]
    },
    {
     "name": "stdout",
     "output_type": "stream",
     "text": [
      "number =  196\n",
      "number =  197\n",
      "number =  204\n",
      "number =  227\n",
      "number =  228\n",
      "number =  229\n",
      "number =  232\n"
     ]
    },
    {
     "name": "stderr",
     "output_type": "stream",
     "text": [
      "/global/common/software/lsst/cori-haswell-gcc/stack/w.2018.13_sims2.7.0/stack/miniconda3-4.3.21-10a4fa6/Linux64/sncosmo/12.0-1-g5e70e90+4/lib/python/sncosmo-1.3.0-py3.6-linux-x86_64.egg/sncosmo/fitting.py:428: RuntimeWarning: fcn returns Nan\n",
      "fcn is called with following arguments:\n",
      "     z = +0.283534\n",
      "    t0 = +56112.484345\n",
      "    x0 = +0.000198\n",
      "    x1 = -3187.859832\n",
      "     c = -588.581238\n",
      "\n",
      "  d, l = m.migrad(ncall=maxcall)\n"
     ]
    },
    {
     "name": "stdout",
     "output_type": "stream",
     "text": [
      "number =  237\n",
      "number =  253\n",
      "number =  254\n"
     ]
    },
    {
     "name": "stderr",
     "output_type": "stream",
     "text": [
      "/global/common/software/lsst/cori-haswell-gcc/stack/w.2018.13_sims2.7.0/stack/miniconda3-4.3.21-10a4fa6/Linux64/sncosmo/12.0-1-g5e70e90+4/lib/python/sncosmo-1.3.0-py3.6-linux-x86_64.egg/sncosmo/fitting.py:428: RuntimeWarning: fcn returns Nan\n",
      "fcn is called with following arguments:\n",
      "     z = +0.283534\n",
      "    t0 = +56222.666302\n",
      "    x0 = -3428444521.991115\n",
      "    x1 = +21.211682\n",
      "     c = +4766.783582\n",
      "\n",
      "  d, l = m.migrad(ncall=maxcall)\n"
     ]
    },
    {
     "name": "stdout",
     "output_type": "stream",
     "text": [
      "number =  258\n",
      "number =  260\n"
     ]
    },
    {
     "name": "stderr",
     "output_type": "stream",
     "text": [
      "/global/common/software/lsst/cori-haswell-gcc/stack/w.2018.13_sims2.7.0/stack/miniconda3-4.3.21-10a4fa6/Linux64/sncosmo/12.0-1-g5e70e90+4/lib/python/sncosmo-1.3.0-py3.6-linux-x86_64.egg/sncosmo/fitting.py:428: RuntimeWarning: fcn returns Nan\n",
      "fcn is called with following arguments:\n",
      "     z = +0.283534\n",
      "    t0 = +56200.705345\n",
      "    x0 = +4908417203.961109\n",
      "    x1 = -159.584973\n",
      "     c = +416610.888311\n",
      "\n",
      "  d, l = m.migrad(ncall=maxcall)\n"
     ]
    },
    {
     "name": "stdout",
     "output_type": "stream",
     "text": [
      "number =  262\n",
      "number =  272\n",
      "number =  274\n",
      "number =  279\n"
     ]
    },
    {
     "name": "stderr",
     "output_type": "stream",
     "text": [
      "/global/common/software/lsst/cori-haswell-gcc/stack/w.2018.13_sims2.7.0/stack/miniconda3-4.3.21-10a4fa6/Linux64/sncosmo/12.0-1-g5e70e90+4/lib/python/sncosmo-1.3.0-py3.6-linux-x86_64.egg/sncosmo/fitting.py:428: RuntimeWarning: fcn returns Nan\n",
      "fcn is called with following arguments:\n",
      "     z = +0.283534\n",
      "    t0 = +56227.054212\n",
      "    x0 = -1747454713.955235\n",
      "    x1 = -45.719392\n",
      "     c = -13826.423392\n",
      "\n",
      "  d, l = m.migrad(ncall=maxcall)\n"
     ]
    },
    {
     "name": "stdout",
     "output_type": "stream",
     "text": [
      "number =  284\n",
      "number =  296\n"
     ]
    },
    {
     "name": "stderr",
     "output_type": "stream",
     "text": [
      "/global/common/software/lsst/cori-haswell-gcc/stack/w.2018.13_sims2.7.0/stack/miniconda3-4.3.21-10a4fa6/Linux64/sncosmo/12.0-1-g5e70e90+4/lib/python/sncosmo-1.3.0-py3.6-linux-x86_64.egg/sncosmo/fitting.py:428: RuntimeWarning: fcn returns Nan\n",
      "fcn is called with following arguments:\n",
      "     z = +0.283534\n",
      "    t0 = +56124.682300\n",
      "    x0 = +17676904435.874195\n",
      "    x1 = -101.660072\n",
      "     c = +18085.145612\n",
      "\n",
      "  d, l = m.migrad(ncall=maxcall)\n"
     ]
    },
    {
     "name": "stdout",
     "output_type": "stream",
     "text": [
      "number =  305\n",
      "number =  308\n",
      "number =  312\n",
      "number =  327\n",
      "number =  333\n"
     ]
    },
    {
     "name": "stderr",
     "output_type": "stream",
     "text": [
      "/global/common/software/lsst/cori-haswell-gcc/stack/w.2018.13_sims2.7.0/stack/miniconda3-4.3.21-10a4fa6/Linux64/sncosmo/12.0-1-g5e70e90+4/lib/python/sncosmo-1.3.0-py3.6-linux-x86_64.egg/sncosmo/fitting.py:428: RuntimeWarning: fcn returns Nan\n",
      "fcn is called with following arguments:\n",
      "     z = +0.283534\n",
      "    t0 = +56134.050015\n",
      "    x0 = -35826041104.123642\n",
      "    x1 = -774.108453\n",
      "     c = -19542.393125\n",
      "\n",
      "  d, l = m.migrad(ncall=maxcall)\n"
     ]
    },
    {
     "name": "stdout",
     "output_type": "stream",
     "text": [
      "number =  345\n",
      "number =  350\n",
      "number =  358\n",
      "number =  362\n",
      "number =  369\n",
      "number =  379\n",
      "number =  386\n",
      "number =  387\n"
     ]
    },
    {
     "name": "stderr",
     "output_type": "stream",
     "text": [
      "/global/common/software/lsst/cori-haswell-gcc/stack/w.2018.13_sims2.7.0/stack/miniconda3-4.3.21-10a4fa6/Linux64/sncosmo/12.0-1-g5e70e90+4/lib/python/sncosmo-1.3.0-py3.6-linux-x86_64.egg/sncosmo/fitting.py:428: RuntimeWarning: fcn returns Nan\n",
      "fcn is called with following arguments:\n",
      "     z = +0.283534\n",
      "    t0 = +56228.539701\n",
      "    x0 = +260447158.749510\n",
      "    x1 = -129.759660\n",
      "     c = +14936.518321\n",
      "\n",
      "  d, l = m.migrad(ncall=maxcall)\n"
     ]
    },
    {
     "name": "stdout",
     "output_type": "stream",
     "text": [
      "number =  392\n"
     ]
    },
    {
     "name": "stderr",
     "output_type": "stream",
     "text": [
      "/global/common/software/lsst/cori-haswell-gcc/stack/w.2018.13_sims2.7.0/stack/miniconda3-4.3.21-10a4fa6/Linux64/sncosmo/12.0-1-g5e70e90+4/lib/python/sncosmo-1.3.0-py3.6-linux-x86_64.egg/sncosmo/fitting.py:428: RuntimeWarning: fcn returns Nan\n",
      "fcn is called with following arguments:\n",
      "     z = +0.283534\n",
      "    t0 = +56136.487812\n",
      "    x0 = +30116677.535621\n",
      "    x1 = -46.137825\n",
      "     c = -171.044459\n",
      "\n",
      "  d, l = m.migrad(ncall=maxcall)\n",
      "/global/common/software/lsst/cori-haswell-gcc/stack/w.2018.13_sims2.7.0/stack/miniconda3-4.3.21-10a4fa6/Linux64/sncosmo/12.0-1-g5e70e90+4/lib/python/sncosmo-1.3.0-py3.6-linux-x86_64.egg/sncosmo/fitting.py:428: RuntimeWarning: fcn returns Nan\n",
      "fcn is called with following arguments:\n",
      "     z = +0.283534\n",
      "    t0 = +56203.279409\n",
      "    x0 = -322246843.876996\n",
      "    x1 = +48.722664\n",
      "     c = +701.659744\n",
      "\n",
      "  d, l = m.migrad(ncall=maxcall)\n"
     ]
    },
    {
     "name": "stdout",
     "output_type": "stream",
     "text": [
      "number =  398\n",
      "number =  400\n",
      "number =  404\n",
      "number =  417\n"
     ]
    },
    {
     "name": "stderr",
     "output_type": "stream",
     "text": [
      "/global/common/software/lsst/cori-haswell-gcc/stack/w.2018.13_sims2.7.0/stack/miniconda3-4.3.21-10a4fa6/Linux64/sncosmo/12.0-1-g5e70e90+4/lib/python/sncosmo-1.3.0-py3.6-linux-x86_64.egg/sncosmo/fitting.py:428: RuntimeWarning: fcn returns Nan\n",
      "fcn is called with following arguments:\n",
      "     z = +0.283534\n",
      "    t0 = +56173.645783\n",
      "    x0 = -459550088.239067\n",
      "    x1 = -3.112870\n",
      "     c = +651.214892\n",
      "\n",
      "  d, l = m.migrad(ncall=maxcall)\n"
     ]
    },
    {
     "name": "stdout",
     "output_type": "stream",
     "text": [
      "number =  424\n",
      "number =  428\n",
      "number =  429\n"
     ]
    },
    {
     "name": "stderr",
     "output_type": "stream",
     "text": [
      "/global/common/software/lsst/cori-haswell-gcc/stack/w.2018.13_sims2.7.0/stack/miniconda3-4.3.21-10a4fa6/Linux64/sncosmo/12.0-1-g5e70e90+4/lib/python/sncosmo-1.3.0-py3.6-linux-x86_64.egg/sncosmo/fitting.py:428: RuntimeWarning: fcn returns Nan\n",
      "fcn is called with following arguments:\n",
      "     z = +0.283534\n",
      "    t0 = +56222.187868\n",
      "    x0 = +620054044.089835\n",
      "    x1 = +173.814870\n",
      "     c = +10164.373998\n",
      "\n",
      "  d, l = m.migrad(ncall=maxcall)\n"
     ]
    },
    {
     "name": "stdout",
     "output_type": "stream",
     "text": [
      "number =  433\n"
     ]
    },
    {
     "name": "stderr",
     "output_type": "stream",
     "text": [
      "/global/common/software/lsst/cori-haswell-gcc/stack/w.2018.13_sims2.7.0/stack/miniconda3-4.3.21-10a4fa6/Linux64/sncosmo/12.0-1-g5e70e90+4/lib/python/sncosmo-1.3.0-py3.6-linux-x86_64.egg/sncosmo/fitting.py:428: RuntimeWarning: fcn returns Nan\n",
      "fcn is called with following arguments:\n",
      "     z = +0.283534\n",
      "    t0 = +56179.872945\n",
      "    x0 = +89905713.398500\n",
      "    x1 = -11.490827\n",
      "     c = -243.146708\n",
      "\n",
      "  d, l = m.migrad(ncall=maxcall)\n"
     ]
    },
    {
     "name": "stdout",
     "output_type": "stream",
     "text": [
      "number =  437\n",
      "number =  443\n",
      "number =  444\n"
     ]
    },
    {
     "name": "stderr",
     "output_type": "stream",
     "text": [
      "/global/common/software/lsst/cori-haswell-gcc/stack/w.2018.13_sims2.7.0/stack/miniconda3-4.3.21-10a4fa6/Linux64/sncosmo/12.0-1-g5e70e90+4/lib/python/sncosmo-1.3.0-py3.6-linux-x86_64.egg/sncosmo/fitting.py:428: RuntimeWarning: fcn returns Nan\n",
      "fcn is called with following arguments:\n",
      "     z = +0.283534\n",
      "    t0 = +56136.393379\n",
      "    x0 = +1224276159.935063\n",
      "    x1 = -51.007031\n",
      "     c = -250.790771\n",
      "\n",
      "  d, l = m.migrad(ncall=maxcall)\n"
     ]
    },
    {
     "name": "stdout",
     "output_type": "stream",
     "text": [
      "number =  447\n",
      "number =  448\n",
      "number =  460\n",
      "number =  464\n",
      "number =  467\n",
      "number =  473\n",
      "number =  475\n",
      "number =  476\n",
      "number =  492\n",
      "number =  494\n",
      "number =  500\n",
      "number =  506\n",
      "number =  511\n"
     ]
    },
    {
     "name": "stderr",
     "output_type": "stream",
     "text": [
      "/global/common/software/lsst/cori-haswell-gcc/stack/w.2018.13_sims2.7.0/stack/miniconda3-4.3.21-10a4fa6/Linux64/sncosmo/12.0-1-g5e70e90+4/lib/python/sncosmo-1.3.0-py3.6-linux-x86_64.egg/sncosmo/fitting.py:428: RuntimeWarning: fcn returns Nan\n",
      "fcn is called with following arguments:\n",
      "     z = +0.283534\n",
      "    t0 = +56228.473915\n",
      "    x0 = -18191998839.386734\n",
      "    x1 = +84.767899\n",
      "     c = +81217.426331\n",
      "\n",
      "  d, l = m.migrad(ncall=maxcall)\n"
     ]
    },
    {
     "name": "stdout",
     "output_type": "stream",
     "text": [
      "number =  532\n",
      "number =  534\n",
      "number =  535\n",
      "number =  536\n",
      "number =  537\n",
      "number =  539\n"
     ]
    },
    {
     "name": "stderr",
     "output_type": "stream",
     "text": [
      "/global/common/software/lsst/cori-haswell-gcc/stack/w.2018.13_sims2.7.0/stack/miniconda3-4.3.21-10a4fa6/Linux64/sncosmo/12.0-1-g5e70e90+4/lib/python/sncosmo-1.3.0-py3.6-linux-x86_64.egg/sncosmo/fitting.py:428: RuntimeWarning: fcn returns Nan\n",
      "fcn is called with following arguments:\n",
      "     z = +0.283534\n",
      "    t0 = +56226.492178\n",
      "    x0 = +1255183260484.791504\n",
      "    x1 = -55.898280\n",
      "     c = +83017.366840\n",
      "\n",
      "  d, l = m.migrad(ncall=maxcall)\n",
      "/global/common/software/lsst/cori-haswell-gcc/stack/w.2018.13_sims2.7.0/stack/miniconda3-4.3.21-10a4fa6/Linux64/sncosmo/12.0-1-g5e70e90+4/lib/python/sncosmo-1.3.0-py3.6-linux-x86_64.egg/sncosmo/fitting.py:428: RuntimeWarning: fcn returns Nan\n",
      "fcn is called with following arguments:\n",
      "     z = +0.283534\n",
      "    t0 = +56113.130852\n",
      "    x0 = -446991737.471188\n",
      "    x1 = -41.697263\n",
      "     c = -238.093816\n",
      "\n",
      "  d, l = m.migrad(ncall=maxcall)\n"
     ]
    },
    {
     "name": "stdout",
     "output_type": "stream",
     "text": [
      "number =  541\n",
      "number =  544\n",
      "number =  546\n",
      "number =  547\n"
     ]
    },
    {
     "name": "stderr",
     "output_type": "stream",
     "text": [
      "/global/common/software/lsst/cori-haswell-gcc/stack/w.2018.13_sims2.7.0/stack/miniconda3-4.3.21-10a4fa6/Linux64/sncosmo/12.0-1-g5e70e90+4/lib/python/sncosmo-1.3.0-py3.6-linux-x86_64.egg/sncosmo/fitting.py:428: RuntimeWarning: fcn returns Nan\n",
      "fcn is called with following arguments:\n",
      "     z = +0.283534\n",
      "    t0 = +56136.803885\n",
      "    x0 = -9289296354.441456\n",
      "    x1 = +24.933960\n",
      "     c = +63904.578879\n",
      "\n",
      "  d, l = m.migrad(ncall=maxcall)\n"
     ]
    },
    {
     "name": "stdout",
     "output_type": "stream",
     "text": [
      "number =  553\n"
     ]
    },
    {
     "name": "stderr",
     "output_type": "stream",
     "text": [
      "/global/common/software/lsst/cori-haswell-gcc/stack/w.2018.13_sims2.7.0/stack/miniconda3-4.3.21-10a4fa6/Linux64/sncosmo/12.0-1-g5e70e90+4/lib/python/sncosmo-1.3.0-py3.6-linux-x86_64.egg/sncosmo/fitting.py:428: RuntimeWarning: fcn returns Nan\n",
      "fcn is called with following arguments:\n",
      "     z = +0.283534\n",
      "    t0 = +56126.220897\n",
      "    x0 = -5579102367.855965\n",
      "    x1 = -4.186555\n",
      "     c = +7298.245120\n",
      "\n",
      "  d, l = m.migrad(ncall=maxcall)\n"
     ]
    },
    {
     "name": "stdout",
     "output_type": "stream",
     "text": [
      "number =  559\n",
      "number =  574\n"
     ]
    },
    {
     "name": "stderr",
     "output_type": "stream",
     "text": [
      "/global/common/software/lsst/cori-haswell-gcc/stack/w.2018.13_sims2.7.0/stack/miniconda3-4.3.21-10a4fa6/Linux64/sncosmo/12.0-1-g5e70e90+4/lib/python/sncosmo-1.3.0-py3.6-linux-x86_64.egg/sncosmo/fitting.py:428: RuntimeWarning: fcn returns Nan\n",
      "fcn is called with following arguments:\n",
      "     z = +0.283534\n",
      "    t0 = +56144.515696\n",
      "    x0 = +27170371.426617\n",
      "    x1 = +13.846884\n",
      "     c = +1111.360249\n",
      "\n",
      "  d, l = m.migrad(ncall=maxcall)\n"
     ]
    },
    {
     "name": "stdout",
     "output_type": "stream",
     "text": [
      "number =  575\n",
      "number =  577\n",
      "number =  584\n"
     ]
    },
    {
     "name": "stderr",
     "output_type": "stream",
     "text": [
      "/global/common/software/lsst/cori-haswell-gcc/stack/w.2018.13_sims2.7.0/stack/miniconda3-4.3.21-10a4fa6/Linux64/sncosmo/12.0-1-g5e70e90+4/lib/python/sncosmo-1.3.0-py3.6-linux-x86_64.egg/sncosmo/fitting.py:428: RuntimeWarning: fcn returns Nan\n",
      "fcn is called with following arguments:\n",
      "     z = +0.283534\n",
      "    t0 = +56209.194159\n",
      "    x0 = +157992131081.161194\n",
      "    x1 = -563.937265\n",
      "     c = -447153.901158\n",
      "\n",
      "  d, l = m.migrad(ncall=maxcall)\n"
     ]
    },
    {
     "name": "stdout",
     "output_type": "stream",
     "text": [
      "number =  586\n",
      "number =  596\n",
      "number =  597\n",
      "number =  608\n",
      "number =  609\n"
     ]
    },
    {
     "name": "stderr",
     "output_type": "stream",
     "text": [
      "/global/common/software/lsst/cori-haswell-gcc/stack/w.2018.13_sims2.7.0/stack/miniconda3-4.3.21-10a4fa6/Linux64/sncosmo/12.0-1-g5e70e90+4/lib/python/sncosmo-1.3.0-py3.6-linux-x86_64.egg/sncosmo/fitting.py:428: RuntimeWarning: fcn returns Nan\n",
      "fcn is called with following arguments:\n",
      "     z = +0.283534\n",
      "    t0 = +56213.984201\n",
      "    x0 = +60911909903.776825\n",
      "    x1 = -950.215278\n",
      "     c = -35331.819045\n",
      "\n",
      "  d, l = m.migrad(ncall=maxcall)\n"
     ]
    },
    {
     "name": "stdout",
     "output_type": "stream",
     "text": [
      "number =  614\n",
      "number =  616\n",
      "number =  621\n"
     ]
    },
    {
     "name": "stderr",
     "output_type": "stream",
     "text": [
      "/global/common/software/lsst/cori-haswell-gcc/stack/w.2018.13_sims2.7.0/stack/miniconda3-4.3.21-10a4fa6/Linux64/sncosmo/12.0-1-g5e70e90+4/lib/python/sncosmo-1.3.0-py3.6-linux-x86_64.egg/sncosmo/fitting.py:428: RuntimeWarning: fcn returns Nan\n",
      "fcn is called with following arguments:\n",
      "     z = +0.283534\n",
      "    t0 = +56213.549287\n",
      "    x0 = -820929083.195444\n",
      "    x1 = +113.657636\n",
      "     c = -1661.335007\n",
      "\n",
      "  d, l = m.migrad(ncall=maxcall)\n",
      "/global/common/software/lsst/cori-haswell-gcc/stack/w.2018.13_sims2.7.0/stack/miniconda3-4.3.21-10a4fa6/Linux64/sncosmo/12.0-1-g5e70e90+4/lib/python/sncosmo-1.3.0-py3.6-linux-x86_64.egg/sncosmo/fitting.py:428: RuntimeWarning: fcn returns Nan\n",
      "fcn is called with following arguments:\n",
      "     z = +0.283534\n",
      "    t0 = +56225.622870\n",
      "    x0 = +13732295.333209\n",
      "    x1 = +19.137107\n",
      "     c = -327.294899\n",
      "\n",
      "  d, l = m.migrad(ncall=maxcall)\n"
     ]
    },
    {
     "name": "stdout",
     "output_type": "stream",
     "text": [
      "number =  630\n",
      "number =  631\n"
     ]
    },
    {
     "name": "stderr",
     "output_type": "stream",
     "text": [
      "/global/common/software/lsst/cori-haswell-gcc/stack/w.2018.13_sims2.7.0/stack/miniconda3-4.3.21-10a4fa6/Linux64/sncosmo/12.0-1-g5e70e90+4/lib/python/sncosmo-1.3.0-py3.6-linux-x86_64.egg/sncosmo/fitting.py:428: RuntimeWarning: fcn returns Nan\n",
      "fcn is called with following arguments:\n",
      "     z = +0.283534\n",
      "    t0 = +56200.572740\n",
      "    x0 = -216444472.266127\n",
      "    x1 = +64.230207\n",
      "     c = +2163.322477\n",
      "\n",
      "  d, l = m.migrad(ncall=maxcall)\n"
     ]
    },
    {
     "name": "stdout",
     "output_type": "stream",
     "text": [
      "number =  638\n"
     ]
    },
    {
     "name": "stderr",
     "output_type": "stream",
     "text": [
      "/global/common/software/lsst/cori-haswell-gcc/stack/w.2018.13_sims2.7.0/stack/miniconda3-4.3.21-10a4fa6/Linux64/sncosmo/12.0-1-g5e70e90+4/lib/python/sncosmo-1.3.0-py3.6-linux-x86_64.egg/sncosmo/fitting.py:428: RuntimeWarning: fcn returns Nan\n",
      "fcn is called with following arguments:\n",
      "     z = +0.283534\n",
      "    t0 = +56226.442967\n",
      "    x0 = -110225375478.495575\n",
      "    x1 = -231.536449\n",
      "     c = -32169.013526\n",
      "\n",
      "  d, l = m.migrad(ncall=maxcall)\n"
     ]
    },
    {
     "name": "stdout",
     "output_type": "stream",
     "text": [
      "number =  641\n"
     ]
    },
    {
     "name": "stderr",
     "output_type": "stream",
     "text": [
      "/global/common/software/lsst/cori-haswell-gcc/stack/w.2018.13_sims2.7.0/stack/miniconda3-4.3.21-10a4fa6/Linux64/sncosmo/12.0-1-g5e70e90+4/lib/python/sncosmo-1.3.0-py3.6-linux-x86_64.egg/sncosmo/fitting.py:428: RuntimeWarning: fcn returns Nan\n",
      "fcn is called with following arguments:\n",
      "     z = +0.283534\n",
      "    t0 = +56229.229682\n",
      "    x0 = -14411049450.890585\n",
      "    x1 = +3.215836\n",
      "     c = +1526.709950\n",
      "\n",
      "  d, l = m.migrad(ncall=maxcall)\n"
     ]
    },
    {
     "name": "stdout",
     "output_type": "stream",
     "text": [
      "number =  651\n",
      "number =  657\n",
      "number =  662\n",
      "number =  665\n",
      "number =  666\n",
      "number =  670\n",
      "number =  672\n",
      "number =  692\n",
      "number =  697\n",
      "number =  706\n",
      "number =  713\n",
      "number =  717\n",
      "number =  718\n"
     ]
    },
    {
     "name": "stderr",
     "output_type": "stream",
     "text": [
      "/global/common/software/lsst/cori-haswell-gcc/stack/w.2018.13_sims2.7.0/stack/miniconda3-4.3.21-10a4fa6/Linux64/sncosmo/12.0-1-g5e70e90+4/lib/python/sncosmo-1.3.0-py3.6-linux-x86_64.egg/sncosmo/fitting.py:428: RuntimeWarning: fcn returns Nan\n",
      "fcn is called with following arguments:\n",
      "     z = +0.283534\n",
      "    t0 = +56139.174476\n",
      "    x0 = +48723489.578884\n",
      "    x1 = -196.386738\n",
      "     c = -1483.931444\n",
      "\n",
      "  d, l = m.migrad(ncall=maxcall)\n"
     ]
    },
    {
     "name": "stdout",
     "output_type": "stream",
     "text": [
      "number =  726\n",
      "number =  729\n",
      "number =  730\n",
      "number =  731\n",
      "number =  737\n",
      "number =  740\n",
      "number =  745\n",
      "number =  747\n"
     ]
    },
    {
     "name": "stderr",
     "output_type": "stream",
     "text": [
      "/global/common/software/lsst/cori-haswell-gcc/stack/w.2018.13_sims2.7.0/stack/miniconda3-4.3.21-10a4fa6/Linux64/sncosmo/12.0-1-g5e70e90+4/lib/python/sncosmo-1.3.0-py3.6-linux-x86_64.egg/sncosmo/fitting.py:428: RuntimeWarning: fcn returns Nan\n",
      "fcn is called with following arguments:\n",
      "     z = +0.283534\n",
      "    t0 = +56225.548577\n",
      "    x0 = +1489226041.329403\n",
      "    x1 = -26.901415\n",
      "     c = +721.352757\n",
      "\n",
      "  d, l = m.migrad(ncall=maxcall)\n"
     ]
    },
    {
     "name": "stdout",
     "output_type": "stream",
     "text": [
      "number =  757\n"
     ]
    },
    {
     "name": "stderr",
     "output_type": "stream",
     "text": [
      "/global/common/software/lsst/cori-haswell-gcc/stack/w.2018.13_sims2.7.0/stack/miniconda3-4.3.21-10a4fa6/Linux64/sncosmo/12.0-1-g5e70e90+4/lib/python/sncosmo-1.3.0-py3.6-linux-x86_64.egg/sncosmo/fitting.py:428: RuntimeWarning: fcn returns Nan\n",
      "fcn is called with following arguments:\n",
      "     z = +0.283534\n",
      "    t0 = +56231.813194\n",
      "    x0 = +202665808.821150\n",
      "    x1 = -29.204451\n",
      "     c = -265.616567\n",
      "\n",
      "  d, l = m.migrad(ncall=maxcall)\n"
     ]
    },
    {
     "name": "stdout",
     "output_type": "stream",
     "text": [
      "number =  767\n",
      "number =  772\n"
     ]
    },
    {
     "name": "stderr",
     "output_type": "stream",
     "text": [
      "/global/common/software/lsst/cori-haswell-gcc/stack/w.2018.13_sims2.7.0/stack/miniconda3-4.3.21-10a4fa6/Linux64/sncosmo/12.0-1-g5e70e90+4/lib/python/sncosmo-1.3.0-py3.6-linux-x86_64.egg/sncosmo/fitting.py:428: RuntimeWarning: fcn returns Nan\n",
      "fcn is called with following arguments:\n",
      "     z = +0.283534\n",
      "    t0 = +56181.390350\n",
      "    x0 = +4165228541.733457\n",
      "    x1 = +61.296762\n",
      "     c = -2276.905825\n",
      "\n",
      "  d, l = m.migrad(ncall=maxcall)\n"
     ]
    },
    {
     "name": "stdout",
     "output_type": "stream",
     "text": [
      "number =  784\n",
      "number =  790\n",
      "number =  798\n",
      "number =  801\n"
     ]
    },
    {
     "name": "stderr",
     "output_type": "stream",
     "text": [
      "/global/common/software/lsst/cori-haswell-gcc/stack/w.2018.13_sims2.7.0/stack/miniconda3-4.3.21-10a4fa6/Linux64/sncosmo/12.0-1-g5e70e90+4/lib/python/sncosmo-1.3.0-py3.6-linux-x86_64.egg/sncosmo/models.py:136: RuntimeWarning: overflow encountered in multiply\n",
      "  fsum = np.sum(f * b.trans * b.wave * b.dwave, axis=1) / HC_ERG_AA\n",
      "/global/common/software/lsst/cori-haswell-gcc/stack/w.2018.13_sims2.7.0/stack/miniconda3-4.3.21-10a4fa6/Linux64/sncosmo/12.0-1-g5e70e90+4/lib/python/sncosmo-1.3.0-py3.6-linux-x86_64.egg/sncosmo/fitting.py:428: RuntimeWarning: fcn returns Nan\n",
      "fcn is called with following arguments:\n",
      "     z = +0.283534\n",
      "    t0 = +56122.595066\n",
      "    x0 = +12806680150.921862\n",
      "    x1 = -56.197061\n",
      "     c = +1394.121733\n",
      "\n",
      "  d, l = m.migrad(ncall=maxcall)\n",
      "/global/common/software/lsst/cori-haswell-gcc/stack/w.2018.13_sims2.7.0/stack/miniconda3-4.3.21-10a4fa6/Linux64/sncosmo/12.0-1-g5e70e90+4/lib/python/sncosmo-1.3.0-py3.6-linux-x86_64.egg/sncosmo/fitting.py:428: RuntimeWarning: fcn returns Nan\n",
      "fcn is called with following arguments:\n",
      "     z = +0.283534\n",
      "    t0 = +56122.757152\n",
      "    x0 = +2710028423.242280\n",
      "    x1 = +285.461829\n",
      "     c = -3275.452978\n",
      "\n",
      "  d, l = m.migrad(ncall=maxcall)\n"
     ]
    },
    {
     "name": "stdout",
     "output_type": "stream",
     "text": [
      "number =  805\n",
      "number =  809\n",
      "number =  814\n",
      "number =  815\n",
      "number =  830\n",
      "number =  835\n",
      "number =  849\n",
      "number =  855\n"
     ]
    },
    {
     "name": "stderr",
     "output_type": "stream",
     "text": [
      "/global/common/software/lsst/cori-haswell-gcc/stack/w.2018.13_sims2.7.0/stack/miniconda3-4.3.21-10a4fa6/Linux64/sncosmo/12.0-1-g5e70e90+4/lib/python/sncosmo-1.3.0-py3.6-linux-x86_64.egg/sncosmo/fitting.py:428: RuntimeWarning: fcn returns Nan\n",
      "fcn is called with following arguments:\n",
      "     z = +0.283534\n",
      "    t0 = +56179.986662\n",
      "    x0 = -1014484632309.994019\n",
      "    x1 = +97.199362\n",
      "     c = +816763.942439\n",
      "\n",
      "  d, l = m.migrad(ncall=maxcall)\n"
     ]
    },
    {
     "name": "stdout",
     "output_type": "stream",
     "text": [
      "number =  862\n"
     ]
    },
    {
     "name": "stderr",
     "output_type": "stream",
     "text": [
      "/global/common/software/lsst/cori-haswell-gcc/stack/w.2018.13_sims2.7.0/stack/miniconda3-4.3.21-10a4fa6/Linux64/sncosmo/12.0-1-g5e70e90+4/lib/python/sncosmo-1.3.0-py3.6-linux-x86_64.egg/sncosmo/fitting.py:428: RuntimeWarning: fcn returns Nan\n",
      "fcn is called with following arguments:\n",
      "     z = +0.283534\n",
      "    t0 = +56178.137151\n",
      "    x0 = +5789939352.653442\n",
      "    x1 = +71.174795\n",
      "     c = -2699.479870\n",
      "\n",
      "  d, l = m.migrad(ncall=maxcall)\n"
     ]
    },
    {
     "name": "stdout",
     "output_type": "stream",
     "text": [
      "number =  872\n",
      "number =  873\n",
      "number =  875\n",
      "number =  879\n"
     ]
    },
    {
     "name": "stderr",
     "output_type": "stream",
     "text": [
      "/global/common/software/lsst/cori-haswell-gcc/stack/w.2018.13_sims2.7.0/stack/miniconda3-4.3.21-10a4fa6/Linux64/sncosmo/12.0-1-g5e70e90+4/lib/python/sncosmo-1.3.0-py3.6-linux-x86_64.egg/sncosmo/fitting.py:428: RuntimeWarning: fcn returns Nan\n",
      "fcn is called with following arguments:\n",
      "     z = +0.283534\n",
      "    t0 = +56164.825446\n",
      "    x0 = +1083242271.740551\n",
      "    x1 = -67.612470\n",
      "     c = -2788.649014\n",
      "\n",
      "  d, l = m.migrad(ncall=maxcall)\n"
     ]
    },
    {
     "name": "stdout",
     "output_type": "stream",
     "text": [
      "number =  887\n",
      "number =  896\n"
     ]
    },
    {
     "name": "stderr",
     "output_type": "stream",
     "text": [
      "/global/common/software/lsst/cori-haswell-gcc/stack/w.2018.13_sims2.7.0/stack/miniconda3-4.3.21-10a4fa6/Linux64/sncosmo/12.0-1-g5e70e90+4/lib/python/sncosmo-1.3.0-py3.6-linux-x86_64.egg/sncosmo/fitting.py:428: RuntimeWarning: fcn returns Nan\n",
      "fcn is called with following arguments:\n",
      "     z = +0.283534\n",
      "    t0 = +56169.594207\n",
      "    x0 = -64517871.689909\n",
      "    x1 = +128.556114\n",
      "     c = -1811.479847\n",
      "\n",
      "  d, l = m.migrad(ncall=maxcall)\n"
     ]
    },
    {
     "name": "stdout",
     "output_type": "stream",
     "text": [
      "number =  900\n",
      "number =  909\n",
      "number =  912\n",
      "number =  914\n"
     ]
    },
    {
     "name": "stderr",
     "output_type": "stream",
     "text": [
      "/global/common/software/lsst/cori-haswell-gcc/stack/w.2018.13_sims2.7.0/stack/miniconda3-4.3.21-10a4fa6/Linux64/sncosmo/12.0-1-g5e70e90+4/lib/python/sncosmo-1.3.0-py3.6-linux-x86_64.egg/sncosmo/fitting.py:428: RuntimeWarning: fcn returns Nan\n",
      "fcn is called with following arguments:\n",
      "     z = +0.283534\n",
      "    t0 = +56154.999762\n",
      "    x0 = +408314181.539022\n",
      "    x1 = +5.666437\n",
      "     c = -259.957961\n",
      "\n",
      "  d, l = m.migrad(ncall=maxcall)\n"
     ]
    },
    {
     "name": "stdout",
     "output_type": "stream",
     "text": [
      "number =  928\n"
     ]
    },
    {
     "name": "stderr",
     "output_type": "stream",
     "text": [
      "/global/common/software/lsst/cori-haswell-gcc/stack/w.2018.13_sims2.7.0/stack/miniconda3-4.3.21-10a4fa6/Linux64/sncosmo/12.0-1-g5e70e90+4/lib/python/sncosmo-1.3.0-py3.6-linux-x86_64.egg/sncosmo/fitting.py:428: RuntimeWarning: fcn returns Nan\n",
      "fcn is called with following arguments:\n",
      "     z = +0.283534\n",
      "    t0 = +56117.434694\n",
      "    x0 = -1180224.175697\n",
      "    x1 = +42.837971\n",
      "     c = +2697.816536\n",
      "\n",
      "  d, l = m.migrad(ncall=maxcall)\n"
     ]
    },
    {
     "name": "stdout",
     "output_type": "stream",
     "text": [
      "number =  934\n",
      "number =  959\n",
      "number =  963\n",
      "number =  964\n"
     ]
    },
    {
     "name": "stderr",
     "output_type": "stream",
     "text": [
      "/global/common/software/lsst/cori-haswell-gcc/stack/w.2018.13_sims2.7.0/stack/miniconda3-4.3.21-10a4fa6/Linux64/sncosmo/12.0-1-g5e70e90+4/lib/python/sncosmo-1.3.0-py3.6-linux-x86_64.egg/sncosmo/fitting.py:428: RuntimeWarning: fcn returns Nan\n",
      "fcn is called with following arguments:\n",
      "     z = +0.283534\n",
      "    t0 = +56122.451642\n",
      "    x0 = -190730512.342052\n",
      "    x1 = -9.971275\n",
      "     c = -254.985500\n",
      "\n",
      "  d, l = m.migrad(ncall=maxcall)\n"
     ]
    },
    {
     "name": "stdout",
     "output_type": "stream",
     "text": [
      "number =  977\n",
      "number =  981\n",
      "number =  984\n"
     ]
    },
    {
     "name": "stderr",
     "output_type": "stream",
     "text": [
      "/global/common/software/lsst/cori-haswell-gcc/stack/w.2018.13_sims2.7.0/stack/miniconda3-4.3.21-10a4fa6/Linux64/sncosmo/12.0-1-g5e70e90+4/lib/python/sncosmo-1.3.0-py3.6-linux-x86_64.egg/sncosmo/fitting.py:428: RuntimeWarning: fcn returns Nan\n",
      "fcn is called with following arguments:\n",
      "     z = +0.283534\n",
      "    t0 = +56128.880651\n",
      "    x0 = -16401825.616814\n",
      "    x1 = +2.854550\n",
      "     c = +496.771543\n",
      "\n",
      "  d, l = m.migrad(ncall=maxcall)\n",
      "/global/common/software/lsst/cori-haswell-gcc/stack/w.2018.13_sims2.7.0/stack/miniconda3-4.3.21-10a4fa6/Linux64/sncosmo/12.0-1-g5e70e90+4/lib/python/sncosmo-1.3.0-py3.6-linux-x86_64.egg/sncosmo/fitting.py:428: RuntimeWarning: fcn returns Nan\n",
      "fcn is called with following arguments:\n",
      "     z = +0.283534\n",
      "    t0 = +56208.408975\n",
      "    x0 = -58260837.497269\n",
      "    x1 = -20.572182\n",
      "     c = +1861.446798\n",
      "\n",
      "  d, l = m.migrad(ncall=maxcall)\n"
     ]
    },
    {
     "name": "stdout",
     "output_type": "stream",
     "text": [
      "number =  986\n",
      "number =  997\n"
     ]
    }
   ],
   "source": [
    "x0err = np.zeros(length)\n",
    "x1err = np.zeros(length)\n",
    "cerr  = np.zeros(length)\n",
    "t0err = np.zeros(length)\n",
    "counter = []\n",
    "\n",
    "for w in range(length):\n",
    "    try:\n",
    "        result, fitted_model = sncosmo.fit_lc(data1[w], model, ['t0', 'x0', 'x1', 'c'], minsnr = 0.01)\n",
    "        x0err[w] = result['errors']['x0'] \n",
    "        x1err[w] = result['errors']['x1'] \n",
    "        cerr[w]  = result['errors']['c'] \n",
    "        t0err[w] = result['errors']['t0'] \n",
    "        counter.append(w)\n",
    "    except:\n",
    "        print (\"number = \", w)\n",
    "        pass"
   ]
  },
  {
   "cell_type": "code",
   "execution_count": null,
   "metadata": {},
   "outputs": [],
   "source": [
    "result, fitted_model = sncosmo.fit_lc(data1[0], model, ['t0', 'x0', 'x1', 'c'], minsnr = 0.5)  "
   ]
  },
  {
   "cell_type": "code",
   "execution_count": 51,
   "metadata": {},
   "outputs": [
    {
     "data": {
      "image/png": "[encoded data removed]",
      "text/plain": [
       "<matplotlib.figure.Figure at 0x2aaaf4c31860>"
      ]
     },
     "execution_count": 51,
     "metadata": {},
     "output_type": "execute_result"
    },
    {
     "data": {
      "image/png": "[encoded data removed]",
      "text/plain": [
       "<matplotlib.figure.Figure at 0x2aaaf4c31860>"
      ]
     },
     "metadata": {},
     "output_type": "display_data"
    }
   ],
   "source": [
    "sncosmo.plot_lc(data1[200], model=fitted_model, errors=result.errors)"
   ]
  },
  {
   "cell_type": "code",
   "execution_count": 47,
   "metadata": {},
   "outputs": [
    {
     "data": {
      "text/plain": [
       "[<matplotlib.lines.Line2D at 0x2aaaf407ca58>]"
      ]
     },
     "execution_count": 47,
     "metadata": {},
     "output_type": "execute_result"
    },
    {
     "data": {
      "image/png": "[encoded data removed]",
      "text/plain": [
       "<matplotlib.figure.Figure at 0x2aaaebf0b128>"
      ]
     },
     "metadata": {},
     "output_type": "display_data"
    }
   ],
   "source": [
    "plt.errorbar(np.sort(zs), vals[Z], yerr= x1err/3e3, color=\"red\")\n",
    "plt.plot(np.sort(zs), vals[Z], \"ob\", label=\"\")\n",
    "\n",
    "#plt.plot(np.sort(zs), vals[Z], \"b\", label=\"\")\n",
    "#plt.plot(zs, vals, \"bo\", alpha=0.4, markeredgecolor=\"black\", label=\"Fitted light-curve\")"
   ]
  },
  {
   "cell_type": "code",
   "execution_count": null,
   "metadata": {},
   "outputs": [],
   "source": []
  }
 ],
 "metadata": {
  "kernelspec": {
   "display_name": "lsst",
   "language": "python",
   "name": "lsst"
  },
  "language_info": {
   "codemirror_mode": {
    "name": "ipython",
    "version": 3
   },
   "file_extension": ".py",
   "mimetype": "text/x-python",
   "name": "python",
   "nbconvert_exporter": "python",
   "pygments_lexer": "ipython3",
   "version": "3.6.3"
  }
 },
 "nbformat": 4,
 "nbformat_minor": 2
}
